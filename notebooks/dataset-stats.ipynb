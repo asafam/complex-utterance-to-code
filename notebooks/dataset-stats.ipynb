{
 "cells": [
  {
   "cell_type": "code",
   "execution_count": 12,
   "metadata": {},
   "outputs": [],
   "source": [
    "%load_ext autoreload\n",
    "%autoreload 2"
   ]
  },
  {
   "cell_type": "code",
   "execution_count": 1,
   "metadata": {},
   "outputs": [],
   "source": [
    "import sys\n",
    "import os \n",
    "\n",
    "WORK_AREA = '/Users/asaf/Workspace/biu/complex-utterance-to-code'\n",
    "os.chdir(WORK_AREA)\n",
    "\n",
    "paths = ['./src/', './src/api/v6', './notebooks/src']\n",
    "for path in paths:\n",
    "    path = os.path.normcase(path)\n",
    "    if not any(os.path.normcase(sp) == path for sp in sys.path):\n",
    "        sys.path.append(path)"
   ]
  },
  {
   "cell_type": "code",
   "execution_count": 33,
   "metadata": {},
   "outputs": [],
   "source": [
    "from typing import Union, List\n",
    "import glob\n",
    "import pandas as pd\n",
    "import numpy as np\n",
    "import tqdm\n",
    "from transformers import GPT2TokenizerFast\n",
    "import math\n",
    "import tokenize\n",
    "from datetime import datetime\n",
    "import time\n",
    "import json\n",
    "import re\n",
    "from llm.prompts import *"
   ]
  },
  {
   "cell_type": "markdown",
   "metadata": {},
   "source": [
    "## Evaluation data"
   ]
  },
  {
   "cell_type": "code",
   "execution_count": null,
   "metadata": {},
   "outputs": [],
   "source": [
    "FILE_NAME = 'eval_complex_utterance_to_code_with_intermediate_152_20231112.csv.gz'\n",
    "BASE_PATH = '/Users/asaf/Workspace/biu/complex-utterance-to-code/build'\n",
    "\n",
    "def load_eval_data(file_name: str = FILE_NAME, base_path: str = BASE_PATH) -> pd.DataFrame:\n",
    "    eval_df = pd.read_csv(os.path.join(base_path, file_name))\n",
    "    eval_df = eval_df.reset_index()  # make sure indexes pair with number of rows\n",
    "    return eval_df"
   ]
  },
  {
   "attachments": {},
   "cell_type": "markdown",
   "metadata": {},
   "source": [
    "## Building a prompt"
   ]
  },
  {
   "cell_type": "code",
   "execution_count": 34,
   "metadata": {},
   "outputs": [
    {
     "ename": "NameError",
     "evalue": "name 'examples_df' is not defined",
     "output_type": "error",
     "traceback": [
      "\u001b[0;31m---------------------------------------------------------------------------\u001b[0m",
      "\u001b[0;31mNameError\u001b[0m                                 Traceback (most recent call last)",
      "Cell \u001b[0;32mIn[34], line 1\u001b[0m\n\u001b[0;32m----> 1\u001b[0m prompt \u001b[38;5;241m=\u001b[39m build_example_prompt(input_value\u001b[38;5;241m=\u001b[39m\u001b[43mexamples_df\u001b[49m[\u001b[38;5;124m'\u001b[39m\u001b[38;5;124mtext\u001b[39m\u001b[38;5;124m'\u001b[39m][\u001b[38;5;241m0\u001b[39m], input_label\u001b[38;5;241m=\u001b[39m\u001b[38;5;124m\"\u001b[39m\u001b[38;5;124mText\u001b[39m\u001b[38;5;124m\"\u001b[39m, output_value\u001b[38;5;241m=\u001b[39mexamples_df[\u001b[38;5;124m'\u001b[39m\u001b[38;5;124mcode\u001b[39m\u001b[38;5;124m'\u001b[39m][\u001b[38;5;241m0\u001b[39m], output_label\u001b[38;5;241m=\u001b[39m\u001b[38;5;124m\"\u001b[39m\u001b[38;5;124mCode\u001b[39m\u001b[38;5;124m\"\u001b[39m)\n\u001b[1;32m      2\u001b[0m \u001b[38;5;28mprint\u001b[39m(json\u001b[38;5;241m.\u001b[39mdumps(prompt, indent\u001b[38;5;241m=\u001b[39m\u001b[38;5;241m2\u001b[39m))\n",
      "\u001b[0;31mNameError\u001b[0m: name 'examples_df' is not defined"
     ]
    }
   ],
   "source": [
    "prompt = build_example_prompt(input_value=examples_df['text'][0], input_label=\"Text\", output_value=examples_df['code'][0], output_label=\"Code\")\n",
    "print(json.dumps(prompt, indent=2))\n"
   ]
  },
  {
   "cell_type": "code",
   "execution_count": 18,
   "metadata": {},
   "outputs": [
    {
     "name": "stdout",
     "output_type": "stream",
     "text": [
      "Base prompt tokens length: 900\n"
     ]
    }
   ],
   "source": [
    "input_data = examples_df.iloc[0]\n",
    "prompt = build_prompt(strategy=\"rep2rep\", prompt_type='examples', input_data=input_data, examples_df=examples_df, examples_limit=2)\n",
    "prompt_str = \"\".join([p['content'] for p in prompt if p['role'] == 'user'])\n",
    "\n",
    "tokenizer = GPT2TokenizerFast.from_pretrained(\"gpt2\")\n",
    "base_prompt_tokens_len = len(tokenizer(prompt_str, max_length=51200, truncation=True)[\"input_ids\"])\n",
    "print(f\"Base prompt tokens length: {base_prompt_tokens_len}\")"
   ]
  },
  {
   "cell_type": "code",
   "execution_count": 19,
   "metadata": {},
   "outputs": [
    {
     "data": {
      "text/plain": [
       "'[ root\\n\\t[ S\\n\\t\\t[ Command\\n\\t\\t\\t[ Action\\n\\t\\t\\t\\t[ hd\\n\\t\\t\\t\\t\\t[ see ]\\n\\t\\t\\t\\t]\\n\\t\\t\\t\\t[ advcl\\n\\t\\t\\t\\t\\t[ mark\\n\\t\\t\\t\\t\\t\\t[ if ]\\n\\t\\t\\t\\t\\t]\\n\\t\\t\\t\\t\\t[ Command\\n\\t\\t\\t\\t\\t\\t[ Action\\n\\t\\t\\t\\t\\t\\t\\t[ hd\\n\\t\\t\\t\\t\\t\\t\\t\\t[ find ]\\n\\t\\t\\t\\t\\t\\t\\t]\\n\\t\\t\\t\\t\\t\\t\\t[ Arg\\n\\t\\t\\t\\t\\t\\t\\t\\t[ obj\\n\\t\\t\\t\\t\\t\\t\\t\\t\\t[ nmod:poss\\n\\t\\t\\t\\t\\t\\t\\t\\t\\t\\t[ my ]\\n\\t\\t\\t\\t\\t\\t\\t\\t\\t]\\n\\t\\t\\t\\t\\t\\t\\t\\t\\t[ amod\\n\\t\\t\\t\\t\\t\\t\\t\\t\\t\\t[ first ]\\n\\t\\t\\t\\t\\t\\t\\t\\t\\t]\\n\\t\\t\\t\\t\\t\\t\\t\\t\\t[ hd\\n\\t\\t\\t\\t\\t\\t\\t\\t\\t\\t[ reminders ]\\n\\t\\t\\t\\t\\t\\t\\t\\t\\t]\\n\\t\\t\\t\\t\\t\\t\\t\\t]\\n\\t\\t\\t\\t\\t\\t\\t]\\n\\t\\t\\t\\t\\t\\t\\t[ mark\\n\\t\\t\\t\\t\\t\\t\\t\\t[ that ]\\n\\t\\t\\t\\t\\t\\t\\t]\\n\\t\\t\\t\\t\\t\\t\\t[ ccomp\\n\\t\\t\\t\\t\\t\\t\\t\\t[ Command\\n\\t\\t\\t\\t\\t\\t\\t\\t\\t[ Action\\n\\t\\t\\t\\t\\t\\t\\t\\t\\t\\t[ Arg\\n\\t\\t\\t\\t\\t\\t\\t\\t\\t\\t\\t[ nsubj\\n\\t\\t\\t\\t\\t\\t\\t\\t\\t\\t\\t\\t[ I ]\\n\\t\\t\\t\\t\\t\\t\\t\\t\\t\\t\\t]\\n\\t\\t\\t\\t\\t\\t\\t\\t\\t\\t]\\n\\t\\t\\t\\t\\t\\t\\t\\t\\t\\t[ hd\\n\\t\\t\\t\\t\\t\\t\\t\\t\\t\\t\\t[ have ]\\n\\t\\t\\t\\t\\t\\t\\t\\t\\t\\t]\\n\\t\\t\\t\\t\\t\\t\\t\\t\\t\\t[ Arg\\n\\t\\t\\t\\t\\t\\t\\t\\t\\t\\t\\t[ obj\\n\\t\\t\\t\\t\\t\\t\\t\\t\\t\\t\\t\\t[ det\\n\\t\\t\\t\\t\\t\\t\\t\\t\\t\\t\\t\\t\\t[ a ]\\n\\t\\t\\t\\t\\t\\t\\t\\t\\t\\t\\t\\t]\\n\\t\\t\\t\\t\\t\\t\\t\\t\\t\\t\\t\\t[ hd\\n\\t\\t\\t\\t\\t\\t\\t\\t\\t\\t\\t\\t\\t[ meeting ]\\n\\t\\t\\t\\t\\t\\t\\t\\t\\t\\t\\t\\t]\\n\\t\\t\\t\\t\\t\\t\\t\\t\\t\\t\\t\\t[ nmod\\n\\t\\t\\t\\t\\t\\t\\t\\t\\t\\t\\t\\t\\t[ case\\n\\t\\t\\t\\t\\t\\t\\t\\t\\t\\t\\t\\t\\t\\t[ at ]\\n\\t\\t\\t\\t\\t\\t\\t\\t\\t\\t\\t\\t\\t]\\n\\t\\t\\t\\t\\t\\t\\t\\t\\t\\t\\t\\t\\t[ hd\\n\\t\\t\\t\\t\\t\\t\\t\\t\\t\\t\\t\\t\\t\\t[ 3 ]\\n\\t\\t\\t\\t\\t\\t\\t\\t\\t\\t\\t\\t\\t]\\n\\t\\t\\t\\t\\t\\t\\t\\t\\t\\t\\t\\t\\t[ nmod:tmod\\n\\t\\t\\t\\t\\t\\t\\t\\t\\t\\t\\t\\t\\t\\t[ pm ]\\n\\t\\t\\t\\t\\t\\t\\t\\t\\t\\t\\t\\t\\t]\\n\\t\\t\\t\\t\\t\\t\\t\\t\\t\\t\\t\\t]\\n\\t\\t\\t\\t\\t\\t\\t\\t\\t\\t\\t]\\n\\t\\t\\t\\t\\t\\t\\t\\t\\t\\t]\\n\\t\\t\\t\\t\\t\\t\\t\\t\\t]\\n\\t\\t\\t\\t\\t\\t\\t\\t]\\n\\t\\t\\t\\t\\t\\t\\t\\t[ cc\\n\\t\\t\\t\\t\\t\\t\\t\\t\\t[ and ]\\n\\t\\t\\t\\t\\t\\t\\t\\t]\\n\\t\\t\\t\\t\\t\\t\\t\\t[ Command_conj\\n\\t\\t\\t\\t\\t\\t\\t\\t\\t[ Condition\\n\\t\\t\\t\\t\\t\\t\\t\\t\\t\\t[ If\\n\\t\\t\\t\\t\\t\\t\\t\\t\\t\\t\\t[ Body\\n\\t\\t\\t\\t\\t\\t\\t\\t\\t\\t\\t\\t[ Command\\n\\t\\t\\t\\t\\t\\t\\t\\t\\t\\t\\t\\t\\t[ Action\\n\\t\\t\\t\\t\\t\\t\\t\\t\\t\\t\\t\\t\\t\\t[ expl\\n\\t\\t\\t\\t\\t\\t\\t\\t\\t\\t\\t\\t\\t\\t\\t[ there ]\\n\\t\\t\\t\\t\\t\\t\\t\\t\\t\\t\\t\\t\\t\\t]\\n\\t\\t\\t\\t\\t\\t\\t\\t\\t\\t\\t\\t\\t\\t[ hd\\n\\t\\t\\t\\t\\t\\t\\t\\t\\t\\t\\t\\t\\t\\t\\t[ are ]\\n\\t\\t\\t\\t\\t\\t\\t\\t\\t\\t\\t\\t\\t\\t]\\n\\t\\t\\t\\t\\t\\t\\t\\t\\t\\t\\t\\t\\t]\\n\\t\\t\\t\\t\\t\\t\\t\\t\\t\\t\\t\\t]\\n\\t\\t\\t\\t\\t\\t\\t\\t\\t\\t\\t\\t[ cc\\n\\t\\t\\t\\t\\t\\t\\t\\t\\t\\t\\t\\t\\t[ and ]\\n\\t\\t\\t\\t\\t\\t\\t\\t\\t\\t\\t\\t]\\n\\t\\t\\t\\t\\t\\t\\t\\t\\t\\t\\t\\t[ Command_conj\\n\\t\\t\\t\\t\\t\\t\\t\\t\\t\\t\\t\\t\\t[ Action\\n\\t\\t\\t\\t\\t\\t\\t\\t\\t\\t\\t\\t\\t\\t[ hd\\n\\t\\t\\t\\t\\t\\t\\t\\t\\t\\t\\t\\t\\t\\t\\t[ see ]\\n\\t\\t\\t\\t\\t\\t\\t\\t\\t\\t\\t\\t\\t\\t]\\n\\t\\t\\t\\t\\t\\t\\t\\t\\t\\t\\t\\t\\t]\\n\\t\\t\\t\\t\\t\\t\\t\\t\\t\\t\\t\\t]\\n\\t\\t\\t\\t\\t\\t\\t\\t\\t\\t\\t]\\n\\t\\t\\t\\t\\t\\t\\t\\t\\t\\t\\t[ mark\\n\\t\\t\\t\\t\\t\\t\\t\\t\\t\\t\\t\\t[ if ]\\n\\t\\t\\t\\t\\t\\t\\t\\t\\t\\t\\t]\\n\\t\\t\\t\\t\\t\\t\\t\\t\\t\\t\\t[ Test\\n\\t\\t\\t\\t\\t\\t\\t\\t\\t\\t\\t\\t[ Command\\n\\t\\t\\t\\t\\t\\t\\t\\t\\t\\t\\t\\t\\t[ Action\\n\\t\\t\\t\\t\\t\\t\\t\\t\\t\\t\\t\\t\\t\\t[ Arg\\n\\t\\t\\t\\t\\t\\t\\t\\t\\t\\t\\t\\t\\t\\t\\t[ nsubj\\n\\t\\t\\t\\t\\t\\t\\t\\t\\t\\t\\t\\t\\t\\t\\t\\t[ I ]\\n\\t\\t\\t\\t\\t\\t\\t\\t\\t\\t\\t\\t\\t\\t\\t]\\n\\t\\t\\t\\t\\t\\t\\t\\t\\t\\t\\t\\t\\t\\t]\\n\\t\\t\\t\\t\\t\\t\\t\\t\\t\\t\\t\\t\\t\\t[ hd\\n\\t\\t\\t\\t\\t\\t\\t\\t\\t\\t\\t\\t\\t\\t\\t[ got ]\\n\\t\\t\\t\\t\\t\\t\\t\\t\\t\\t\\t\\t\\t\\t]\\n\\t\\t\\t\\t\\t\\t\\t\\t\\t\\t\\t\\t\\t\\t[ Arg\\n\\t\\t\\t\\t\\t\\t\\t\\t\\t\\t\\t\\t\\t\\t\\t[ obj\\n\\t\\t\\t\\t\\t\\t\\t\\t\\t\\t\\t\\t\\t\\t\\t\\t[ det\\n\\t\\t\\t\\t\\t\\t\\t\\t\\t\\t\\t\\t\\t\\t\\t\\t\\t[ a ]\\n\\t\\t\\t\\t\\t\\t\\t\\t\\t\\t\\t\\t\\t\\t\\t\\t]\\n\\t\\t\\t\\t\\t\\t\\t\\t\\t\\t\\t\\t\\t\\t\\t\\t[ hd\\n\\t\\t\\t\\t\\t\\t\\t\\t\\t\\t\\t\\t\\t\\t\\t\\t\\t[ reminder ]\\n\\t\\t\\t\\t\\t\\t\\t\\t\\t\\t\\t\\t\\t\\t\\t\\t]\\n\\t\\t\\t\\t\\t\\t\\t\\t\\t\\t\\t\\t\\t\\t\\t\\t[ nmod\\n\\t\\t\\t\\t\\t\\t\\t\\t\\t\\t\\t\\t\\t\\t\\t\\t\\t[ case\\n\\t\\t\\t\\t\\t\\t\\t\\t\\t\\t\\t\\t\\t\\t\\t\\t\\t\\t[ at ]\\n\\t\\t\\t\\t\\t\\t\\t\\t\\t\\t\\t\\t\\t\\t\\t\\t\\t]\\n\\t\\t\\t\\t\\t\\t\\t\\t\\t\\t\\t\\t\\t\\t\\t\\t\\t[ hd\\n\\t\\t\\t\\t\\t\\t\\t\\t\\t\\t\\t\\t\\t\\t\\t\\t\\t\\t[ mindnight ]\\n\\t\\t\\t\\t\\t\\t\\t\\t\\t\\t\\t\\t\\t\\t\\t\\t\\t]\\n\\t\\t\\t\\t\\t\\t\\t\\t\\t\\t\\t\\t\\t\\t\\t\\t]\\n\\t\\t\\t\\t\\t\\t\\t\\t\\t\\t\\t\\t\\t\\t\\t]\\n\\t\\t\\t\\t\\t\\t\\t\\t\\t\\t\\t\\t\\t\\t]\\n\\t\\t\\t\\t\\t\\t\\t\\t\\t\\t\\t\\t\\t\\t[ Arg\\n\\t\\t\\t\\t\\t\\t\\t\\t\\t\\t\\t\\t\\t\\t\\t[ obl\\n\\t\\t\\t\\t\\t\\t\\t\\t\\t\\t\\t\\t\\t\\t\\t\\t[ case\\n\\t\\t\\t\\t\\t\\t\\t\\t\\t\\t\\t\\t\\t\\t\\t\\t\\t[ in ]\\n\\t\\t\\t\\t\\t\\t\\t\\t\\t\\t\\t\\t\\t\\t\\t\\t]\\n\\t\\t\\t\\t\\t\\t\\t\\t\\t\\t\\t\\t\\t\\t\\t\\t[ nummod\\n\\t\\t\\t\\t\\t\\t\\t\\t\\t\\t\\t\\t\\t\\t\\t\\t\\t[ 2 ]\\n\\t\\t\\t\\t\\t\\t\\t\\t\\t\\t\\t\\t\\t\\t\\t\\t]\\n\\t\\t\\t\\t\\t\\t\\t\\t\\t\\t\\t\\t\\t\\t\\t\\t[ hd\\n\\t\\t\\t\\t\\t\\t\\t\\t\\t\\t\\t\\t\\t\\t\\t\\t\\t[ days ]\\n\\t\\t\\t\\t\\t\\t\\t\\t\\t\\t\\t\\t\\t\\t\\t\\t]\\n\\t\\t\\t\\t\\t\\t\\t\\t\\t\\t\\t\\t\\t\\t\\t]\\n\\t\\t\\t\\t\\t\\t\\t\\t\\t\\t\\t\\t\\t\\t]\\n\\t\\t\\t\\t\\t\\t\\t\\t\\t\\t\\t\\t\\t\\t[ mark\\n\\t\\t\\t\\t\\t\\t\\t\\t\\t\\t\\t\\t\\t\\t\\t[ to ]\\n\\t\\t\\t\\t\\t\\t\\t\\t\\t\\t\\t\\t\\t\\t]\\n\\t\\t\\t\\t\\t\\t\\t\\t\\t\\t\\t\\t\\t\\t[ advcl\\n\\t\\t\\t\\t\\t\\t\\t\\t\\t\\t\\t\\t\\t\\t\\t[ Command\\n\\t\\t\\t\\t\\t\\t\\t\\t\\t\\t\\t\\t\\t\\t\\t\\t[ Action\\n\\t\\t\\t\\t\\t\\t\\t\\t\\t\\t\\t\\t\\t\\t\\t\\t\\t[ hd\\n\\t\\t\\t\\t\\t\\t\\t\\t\\t\\t\\t\\t\\t\\t\\t\\t\\t\\t[ bring ]\\n\\t\\t\\t\\t\\t\\t\\t\\t\\t\\t\\t\\t\\t\\t\\t\\t\\t]\\n\\t\\t\\t\\t\\t\\t\\t\\t\\t\\t\\t\\t\\t\\t\\t\\t\\t[ Arg\\n\\t\\t\\t\\t\\t\\t\\t\\t\\t\\t\\t\\t\\t\\t\\t\\t\\t\\t[ obj\\n\\t\\t\\t\\t\\t\\t\\t\\t\\t\\t\\t\\t\\t\\t\\t\\t\\t\\t\\t[ det\\n\\t\\t\\t\\t\\t\\t\\t\\t\\t\\t\\t\\t\\t\\t\\t\\t\\t\\t\\t\\t[ the ]\\n\\t\\t\\t\\t\\t\\t\\t\\t\\t\\t\\t\\t\\t\\t\\t\\t\\t\\t\\t]\\n\\t\\t\\t\\t\\t\\t\\t\\t\\t\\t\\t\\t\\t\\t\\t\\t\\t\\t\\t[ hd\\n\\t\\t\\t\\t\\t\\t\\t\\t\\t\\t\\t\\t\\t\\t\\t\\t\\t\\t\\t\\t[ keys ]\\n\\t\\t\\t\\t\\t\\t\\t\\t\\t\\t\\t\\t\\t\\t\\t\\t\\t\\t\\t]\\n\\t\\t\\t\\t\\t\\t\\t\\t\\t\\t\\t\\t\\t\\t\\t\\t\\t\\t]\\n\\t\\t\\t\\t\\t\\t\\t\\t\\t\\t\\t\\t\\t\\t\\t\\t\\t]\\n\\t\\t\\t\\t\\t\\t\\t\\t\\t\\t\\t\\t\\t\\t\\t\\t]\\n\\t\\t\\t\\t\\t\\t\\t\\t\\t\\t\\t\\t\\t\\t\\t]\\n\\t\\t\\t\\t\\t\\t\\t\\t\\t\\t\\t\\t\\t\\t]\\n\\t\\t\\t\\t\\t\\t\\t\\t\\t\\t\\t\\t\\t]\\n\\t\\t\\t\\t\\t\\t\\t\\t\\t\\t\\t\\t]\\n\\t\\t\\t\\t\\t\\t\\t\\t\\t\\t\\t]\\n\\t\\t\\t\\t\\t\\t\\t\\t\\t\\t]\\n\\t\\t\\t\\t\\t\\t\\t\\t\\t]\\n\\t\\t\\t\\t\\t\\t\\t\\t]\\n\\t\\t\\t\\t\\t\\t\\t]\\n\\t\\t\\t\\t\\t\\t]\\n\\t\\t\\t\\t\\t]\\n\\t\\t\\t\\t]\\n\\t\\t\\t]\\n\\t\\t]\\n\\t]\\n]\\n'"
      ]
     },
     "execution_count": 19,
     "metadata": {},
     "output_type": "execute_result"
    }
   ],
   "source": [
    "examples_df.iloc[0]['lang_rep']"
   ]
  },
  {
   "cell_type": "code",
   "execution_count": 20,
   "metadata": {},
   "outputs": [
    {
     "data": {
      "text/plain": [
       "'[ root [ S [ Command [ Action [ hd [ see ] ] [ advcl [ mark [ if ] ] [ Command [ Action [ hd [ find ] ] [ Arg [ obj [ nmod:poss [ my ] ] [ amod [ first ] ] [ hd [ reminders ] ] ] ] [ mark [ that ] ] [ ccomp [ Command [ Action [ Arg [ nsubj [ I ] ] ] [ hd [ have ] ] [ Arg [ obj [ det [ a ] ] [ hd [ meeting ] ] [ nmod [ case [ at ] ] [ hd [ 3 ] ] [ nmod:tmod [ pm ] ] ] ] ] ] ] [ cc [ and ] ] [ Command_conj [ Condition [ If [ Body [ Command [ Action [ expl [ there ] ] [ hd [ are ] ] ] ] [ cc [ and ] ] [ Command_conj [ Action [ hd [ see ] ] ] ] ] [ mark [ if ] ] [ Test [ Command [ Action [ Arg [ nsubj [ I ] ] ] [ hd [ got ] ] [ Arg [ obj [ det [ a ] ] [ hd [ reminder ] ] [ nmod [ case [ at ] ] [ hd [ mindnight ] ] ] ] ] [ Arg [ obl [ case [ in ] ] [ nummod [ 2 ] ] [ hd [ days ] ] ] ] [ mark [ to ] ] [ advcl [ Command [ Action [ hd [ bring ] ] [ Arg [ obj [ det [ the ] ] [ hd [ keys ] ] ] ] ] ] ] ] ] ] ] ] ] ] ] ] ] ] ] ] ] '"
      ]
     },
     "execution_count": 20,
     "metadata": {},
     "output_type": "execute_result"
    }
   ],
   "source": [
    "re.sub(\"\\s+\", \" \", examples_df.iloc[0]['lang_rep'])"
   ]
  },
  {
   "cell_type": "code",
   "execution_count": 21,
   "metadata": {},
   "outputs": [
    {
     "name": "stdout",
     "output_type": "stream",
     "text": [
      "Base prompt tokens length: 16317\n",
      "[\n",
      "  {\n",
      "    \"role\": \"system\",\n",
      "    \"content\": \"You are a skilled programmer. You will be provided with a variation of a Universal Dependencies (UD) tree and your task is to convert it into a dense variation of an Abstract Syntax Tree (AST) suitable for Python code.\"\n",
      "  },\n",
      "  {\n",
      "    \"role\": \"user\",\n",
      "    \"content\": \"Below are API specifications for implementing the corresponding dense AST for Python code.\\n\\n# MAP:\\n\\nclass Map(Action):\\n    \\\"\\\"\\\"\\n    The Map class contains all the methods of a virtual assistant agent in the map domain.\\n    \\\"\\\"\\\"\\n\\n    @classmethod\\n    def find_on_map(cls, location: Location) -> List[MapEntity]:\\n        \\\"\\\"\\\"\\n        This class method finds places on the map.\\n\\n        Parameters\\n        ----------\\n        location : Location\\n            The location to search for\\n\\n        Returns\\n        -------\\n        List[MapEntity]\\n            A list of places in the form of map entities\\n        \\\"\\\"\\\"\\n        pass\\n\\n# SHOPPING:\\n\\nclass Shopping(Action):\\n    \\\"\\\"\\\"\\n    The Shopping class contains all the methods of a virtual assistant agent in the shopping domain.\\n    \\\"\\\"\\\"\\n\\n    @classmethod\\n    def find_products(\\n        cls,\\n        product_name: Optional[ProductName] = None,\\n        product_attribute: Optional[ProductAttribute] = None,\\n        date_time: Optional[Union[DateTime, List[DateTime]]] = None,\\n        location: Optional[Location] = None,\\n    ) -> List[ProductEntity]:\\n        \\\"\\\"\\\"\\n        This class method find products based on the given parameters.\\n\\n        Parameters\\n        ----------\\n        product_name : ProductName, optional\\n            The name of the product to find\\n        product_attribute : ProductAttribute, optional\\n            The attribute of the product to find (e.g., available, on sale, etc.)\\n        date_time : DateTime, optional\\n            The date and time to find the product at\\n        location : Location, optional\\n            The location (usually the store) to find the product at\\n\\n        Returns\\n        -------\\n        List[ProductEntity]\\n            The list of weather forecasts that were found\\n        \\\"\\\"\\\"\\n        data_model = DataModel()\\n        data = data_model.get_data(ProductEntity)\\n        if product_name:\\n            data = [x for x in data if x.product_name == product_name]\\n\\n        if product_attribute:\\n            data = [x for x in data if x.product_attribute == product_attribute]\\n\\n        if date_time:\\n            if type(date_time) == list:\\n                data = [x for x in data if x.date_time in date_time]\\n            else:\\n                data = [x for x in data if x.date_time == date_time]\\n\\n        if location:\\n            data = [x for x in data if x.location == location]\\n\\n        return data\\n\\n    @classmethod\\n    def find_shopping_lists(\\n        cls,\\n        date_time: Optional[Union[DateTime, List[DateTime]]] = None,\\n        location: Optional[Location] = None,\\n    ) -> List[ShoppingListEntity]:\\n        \\\"\\\"\\\"\\n        This class method finds saved shopping list based on the given parameters.\\n\\n        Parameters\\n        ----------\\n        date_time : DateTime, optional\\n            The date and time to find that is associated with the shopping list\\n        location : Location, optional\\n            The location (usually the store) to that is associated with the shopping list\\n\\n        Returns\\n        -------\\n        List[ShoppingListEntity]\\n            A list of shopping list entities that were found\\n        \\\"\\\"\\\"\\n        pass\\n\\n    @classmethod\\n    def add_to_shopping_list(\\n        cls,\\n        shopping_list_name: ShoppingListName,\\n        product_name: Optional[ProductName] = None,\\n        amount: Optional[Amount] = None,\\n    ) -> ShoppingListEntity:\\n        \\\"\\\"\\\"\\n        This class method adds a product to a shopping list.\\n\\n        Parameters\\n        ----------\\n        shopping_list_name : ShoppingListName, optional\\n            The name of the shopping list to add the product to\\n        product_name : ProductName, optional\\n            The name of the product to add to the shopping list\\n        amount : Amount, optional\\n            The amount of products to add to the shopping list\\n\\n        Returns\\n        -------\\n        ShoppingListEntity\\n            The shopping list entity that the product was added to\\n        \\\"\\\"\\\"\\n        pass\\n\\n    @classmethod\\n    def order(\\n        cls,\\n        product_name: Optional[ProductName] = None,\\n        product_attribute: Optional[ProductAttribute] = None,\\n        date_time: Optional[Union[DateTime, List[DateTime]]] = None,\\n        location: Optional[Location] = None,\\n        amount: Optional[Amount] = None,\\n        shopping_list_name: Optional[ShoppingListName] = None,\\n    ) -> OrderEntity:\\n        \\\"\\\"\\\"\\n        This class method places an order for a product.\\n\\n        Parameters\\n        ----------\\n        product_name : ProductName, optional\\n            The name of the product to find\\n        product_attribute : ProductAttribute, optional\\n            The attribute of the product to find (e.g., available, on sale, etc.)\\n        date_time : DateTime, optional\\n            The date and time to find the product at\\n        location : Location, optional\\n            The location (usually the store) to find the product at\\n        amount : Amount, optional\\n            The amount of products to order\\n        shopping_list_name : ShoppingListName, optional\\n            The name of the shopping list that contains the products to order\\n            This parameter is mutually exclusive with the product and amount parameters\\n\\n        Returns\\n        -------\\n        OrderEntity\\n            The order entity that was placed\\n        \\\"\\\"\\\"\\n        pass\\n\\n\\n# MUSIC:\\n\\nclass Music(Action):\\n    \\\"\\\"\\\"\\n    The Music class contains all the methods of a virtual assistant agent in the music domain.\\n    \\\"\\\"\\\"\\n\\n    @classmethod\\n    def play_music(\\n        cls,\\n        album: Optional[Album] = None,\\n        artist: Optional[Artist] = None,\\n        genre: Optional[Genre] = None,\\n        playlist: Optional[Playlist] = None,\\n        song: Optional[Song] = None,\\n        date_time: Optional[DateTime] = None,\\n        music_type: Optional[MusicType] = None,\\n    ) -> List[MusicEntity]:\\n        \\\"\\\"\\\"\\n        This class method plays a music: a song, an album, songs by an artists,\\n        a music genre, a playlist in a specific date and time.\\n        The given params: album, artist, genre, playlist and song are usually mutually exclusive\\n        and are not used in conjunction.\\n\\n        Parameters\\n        ----------\\n        album : Album, optional\\n            The album to play\\n        artist : Artist, optional\\n            The artist to play\\n        genre : Genre, optional\\n            The genre to play\\n        playlist : Playlist, optional\\n            The playlist to play\\n        date_time : DateTime, optional\\n            The date and time to play the music\\n        music_type : MusicType, optional\\n            The type of music to play (usually anything that does not fit in the other categories)\\n\\n        Returns\\n        -------\\n        List[MusicEntity]\\n            A list of MusicEntity objects that represent the music to play\\n        \\\"\\\"\\\"\\n        pass\\n\\n\\n# HOME:\\n\\nclass SmartHome(Action):\\n    \\\"\\\"\\\"\\n    The SmartHome class contains all the methods of a virtual assistant agent in the smart home domain.\\n    \\\"\\\"\\\"\\n    \\n    @classmethod\\n    def find_home_devices(\\n        cls,\\n        device_name: Optional[HomeDeviceName] = None,\\n        device_action: Optional[HomeDeviceAction] = None,\\n        device_value: Optional[HomeDeviceValue] = None,\\n    ) -> List[HomeDeviceEntity]:\\n        \\\"\\\"\\\"\\n        This class method finds smart home devices.\\n\\n        Parameters\\n        ----------\\n        device_name : HomeDeviceName, optional\\n            The device name\\n        device_action : HomeDeviceAction, optional\\n            The action to be performed on the device\\n        device_value : HomeDeviceValue, optional\\n            The action's value to be set on the device\\n\\n        Returns\\n        -------\\n        List[HomeDeviceEntity]\\n            A list of home device entities\\n        \\\"\\\"\\\"\\n        pass\\n\\n    @classmethod\\n    def execute_home_device_action(\\n        cls,\\n        date_time: Optional[DateTime] = None,\\n        device_name: Optional[HomeDeviceName] = None,\\n        device_action: Optional[HomeDeviceAction] = None,\\n        device_value: Optional[HomeDeviceValue] = None,\\n    ) -> HomeDeviceEntity:\\n        \\\"\\\"\\\"\\n        This class method executes given actions on smart home devices.\\n\\n        Parameters\\n        ----------\\n        device_name : HomeDeviceName, optional\\n            The device name\\n        device_action : HomeDeviceAction, optional\\n            The action to be performed on the device\\n        device_value : HomeDeviceValue, optional\\n            The action's value to be set on the device\\n        date_time : DateTime, optional\\n            The date and time of the action\\n\\n        Returns\\n        -------\\n        HomeDeviceEntity\\n            Home device entity action is performed on\\n        \\\"\\\"\\\"\\n        pass\\n\\n# WEATHER:\\n\\nclass Weather(Action):\\n    \\\"\\\"\\\"\\n    The Weather class contains all the methods of a virtual assistant agent in the weather domain.\\n    \\\"\\\"\\\"\\n    \\n    @classmethod\\n    def find_weather_forecasts(\\n        cls,\\n        date_time: Optional[Union[DateTime, List[DateTime]]] = None,\\n        location: Optional[Location] = None,\\n        weather_attribute: Optional[WeatherAttribute] = None,\\n        weather_temperature: Optional[WeatherTemperature] = None,\\n    ) -> List[WeatherForecastEntity]:\\n        \\\"\\\"\\\"\\n        This class method find weather forecasts based on the given parameters.\\n\\n\\n        Parameters\\n        ----------\\n        date_time : DateTime, optional\\n            The date and time to forecast the weather at\\n        location : Location, optional\\n            The location to forecast the weather at\\n        weather_attribute : WeatherAttribute, optional\\n            This parameter can be used to filter the weather forecast on a specific weather attribute\\n        weather_temperature : WeatherTemperature, optional\\n            The weather temperature to forecast (e.g., less than 80 degrees)\\n            This parameter can be used to filter the weather forecast on a specific weather termperature\\n            \\n        Returns\\n        -------\\n        List[WeatherForecastEntity]\\n            The list of weather forecasts that were found\\n        \\\"\\\"\\\"\\n        pass\\n\\n\\n\\n\\n# MESSAGES:\\n\\nclass Messages(Action):\\n    \\\"\\\"\\\"\\n    The Messages class contains all the methods of a virtual assistant agent in the messages domain.\\n    \\\"\\\"\\\"\\n\\n    @classmethod\\n    def find_messages(\\n        cls,\\n        date_time: Optional[DateTime] = None,\\n        sender: Optional[Contact] = None,\\n        recipient: Optional[Contact] = None,\\n        content: Optional[Content] = None,\\n        message_status: Optional[MessageStatus] = None,\\n        message_content_type: Optional[MessageContentType] = None,\\n    ) -> List[MessageEntity]:\\n        \\\"\\\"\\\"\\n        This class method find messages based on the given parameters.\\n\\n        Parameters\\n        ----------\\n        date_time : DateTime, optional\\n            The date and time the message will be sent\\n        sender : Contact, optional\\n            The sender of the message\\n        recipient : Contact, optional\\n            The recipient of the message\\n        content : Content, optional\\n            The content of the message\\n        message_status : MessageStatus, optional\\n            The status of the message (e.g., open, send, read, unread)\\n        message_content_type : MessageContentType, optional\\n            The content type of the message\\n\\n        Returns\\n        -------\\n        List[MessageEntity]\\n            The list of messages that were found\\n        \\\"\\\"\\\"\\n        pass\\n\\n    @classmethod\\n    def send_message(\\n        cls,\\n        recipient: Optional[Contact] = None,\\n        content: Optional[Content] = None,\\n        date_time: Optional[DateTime] = None,\\n        message_content_type: Optional[MessageContentType] = None,\\n    ) -> MessageEntity:\\n        \\\"\\\"\\\"\\n        This class method send messages.\\n\\n        Parameters\\n        ----------\\n        recipient : Contact, optional\\n            The recipient of the message\\n        content : Content, optional\\n            The content of the message\\n        date_time : DateTime, optional\\n            The date and time the message will be sent\\n        message_content_type : MessageContentType, optional\\n            The content type of the message\\n\\n        Returns\\n        -------\\n        MessageEntity\\n            The message that was sent\\n        \\\"\\\"\\\"\\n        pass\\n\\n    @classmethod\\n    def delete_messages(\\n        cls, messages: Union[MessageEntity, List[MessageEntity]]\\n    ) -> List[MessageEntity]:\\n        \\\"\\\"\\\"\\n        This class method deletes messages.\\n\\n        Parameters\\n        ----------\\n        messages : MessageEntity|List[MessageEntity], optional\\n            The messages to be deleted. If a single message is passed, it will be converted to a list.\\n\\n        Returns\\n        -------\\n        List[MessageEntity]\\n            a list of MessageEntity objects that were deleted\\n        \\\"\\\"\\\"\\n        pass\\n\\n\\n# ENTITY:\\n\\nclass Entity:\\n    \\\"\\\"\\\"\\n    The Entity class is the base class for all entities. Entities are used to represent objects in the API.\\n    Any object returned by the API is an entity. \\n    This class is abstract and cannot be instantiated.\\n    \\\"\\\"\\\"\\n\\n    pass\\n\\n\\n# RESOLVABLE:\\n\\nclass Resolvable(Generic[T]):\\n    \\\"\\\"\\\"\\n    The Resolvable class is the base class for all resolvable entities.\\n    Resolvable entities are used to represent parameters in the API.\\n    This class bridges the user intent expressed in natural language and expected objects in the API.\\n    For exmaple, Contact, Location, DateTime, etc. are all resolvable entities.\\n    Resolvable objects are resolve from the user input or from entities recieved from the API.\\n    \\\"\\\"\\\"\\n\\n    # @exception_handler\\n    @classmethod\\n    def resolve_from_text(T, text: str) -> T:\\n        \\\"\\\"\\\"\\n        This class method resolves a resolvable object from the user input.\\n        The resolved text will usually be a phrase within the user instruction.\\n        For exmaple:\\n            * \\\"To San Francisco\\\" will resolve to a Location object.\\n            * \\\"After 8PM\\\" will resolve to a DateTime object.\\n            * \\\"To my cousin John\\\" will resolve to a Contact object.\\n\\n        Parameters\\n        ----------\\n        text : str\\n            The text to recover a Resolvable object from\\n\\n        Returns\\n        -------\\n        T\\n            The resolable template object that is calling this method\\n        \\\"\\\"\\\"\\n        pass\\n\\n    @classmethod\\n    def resolve_many_from_text(T, text: str) -> List[T]:\\n        \\\"\\\"\\\"\\n        This class method resolves a list of resolvable object from the user input.\\n        The resolved text will usually be a phrase within the user instruction. Resolve from many will usually\\n        include a plural form of a noun. Alternatively, it will include a singular noun with a semantics of plural.\\n        For example:\\n            * \\\"Every store in 10 miles radius\\\" will resolve to a list Location objects.\\n            * \\\"The weekend\\\" will be resolved to a list of DateTime objects.\\n            * \\\"My book reading club\\\" will resolve to a list Contact object.\\n\\n        Parameters\\n        ----------\\n        text : str\\n            The text to recover a list of Resolvable objects from\\n\\n        Returns\\n        -------\\n        List[T]\\n            The resolable template object that is calling this method\\n        \\\"\\\"\\\"\\n        pass\\n\\n    # @exception_handler\\n    @classmethod\\n    def resolve_from_entity(\\n        T,\\n        entity: Union[Entity, List[Entity]],\\n        text: Optional[str] = None,\\n    ) -> T:\\n        \\\"\\\"\\\"\\n        This class method resolves a resolvable object from an entity object.\\n        It is possible that we would like to resolve a one resolvable object from another resolvable object.\\n        This scenario is typical when using a result of a previous API call as a parameter for a subsequent API call.\\n        For example:\\n            * \\\"find directions to San Francisco and send them to John\\\". The navigation directions result will be resolved\\n            to a Content object in the subsequent API call to send a message.\\n            * \\\"Find the nearest open pharmacy and navigate to it\\\". The map object will be resolve to a Location object\\n            in the subsequent API call to navigate to it.\\n\\n        Parameters\\n        ----------\\n        entity : Entity\\n            The entity object to recover a Resolvable object from\\n\\n        Returns\\n        -------\\n        T\\n            The resolable template object that is calling this method\\n        \\\"\\\"\\\"\\n\\n        pass\\n\\n\\n# NAVIGATION:\\n\\nclass Navigation(Action):\\n    \\\"\\\"\\\"\\n    The Navigation class contains all the methods of a virtual assistant agent in the navigation domain.\\n    \\\"\\\"\\\"\\n\\n    @classmethod\\n    def find_directions(\\n        cls,\\n        destination: Optional[Location],\\n        origin: Optional[Location] = None,\\n        departure_date_time: Optional[DateTime] = None,\\n        avoid_nav_road_condition: Optional[NavigationRoadCondition] = None,\\n        nav_travel_method: Optional[NavigationTravelMethod] = None,\\n    ) -> List[NavigationDirectionEntity]:\\n        \\\"\\\"\\\"\\n        This class method find directions based on the given parameters.\\n\\n        Parameters\\n        ----------\\n        destination: Location, optional\\n            The destination of the navigation\\n        origin: Location, optional\\n            The origin of the navigation\\n        departure_date_time: DateTime, optional\\n            The date and time the navigation will start\\n        avoid_nav_road_condition: NavigationRoadCondition, optional\\n            The road conditions to avoid\\n        nav_travel_method: NavigationTravelMethod, optional\\n            The travel method to use\\n\\n        Returns\\n        -------\\n        List[NavigationDirectionEntity]\\n            A list of directions that were found\\n        \\\"\\\"\\\"\\n        pass\\n\\n    @classmethod\\n    def find_distance(\\n        cls,\\n        origin: Optional[Location] = None,\\n        destination: Optional[Location] = None,\\n        departure_date_time: Optional[DateTime] = None,\\n        avoid_nav_road_condition: Optional[NavigationRoadCondition] = None,\\n        nav_travel_method: Optional[NavigationTravelMethod] = None,\\n    ) -> List[NavigationDistanceEntity]:\\n        \\\"\\\"\\\"\\n        This class method find the distance between two locations.\\n\\n        Parameters\\n        ----------\\n        origin: Location, optional\\n            The origin of the navigation\\n        destination: Location, optional\\n            The destination of the navigation\\n        departure_date_time: DateTime, optional\\n            The date and time the navigation will start\\n        avoid_nav_road_condition: NavigationRoadCondition, optional\\n            The road conditions to avoid\\n        nav_travel_method: NavigationTravelMethod, optional\\n            The travel method to use\\n\\n        Returns\\n        -------\\n        List[NavigationDistanceEntity]\\n            A list of distances that were found\\n        \\\"\\\"\\\"\\n        pass\\n\\n    @classmethod\\n    def find_duration(\\n        cls,\\n        origin: Optional[Location],\\n        destination: Optional[Location],\\n        departure_date_time: Optional[DateTime],\\n        avoid_nav_road_condition: Optional[NavigationRoadCondition],\\n        nav_travel_method: Optional[NavigationTravelMethod],\\n    ) -> List[NavigationDurationEntity]:\\n        \\\"\\\"\\\"\\n        This class method find the the duration of a travel between two locations.\\n\\n        Parameters\\n        ----------\\n        origin: Location, optional\\n            The origin of the navigation\\n        destination: Location, optional\\n            The destination of the navigation\\n        departure_date_time: DateTime, optional\\n            The date and time the navigation will start\\n        avoid_nav_road_condition: NavigationRoadCondition, optional\\n            The road conditions to avoid\\n        nav_travel_method: NavigationTravelMethod, optional\\n            The travel method to use\\n\\n        Returns\\n        -------\\n        List[NavigationDurationEntity]\\n            A list of durations that were found\\n        \\\"\\\"\\\"\\n        pass\\n\\n    @classmethod\\n    def find_estimated_arrival(\\n        cls,\\n        origin: Optional[Location] = None,\\n        destination: Optional[Location] = None,\\n        arrival_date_time: Optional[DateTime] = None,\\n        avoid_nav_road_condition: Optional[NavigationRoadCondition] = None,\\n        nav_travel_method: Optional[NavigationTravelMethod] = None,\\n    ) -> List[NavigationEstimatedArrivalEntity]:\\n        \\\"\\\"\\\"\\n        This class method gets an estimated arrival information between two locations.\\n\\n        Parameters\\n        ----------\\n        origin: Location, optional\\n            The origin of the navigation\\n        destination: Location, optional\\n            The destination of the navigation\\n        departure_date_time: DateTime, optional\\n            The date and time the navigation will start\\n        avoid_nav_road_condition: NavigationRoadCondition, optional\\n            The road conditions to avoid\\n        nav_travel_method: NavigationTravelMethod, optional\\n            The travel method to use\\n\\n        Returns\\n        -------\\n        List[NavigationEstimatedArrivalEntity]\\n            A list of estimated arrival information objects that were found\\n        \\\"\\\"\\\"\\n        pass\\n\\n    @classmethod\\n    def find_traffic_info(\\n        cls,\\n        location: Optional[Location] = None,\\n        origin: Optional[Location] = None,\\n        destination: Optional[Location] = None,\\n        date_time: Optional[DateTime] = None,\\n        departure_date_time: Optional[DateTime] = None,\\n        nav_road_condition: Optional[NavigationRoadCondition] = None,\\n        nav_travel_method: Optional[NavigationTravelMethod] = None,\\n    ) -> List[NavigationTrafficInfoEntity]:\\n        \\\"\\\"\\\"\\n        This class method returns the traffic information on a specific route, location (like road) or a planned\\n        travel between two locations.\\n\\n        Parameters\\n        ----------\\n        location: Location, optional\\n            The location along the route to get the traffic information for\\n        origin: Location, optional\\n            The origin of the navigation\\n        destination: Location, optional\\n            The destination of the navigation\\n        departure_date_time: DateTime, optional\\n            The date and time the navigation will start\\n        nav_road_condition: NavigationRoadCondition, optional\\n            The road conditions to look for\\n        nav_travel_method: NavigationTravelMethod, optional\\n            The travel method to use\\n\\n        Returns\\n        -------\\n        List[NavigationTrafficInfoEntity]\\n            A list of traffic information objects that were found\\n        \\\"\\\"\\\"\\n        pass\\n\\n\\n# CALENDAR:\\n\\nclass Calendar(Action):\\n    \\\"\\\"\\\"\\n    The Calendar class contains all the methods of a virtual assistant agent in the calendar domain.\\n    \\\"\\\"\\\"\\n\\n    @classmethod\\n    def delete_events(\\n        cls,\\n        date_time: Optional[DateTime] = None,\\n        location: Optional[Location] = None,\\n        event_name: Optional[EventName] = None,\\n        event_calendar: Optional[EventCalendar] = None,\\n        event_category: Optional[EventType] = None,\\n    ) -> List[EventEntity]:\\n        \\\"\\\"\\\"\\n        This class method deletes an event in the calendar.\\n\\n        Parameters\\n        ----------\\n        date_time : DateTime, optional\\n            The date and time of the event\\n        location : Location, optional\\n            The location of the event\\n        event_name : EventName, optional\\n            The name of the event\\n        event_calendar : EventCalendar, optional\\n            The calendar to search for the event\\n        event_category : EventType, optional\\n            The category of the event\\n\\n        Returns\\n        -------\\n        List[EventEntity]\\n            a list of EventEntity objects that were deleted\\n        \\\"\\\"\\\"\\n        pass\\n\\n    @classmethod\\n    def find_events(\\n        cls,\\n        date_time: Optional[DateTime] = None,\\n        location: Optional[Location] = None,\\n        event_name: Optional[EventName] = None,\\n        event_calendar: Optional[EventCalendar] = None,\\n        event_category: Optional[EventType] = None,\\n    ) -> List[EventEntity]:\\n        \\\"\\\"\\\"\\n        This class method finds events in the calendar.\\n\\n        Parameters\\n        ----------\\n        date_time : DateTime, optional\\n            The date and time of the event\\n        location : Location, optional\\n            The location of the event\\n        event_name : EventName, optional\\n            The name of the event\\n        event_calendar : EventCalendar, optional\\n            The calendar to search for the event\\n        event_category : EventType, optional\\n            The category of the event\\n\\n        Returns\\n        -------\\n        List[EventEntity]\\n            A list of EventEntity objects\\n        \\\"\\\"\\\"\\n        pass\\n\\n    @classmethod\\n    def find_events_tickets(\\n        cls,\\n        date_time: Optional[Union[DateTime, List[DateTime]]] = None,\\n        location: Optional[Location] = None,\\n        event_name: Optional[EventName] = None,\\n        event_category: Optional[EventType] = None,\\n        amount: Optional[Amount] = None,\\n    ) -> List[EventTicketEntity]:\\n        \\\"\\\"\\\"\\n        This class method finds tickets for events in the calendar.\\n        It can be used to indicate the availablability of tickets for an event.\\n\\n        Parameters\\n        ----------\\n        date_time : DateTime, optional\\n            The date and time of the event\\n        location : Location, optional\\n            The location of the event\\n        event_name : EventName, optional\\n            The name of the event\\n        event_category : EventType, optional\\n            The category of the event\\n        amount : Amount, optional\\n            The amount of tickets requested for the event\\n\\n        Returns\\n        -------\\n        List[EventTicketEntity]\\n            A list of EventTicketEntity objects that are available for the event\\n        \\\"\\\"\\\"\\n        pass\\n\\n    @classmethod\\n    def purchase_tickets(\\n        cls,\\n        date_time: Optional[DateTime] = None,\\n        location: Optional[Location] = None,\\n        event_name: Optional[EventName] = None,\\n        event_category: Optional[EventType] = None,\\n        amount: Optional[Amount] = None,\\n    ) -> EventTicketEntity:\\n        \\\"\\\"\\\"\\n        This class method purchase tickets for events in the calendar.\\n\\n        Parameters\\n        ----------\\n        date_time : DateTime, optional\\n            The date and time of the event\\n        location : Location, optional\\n            The location of the event\\n        event_name : EventName, optional\\n            The name of the event\\n        event_category : EventType, optional\\n            The category of the event\\n        amount : Amount, optional\\n            The amount of tickets requested for the event\\n\\n        Returns\\n        -------\\n        List[EventTicketEntity]\\n            A list of EventTicketEntity objects that were purchased\\n        \\\"\\\"\\\"\\n        pass\\n\\n    @classmethod\\n    def schedule_event(\\n        cls,\\n        date_time: Optional[DateTime] = None,\\n        location: Optional[Location] = None,\\n        event_name: Optional[EventName] = None,\\n        event_calendar: Optional[EventCalendar] = None,\\n        event_category: Optional[EventType] = None,\\n    ) -> EventEntity:\\n        \\\"\\\"\\\"\\n        This class method schedules an event in the calendar.\\n\\n        Parameters\\n        ----------\\n        date_time : DateTime, optional\\n            The date and time of the event\\n        location : Location, optional\\n            The location of the event\\n        event_name : EventName, optional\\n            The name of the event\\n        event_calendar : EventCalendar, optional\\n            The calendar to search for the event\\n        event_category : EventType, optional\\n            The category of the event\\n\\n        Returns\\n        -------\\n        EventEntity\\n            The event that was scheduled\\n        \\\"\\\"\\\" \\n        pass\\n\\n# CLOCK:\\n\\nclass Timer(Action):\\n    \\\"\\\"\\\"\\n    The Timer class contains all the methods of a virtual assistant agent for using a timer in the clock domain.\\n    \\\"\\\"\\\"\\n\\n    @classmethod\\n    def create_timer(\\n        cls,\\n        duration: Optional[TimeDuration] = None,\\n        date_time: Optional[DateTime] = None,\\n    ) -> TimerEntity:\\n        \\\"\\\"\\\"\\n        This class method creates a timer.\\n        A timer can be defined with a duration or a date and time.\\n        If date and time are not specified, the timer will start immediately.\\n\\n        Parameters\\n        ----------\\n        duration : TimeDuration, optional\\n            The duration of the timer.\\n        date_time : DateTime, optional\\n            The date and time of the timer.\\n\\n        Returns\\n        -------\\n        TimerEntity\\n            The timer entity object\\n        \\\"\\\"\\\"\\n        pass\\n\\n    @abstractclassmethod\\n    def pause(\\n        cls,\\n        timer: Optional[TimerEntity] = None,\\n    ) -> TimerEntity:\\n        \\\"\\\"\\\"\\n        This class method pauses a timer.\\n\\n        Parameters\\n        ----------\\n        timer : Timer, optional\\n            The timer to be paused\\n\\n        Returns\\n        -------\\n        TimerEntity\\n            The timer object that was paused\\n        \\\"\\\"\\\"\\n        pass\\n\\n    @classmethod\\n    def restart(\\n        cls,\\n        timer: Optional[TimerEntity] = None,\\n    ) -> bool:\\n        \\\"\\\"\\\"\\n        This class method restarts a timer.\\n\\n        Parameters\\n        ----------\\n        timer : Timer, optional\\n            The timer to be restarted\\n\\n        Returns\\n        -------\\n        TimerEntity\\n            The timer object that was paused\\n        \\\"\\\"\\\"\\n        pass\\n\\n    @classmethod\\n    def stop(\\n        cls,\\n        timer: Optional[TimerEntity] = None,\\n    ) -> bool:\\n        \\\"\\\"\\\"\\n        This class method stops a timer.\\n\\n        Parameters\\n        ----------\\n        timer : Timer, optional\\n            The timer to be stopped\\n\\n        Returns\\n        -------\\n        TimerEntity\\n            The timer object that was paused\\n        \\\"\\\"\\\"\\n        pass\\n\\n\\nclass Alarm:\\n    \\\"\\\"\\\"\\n    The Alarm class contains all the methods of a virtual assistant agent for using a timer in the clock domain.\\n    \\\"\\\"\\\"\\n\\n    @classmethod\\n    def create_alarm(\\n        cls,\\n        alarm_name: Optional[AlarmName] = None,\\n        date_time: Optional[DateTime] = None,\\n        song: Optional[Song] = None,\\n        content: Optional[Content] = False,\\n    ) -> AlarmEntity:\\n        \\\"\\\"\\\"\\n        This class method creates an alarm.\\n        An alarm is defined with a date and time and can optionally play a song or present a content.\\n\\n        Parameters\\n        ----------\\n        alarm_name: AlarmName, optional\\n            The name of the alarm.\\n        date_time : DateTime, optional\\n            The date and time of the alarm.\\n        song : Song, optional\\n            The song to be played when the alarm is triggered.\\n        content : Content, optional\\n            The content to be presented when the alarm is triggered.\\n\\n        Returns\\n        -------\\n        AlarmEntity\\n            The alarm entity object\\n        \\\"\\\"\\\"\\n        pass\\n\\n    @classmethod\\n    def update_alarm(\\n        cls,\\n        date_time: Optional[DateTime] = None,\\n        alarm_name: Optional[AlarmName] = None,\\n    ) -> AlarmEntity:\\n        \\\"\\\"\\\"\\n        This class method updates an alarm.\\n\\n        Parameters\\n        ----------\\n        date_time : DateTime, optional\\n            The date and time of the alarm.\\n        alarm_name : AlarmName, optional\\n            The alarm name.\\n\\n        Returns\\n        -------\\n        AlarmEntity\\n            The alarm entity object that was updated\\n        \\\"\\\"\\\"\\n        pass\\n\\n    @classmethod\\n    def find_alarms(\\n        cls,\\n        date_time: Optional[DateTime],\\n        alarm_name: Optional[AlarmName],\\n    ) -> List[AlarmEntity]:\\n        \\\"\\\"\\\"\\n        This class method finds existing alarms based on the provided parameters.\\n\\n        Parameters\\n        ----------\\n        date_time : DateTime, optional\\n            The date and time of the alarm.\\n        alarm_name : AlarmName, optional\\n            The alarm name.\\n\\n        Returns\\n        -------\\n        List[AlarmEntity]\\n            The alarm entity object that was updated\\n        \\\"\\\"\\\"\\n        pass\\n\\n# REMINDERS:\\n\\nclass Reminders(Action):\\n    \\\"\\\"\\\"\\n    The Reminders class contains all the methods of a virtual assistant agent in the reminders domain.\\n    \\\"\\\"\\\"\\n\\n    @classmethod\\n    def create_reminder(\\n        cls,\\n        content: Content,\\n        person_reminded: Optional[Contact] = None,\\n        date_time: Optional[DateTime] = None,\\n    ) -> ReminderEntity:\\n        \\\"\\\"\\\"\\n        This class method creates a reminder.\\n\\n        Parameters\\n        ----------\\n        content : Content\\n            The content of the reminder.\\n        person_reminded : Contact, optional\\n            The person to be reminded.\\n        date_time : DateTime, optional\\n            The date and time of the reminder.\\n\\n        Returns\\n        -------\\n        ReminderEntity\\n            The reminder entity object that was created\\n        \\\"\\\"\\\"\\n        pass\\n\\n    @classmethod\\n    def find_reminders(\\n        cls,\\n        person_reminded: Optional[Contact] = None,\\n        date_time: Optional[DateTime] = None,\\n        content: Optional[Content] = None,\\n    ) -> List[ReminderEntity]:\\n        \\\"\\\"\\\"\\n        This class method finds existing reminders.\\n\\n        Parameters\\n        ----------\\n        content : Content\\n            The content of the reminder.\\n        person_reminded : Contact, optional\\n            The person to be reminded.\\n        date_time : DateTime, optional\\n            The date and time of the reminder.\\n\\n        Returns\\n        -------\\n        List[ReminderEntity]\\n            A list of reminder entity objects that were found\\n        \\\"\\\"\\\"\\n        pass\\n\\n    @classmethod\\n    def delete_reminders(\\n        cls, reminders: Union[ReminderEntity, List[ReminderEntity]]\\n    ) -> List[ReminderEntity]:\\n        \\\"\\\"\\\"\\n        This class method delete reminders.\\n\\n        Parameters\\n        ----------\\n        reminders : Union[ReminderEntity, List[ReminderEntity]]\\n            The reminders to be deleted. Can be a single reminder or a list of reminders.\\n\\n        Returns\\n        -------\\n        List[ReminderEntity]\\n            The list of reminders that were deleted\\n        \\\"\\\"\\\"\\n        pass\\n\\n\\n# GENERIC:\\n\\nclass Content(Entity, Resolvable):\\n    \\\"\\\"\\\"\\n    The Content class is used to represent a content like a text, a voice, an image, a video, etc.\\n    This is a generic class that can be used to represent any content. for exmaple, like in a message\\n    or a reminder.\\n    The content can also be casted from any other entity. For example, a driving directions instruction\\n    can be casted to a content.\\n    It inherits from the Entity class and the Resolvable class.\\n    \\\"\\\"\\\"\\n\\n    pass\\n\\n\\nclass Contact(Entity, Resolvable):\\n    \\\"\\\"\\\"\\n    The Contact class is used to represent a contact book contact. A contact is anyone that can be contacted.\\n    Contacts are used in order to send messages (to and from) or set reminders for.\\n    Any textual description of a person (or a list of people) can be resolved to a contact (or list of contacts).\\n    This class inherits from the Entity class and the Resolvable class.\\n    \\\"\\\"\\\"\\n\\n    pass\\n\\n\\nclass DateTime(Entity, Resolvable):\\n    \\\"\\\"\\\"\\n    The DateTime class is used to represent a date and time.\\n    Many action methods use this class in order to specify a date and time for an action.\\n    For example:\\n        * A reminder can be set to a specific date and time.\\n        * An alarm can be set to a specific date and time.\\n        * A message can be sent at a specific date and time.\\n        * A meeting can be scheduled at a specific date and time.\\n    This class inherits from the Entity class and the Resolvable class.\\n    \\\"\\\"\\\"\\n\\n    pass\\n\\n\\nclass Location(Entity, Resolvable):\\n    \\\"\\\"\\\"\\n    The Location class is used to represent a location. A location can be a place, a city, a country,\\n    a landmark, a road, etc. Locations can also be a store, a restaurant, a hotel, etc. In contrast to\\n    a MapEntity, a location does not hold information on a place besides its physical location and its\\n    name association.\\n    This class inherits from the Entity class and the Resolvable class.\\n    \\\"\\\"\\\"\\n\\n    pass\\n\\n\\nclass Amount(Entity, Resolvable):\\n    \\\"\\\"\\\"\\n    The Amount class is used to represent an amount of something. An amount can be a number of items.\\n    It is used in the context of this API to indicate number of tickets to purchase for an event, or\\n    a number of products to purchase or place in a shopping list. An amout will typically resolve a specific\\n    amount and is less used in a general quantifier context (like the detrminers \\\"a\\\", \\\"the\\\", etc.).\\n    It inherits from the Entity class and the Resolvable class.\\n    \\\"\\\"\\\"\\n\\n    pass\\n\\n\\nclass TimeDuration(Entity, Resolvable):\\n    \\\"\\\"\\\"\\n    The TimeDuration class is used to represent a duration of time. A duration of time can be a number of\\n    minutes to wait when setting a timer. It is used in the API in the context of a timer.\\n    It inherits from the Entity class and the Resolvable class.\\n    \\\"\\\"\\\"\\n\\n    pass\\n\\n\\n# UTILS:\\n\\ndef first(a: Iterable[T], n: Optional[int] = 1) -> Union[T, List[T]]:\\n    \\\"\\\"\\\"\\n    This method returns the first N entities in a list of entities.\\n\\n    Parameters\\n    ----------\\n    a : Iterable[T]\\n        An iterable of entities\\n    n : int, optional\\n        The number of first elements to return from the list, by default 1\\n\\n    Returns\\n    -------\\n    T|List[T]\\n        The first entity or a list of the first N entities\\n    \\\"\\\"\\\"\\n    pass\\n\\n\\ndef last(a: Iterable[T], n: Optional[int] = 1) -> Union[T, List[T]]:\\n    \\\"\\\"\\\"\\n    This method returns the last N entities in a list of entities.\\n\\n    Parameters\\n    ----------\\n    a : Iterable[T]\\n        An iterable of entities\\n    n : int, optional\\n        The number of last elements to return from the list, by default 1\\n\\n    Returns\\n    -------\\n    T|List[T]\\n        The first entity or a list of the last N entities\\n    \\\"\\\"\\\"\\n    pass\\n\\n\\ndef sort(a: Iterable[T], text: str) -> Iterable[T]:\\n    \\\"\\\"\\\"\\n    This method sorts an iterable of entities based on a given text attribute.\\n\\n    Parameters\\n    ----------\\n    a : Iterable[T]\\n        An iterable of entities\\n    text : str\\n        The attribute to sort the entities by expressed as a text string\\n\\n    Returns\\n    -------\\n    T|List[T]\\n        The first entity or a list of the last N entities\\n    \\\"\\\"\\\"\\n    pass\\n\\n\\ndef filter(a: Iterable[T], **kwargs) -> Iterable[T]:\\n    \\\"\\\"\\\"\\n    This method filters an iterable of entities based on a given keywords.\\n\\n    Parameters\\n    ----------\\n    a : Iterable[T]\\n        An iterable of entities\\n    kwargs : dict\\n        Arbitrary keyword arguments to filter the list of entities by.\\n        These keywords are expected to be attributes of the entities.\\n\\n    Returns\\n    -------\\n    T|List[T]\\n        The first entity or a list of the last N entities\\n    \\\"\\\"\\\"\\n    pass\\n\\n\\n# RESPONDER:\\n\\nclass Responder(Action):\\n    \\\"\\\"\\\"\\n    Responders are used to respond to user requests. Responder is the default way to react to user requests that\\n    requires a response. Any entities recieved from the APIs can be passed to the responder to be sent to the user.\\n    \\\"\\\"\\\"\\n\\n    @classmethod\\n    def respond(cls, response: Union[List[Entity], Entity]) -> None:\\n        \\\"\\\"\\\"\\n        This class method delete reminders.\\n\\n        Parameters\\n        ----------\\n        response : Union[List[Entity], Entity]\\n            The entity or a list of entities to be sent to the user.\\n\\n        Returns\\n        -------\\n        None\\n        \\\"\\\"\\\"\\n        pass\\n\\n\\n# ACTION:\\n\\nclass Action:\\n    \\\"\\\"\\\"\\n    This is a markup class for all virtual assistance actions.\\n    An action is a class that contains all the methods of a virtual assistant aget in a specific domain.\\n    For example, the Messages action contains actions like sending a message or finding messages.\\n    If an action method is provided without required parameters, the virtual assistant agent will prompt the user\\n    to provide the missing information.\\n    \\\"\\\"\\\"\\n\\n    pass\\n\\n\"\n",
      "  },\n",
      "  {\n",
      "    \"role\": \"assistant\",\n",
      "    \"content\": \"ok\"\n",
      "  },\n",
      "  {\n",
      "    \"role\": \"user\",\n",
      "    \"content\": \"Below are examples of variations of a Universal Dependencies (UD) trees and their corresponding dense ASTs for Python code.\\nUD Tree variation:\\n[ root [ S [ Command [ Action [ hd [ see ] ] [ advcl [ mark [ if ] ] [ Command [ Action [ hd [ find ] ] [ Arg [ obj [ nmod:poss [ my ] ] [ amod [ first ] ] [ hd [ reminders ] ] ] ] [ mark [ that ] ] [ ccomp [ Command [ Action [ Arg [ nsubj [ I ] ] ] [ hd [ have ] ] [ Arg [ obj [ det [ a ] ] [ hd [ meeting ] ] [ nmod [ case [ at ] ] [ hd [ 3 ] ] [ nmod:tmod [ pm ] ] ] ] ] ] ] [ cc [ and ] ] [ Command_conj [ Condition [ If [ Body [ Command [ Action [ expl [ there ] ] [ hd [ are ] ] ] ] [ cc [ and ] ] [ Command_conj [ Action [ hd [ see ] ] ] ] ] [ mark [ if ] ] [ Test [ Command [ Action [ Arg [ nsubj [ I ] ] ] [ hd [ got ] ] [ Arg [ obj [ det [ a ] ] [ hd [ reminder ] ] [ nmod [ case [ at ] ] [ hd [ mindnight ] ] ] ] ] [ Arg [ obl [ case [ in ] ] [ nummod [ 2 ] ] [ hd [ days ] ] ] ] [ mark [ to ] ] [ advcl [ Command [ Action [ hd [ bring ] ] [ Arg [ obj [ det [ the ] ] [ hd [ keys ] ] ] ] ] ] ] ] ] ] ] ] ] ] ] ] ] ] ] ] ] \"\n",
      "  },\n",
      "  {\n",
      "    \"role\": \"assistant\",\n",
      "    \"content\": \"Dense AST:\\n\\t[ Module\\n\\t\\t[ person_reminded = Contact.resolve_from_text('my') ]\\n\\t\\t[ content = Content.resolve_from_text('I have a meeting at 3pm') ]\\n\\t\\t[ reminders = Reminders.find_reminders(person_reminded=person_reminded, content=content) ]\\n\\t\\t[ reminders = first(reminders) ]\\n\\t\\t[ Responder.respond(response=reminders) ]\\n\\t\\t[ test_reminders = bool(reminders) ]\\n\\t\\t[ Responder.respond(response=test_reminders) ]\\n\\t\\t[ person_reminded = Contact.resolve_from_text('I') ]\\n\\t\\t[ date_time = DateTime.resolve_from_text('mindnight in 2 days') ]\\n\\t\\t[ content = Content.resolve_from_text('bring the keys') ]\\n\\t\\t[ reminders = Reminders.find_reminders(person_reminded=person_reminded, date_time=date_time, content=content) ]\\n\\t\\t[ test_reminders = bool(reminders) ]\\n\\t\\t[ Responder.respond(response=test_reminders) ]\\n\\t]\\n\"\n",
      "  },\n",
      "  {\n",
      "    \"role\": \"user\",\n",
      "    \"content\": \"UD Tree variation:\\n[ root [ S [ Command [ Action [ hd [ create ] ] [ Arg [ obj [ det [ a ] ] [ hd [ reminder ] ] [ nmod [ case [ at ] ] [ hd [ mindnight ] ] ] [ acl [ mark [ to ] ] [ hd [ close ] ] [ obj [ det [ the ] ] [ hd [ window ] ] ] [ cc [ and ] ] [ conj [ mark [ to ] ] [ hd [ call ] ] [ obj [ nmod:poss [ my ] ] [ hd [ dad ] ] ] ] ] ] ] ] ] ] ] \"\n",
      "  },\n",
      "  {\n",
      "    \"role\": \"assistant\",\n",
      "    \"content\": \"Dense AST:\\n\\t[ Module\\n\\t\\t[ date_time = DateTime.resolve_from_text('mindnight') ]\\n\\t\\t[ contents = Content.resolve_many_from_text('close the window and call my dad') ]\\n\\t\\t[ For\\n\\t\\t\\t[ test\\n\\t\\t\\t\\t[ iter\\n\\t\\t\\t\\t\\t[ [contents] ]\\n\\t\\t\\t\\t]\\n\\t\\t\\t\\t[ Name\\n\\t\\t\\t\\t\\t[ content ]\\n\\t\\t\\t\\t]\\n\\t\\t\\t]\\n\\t\\t\\t[ body\\n\\t\\t\\t\\t[ Reminders.create_reminder(date_time=date_time, content=content) ]\\n\\t\\t\\t]\\n\\t\\t]\\n\\t]\\n\"\n",
      "  },\n",
      "  {\n",
      "    \"role\": \"user\",\n",
      "    \"content\": \"Based on the API specifications and previous examples, convert the following variation of UD tree representation into dense AST for Python code:\\nUD Tree variation:\\n[ root [ S [ Command [ Action [ hd [ see ] ] [ advcl [ mark [ if ] ] [ Command [ Action [ hd [ find ] ] [ Arg [ obj [ nmod:poss [ my ] ] [ amod [ first ] ] [ hd [ reminders ] ] ] ] [ mark [ that ] ] [ ccomp [ Command [ Action [ Arg [ nsubj [ I ] ] ] [ hd [ have ] ] [ Arg [ obj [ det [ a ] ] [ hd [ meeting ] ] [ nmod [ case [ at ] ] [ hd [ 3 ] ] [ nmod:tmod [ pm ] ] ] ] ] ] ] [ cc [ and ] ] [ Command_conj [ Condition [ If [ Body [ Command [ Action [ expl [ there ] ] [ hd [ are ] ] ] ] [ cc [ and ] ] [ Command_conj [ Action [ hd [ see ] ] ] ] ] [ mark [ if ] ] [ Test [ Command [ Action [ Arg [ nsubj [ I ] ] ] [ hd [ got ] ] [ Arg [ obj [ det [ a ] ] [ hd [ reminder ] ] [ nmod [ case [ at ] ] [ hd [ mindnight ] ] ] ] ] [ Arg [ obl [ case [ in ] ] [ nummod [ 2 ] ] [ hd [ days ] ] ] ] [ mark [ to ] ] [ advcl [ Command [ Action [ hd [ bring ] ] [ Arg [ obj [ det [ the ] ] [ hd [ keys ] ] ] ] ] ] ] ] ] ] ] ] ] ] ] ] ] ] ] ] ] \"\n",
      "  }\n",
      "]\n"
     ]
    }
   ],
   "source": [
    "input_data = examples_df.iloc[0]\n",
    "prompt = build_prompt(\n",
    "    strategy=\"rep2rep\", \n",
    "    prompt_type='apispec', \n",
    "    input_data=input_data, \n",
    "    examples_df=examples_df, \n",
    "    examples_limit=2\n",
    ")\n",
    "prompt_str = \"\".join([p['content'] for p in prompt if p['role'] == 'user'])\n",
    "\n",
    "tokenizer = GPT2TokenizerFast.from_pretrained(\"gpt2\")\n",
    "base_prompt_tokens_len = len(tokenizer(prompt_str, max_length=51200, truncation=True)[\"input_ids\"])\n",
    "print(f\"Base prompt tokens length: {base_prompt_tokens_len}\")\n",
    "print(json.dumps(prompt, indent=2))"
   ]
  },
  {
   "attachments": {},
   "cell_type": "markdown",
   "metadata": {},
   "source": [
    "## TogetherAI Predictions"
   ]
  },
  {
   "attachments": {},
   "cell_type": "markdown",
   "metadata": {},
   "source": [
    "### gpt-4"
   ]
  },
  {
   "cell_type": "markdown",
   "metadata": {},
   "source": [
    "#### Examples prompt"
   ]
  },
  {
   "cell_type": "code",
   "execution_count": 45,
   "metadata": {},
   "outputs": [],
   "source": [
    "# MODEL_NAME = 'gpt-4'\n",
    "MODEL_NAME = 'gpt-4-1106-preview'"
   ]
  },
  {
   "cell_type": "code",
   "execution_count": 399,
   "metadata": {},
   "outputs": [],
   "source": [
    "n = 100\n",
    "id_labels = ['sample_id'] #['test_id', 'sample_id', 'sample_minor_id']\n",
    "prompt_type = 'examples' # 'examples' or 'apispec'\n",
    "model_id = 'openai_' + MODEL_NAME.replace('-', '_')\n",
    "strategy = 'rep2rep'\n",
    "examples_limit = 18"
   ]
  },
  {
   "cell_type": "code",
   "execution_count": 400,
   "metadata": {},
   "outputs": [
    {
     "name": "stdout",
     "output_type": "stream",
     "text": [
      "(152, 12)\n"
     ]
    },
    {
     "data": {
      "text/html": [
       "<div>\n",
       "<style scoped>\n",
       "    .dataframe tbody tr th:only-of-type {\n",
       "        vertical-align: middle;\n",
       "    }\n",
       "\n",
       "    .dataframe tbody tr th {\n",
       "        vertical-align: top;\n",
       "    }\n",
       "\n",
       "    .dataframe thead th {\n",
       "        text-align: right;\n",
       "    }\n",
       "</style>\n",
       "<table border=\"1\" class=\"dataframe\">\n",
       "  <thead>\n",
       "    <tr style=\"text-align: right;\">\n",
       "      <th></th>\n",
       "      <th>index</th>\n",
       "      <th>test_id</th>\n",
       "      <th>sample_id</th>\n",
       "      <th>sample_minor_id</th>\n",
       "      <th>text</th>\n",
       "      <th>code</th>\n",
       "      <th>test</th>\n",
       "      <th>imports</th>\n",
       "      <th>lang_rep</th>\n",
       "      <th>lang_rep_raw</th>\n",
       "      <th>code_rep</th>\n",
       "      <th>code_rep_raw</th>\n",
       "    </tr>\n",
       "  </thead>\n",
       "  <tbody>\n",
       "    <tr>\n",
       "      <th>0</th>\n",
       "      <td>0</td>\n",
       "      <td>0</td>\n",
       "      <td>0</td>\n",
       "      <td>NaN</td>\n",
       "      <td>Check the availability of Pepsi at Walmart and...</td>\n",
       "      <td>product_name = ProductName.resolve_from_text(\"...</td>\n",
       "      <td># test data\\ndata_model = DataModel(reset=True...</td>\n",
       "      <td>from entities.generic import *\\nfrom entities....</td>\n",
       "      <td>[ root [ S [ Command [ Action [ hd [ Check ] ]...</td>\n",
       "      <td>[ root [ hd [ Check ] ] [ obj [ det [ the ] ] ...</td>\n",
       "      <td>[ Module [ product_name = ProductName.resolve_...</td>\n",
       "      <td>[ Module [ Assign [ Name [ product_name ] ] [ ...</td>\n",
       "    </tr>\n",
       "    <tr>\n",
       "      <th>1</th>\n",
       "      <td>1</td>\n",
       "      <td>1_a</td>\n",
       "      <td>1</td>\n",
       "      <td>a</td>\n",
       "      <td>If it's raining tomorrow morning, set my alarm...</td>\n",
       "      <td>date_time = DateTime.resolve_from_text(\"tomorr...</td>\n",
       "      <td># test data\\ndata_model = DataModel(reset=True...</td>\n",
       "      <td>from entities.generic import *\\nfrom entities....</td>\n",
       "      <td>[ root [ S [ Command [ Condition [ If [ Test [...</td>\n",
       "      <td>[ root [ advcl [ mark [ If ] ] [ nsubj [ it ] ...</td>\n",
       "      <td>[ Module [ date_time = DateTime.resolve_from_t...</td>\n",
       "      <td>[ Module [ Assign [ Name [ date_time ] ] [ Cal...</td>\n",
       "    </tr>\n",
       "    <tr>\n",
       "      <th>2</th>\n",
       "      <td>2</td>\n",
       "      <td>1_b</td>\n",
       "      <td>1</td>\n",
       "      <td>b</td>\n",
       "      <td>If it's raining tomorrow morning, set my alarm...</td>\n",
       "      <td>date_time = DateTime.resolve_from_text(\"tomorr...</td>\n",
       "      <td># test data\\ndata_model = DataModel(reset=True...</td>\n",
       "      <td>from entities.generic import *\\nfrom entities....</td>\n",
       "      <td>[ root [ S [ Command [ Condition [ If [ Test [...</td>\n",
       "      <td>[ root [ advcl [ mark [ If ] ] [ nsubj [ it ] ...</td>\n",
       "      <td>[ Module [ date_time = DateTime.resolve_from_t...</td>\n",
       "      <td>[ Module [ Assign [ Name [ date_time ] ] [ Cal...</td>\n",
       "    </tr>\n",
       "  </tbody>\n",
       "</table>\n",
       "</div>"
      ],
      "text/plain": [
       "   index test_id  sample_id sample_minor_id   \n",
       "0      0       0          0             NaN  \\\n",
       "1      1     1_a          1               a   \n",
       "2      2     1_b          1               b   \n",
       "\n",
       "                                                text   \n",
       "0  Check the availability of Pepsi at Walmart and...  \\\n",
       "1  If it's raining tomorrow morning, set my alarm...   \n",
       "2  If it's raining tomorrow morning, set my alarm...   \n",
       "\n",
       "                                                code   \n",
       "0  product_name = ProductName.resolve_from_text(\"...  \\\n",
       "1  date_time = DateTime.resolve_from_text(\"tomorr...   \n",
       "2  date_time = DateTime.resolve_from_text(\"tomorr...   \n",
       "\n",
       "                                                test   \n",
       "0  # test data\\ndata_model = DataModel(reset=True...  \\\n",
       "1  # test data\\ndata_model = DataModel(reset=True...   \n",
       "2  # test data\\ndata_model = DataModel(reset=True...   \n",
       "\n",
       "                                             imports   \n",
       "0  from entities.generic import *\\nfrom entities....  \\\n",
       "1  from entities.generic import *\\nfrom entities....   \n",
       "2  from entities.generic import *\\nfrom entities....   \n",
       "\n",
       "                                            lang_rep   \n",
       "0  [ root [ S [ Command [ Action [ hd [ Check ] ]...  \\\n",
       "1  [ root [ S [ Command [ Condition [ If [ Test [...   \n",
       "2  [ root [ S [ Command [ Condition [ If [ Test [...   \n",
       "\n",
       "                                        lang_rep_raw   \n",
       "0  [ root [ hd [ Check ] ] [ obj [ det [ the ] ] ...  \\\n",
       "1  [ root [ advcl [ mark [ If ] ] [ nsubj [ it ] ...   \n",
       "2  [ root [ advcl [ mark [ If ] ] [ nsubj [ it ] ...   \n",
       "\n",
       "                                            code_rep   \n",
       "0  [ Module [ product_name = ProductName.resolve_...  \\\n",
       "1  [ Module [ date_time = DateTime.resolve_from_t...   \n",
       "2  [ Module [ date_time = DateTime.resolve_from_t...   \n",
       "\n",
       "                                        code_rep_raw  \n",
       "0  [ Module [ Assign [ Name [ product_name ] ] [ ...  \n",
       "1  [ Module [ Assign [ Name [ date_time ] ] [ Cal...  \n",
       "2  [ Module [ Assign [ Name [ date_time ] ] [ Cal...  "
      ]
     },
     "execution_count": 400,
     "metadata": {},
     "output_type": "execute_result"
    }
   ],
   "source": [
    "test_df = load_eval_data()\n",
    "print(test_df.shape)\n",
    "test_df.head(3)"
   ]
  },
  {
   "cell_type": "code",
   "execution_count": 401,
   "metadata": {},
   "outputs": [
    {
     "name": "stdout",
     "output_type": "stream",
     "text": [
      "./build/results/test-152-openai_gpt_4-text2code-n100-examples-ex18.csv.gz\n"
     ]
    }
   ],
   "source": [
    "results_file_path = f\"./build/results/test-{str(test_df.shape[0])}-{model_id}-{strategy}-n{n}-{prompt_type}-ex{examples_limit}.csv.gz\"\n",
    "print(results_file_path)"
   ]
  },
  {
   "cell_type": "code",
   "execution_count": 402,
   "metadata": {},
   "outputs": [
    {
     "data": {
      "text/html": [
       "<div>\n",
       "<style scoped>\n",
       "    .dataframe tbody tr th:only-of-type {\n",
       "        vertical-align: middle;\n",
       "    }\n",
       "\n",
       "    .dataframe tbody tr th {\n",
       "        vertical-align: top;\n",
       "    }\n",
       "\n",
       "    .dataframe thead th {\n",
       "        text-align: right;\n",
       "    }\n",
       "</style>\n",
       "<table border=\"1\" class=\"dataframe\">\n",
       "  <thead>\n",
       "    <tr style=\"text-align: right;\">\n",
       "      <th></th>\n",
       "      <th>index</th>\n",
       "      <th>test_id</th>\n",
       "      <th>sample_minor_id</th>\n",
       "      <th>text</th>\n",
       "      <th>code</th>\n",
       "      <th>test</th>\n",
       "      <th>imports</th>\n",
       "      <th>lang_rep</th>\n",
       "      <th>code_rep</th>\n",
       "      <th>output</th>\n",
       "      <th>n</th>\n",
       "    </tr>\n",
       "    <tr>\n",
       "      <th>sample_id</th>\n",
       "      <th></th>\n",
       "      <th></th>\n",
       "      <th></th>\n",
       "      <th></th>\n",
       "      <th></th>\n",
       "      <th></th>\n",
       "      <th></th>\n",
       "      <th></th>\n",
       "      <th></th>\n",
       "      <th></th>\n",
       "      <th></th>\n",
       "    </tr>\n",
       "  </thead>\n",
       "  <tbody>\n",
       "    <tr>\n",
       "      <th>0</th>\n",
       "      <td>0</td>\n",
       "      <td>0</td>\n",
       "      <td>NaN</td>\n",
       "      <td>Check the availability of Pepsi at Walmart and...</td>\n",
       "      <td>product_name = ProductName.resolve_from_text(\"...</td>\n",
       "      <td># test data\\ndata_model = DataModel(reset=True...</td>\n",
       "      <td>from entities.generic import *\\nfrom entities....</td>\n",
       "      <td>[ root [ S [ Command [ Action [ hd [ Check ] ]...</td>\n",
       "      <td>[ Module [ product_name = ProductName.resolve_...</td>\n",
       "      <td>locations = Location.resolve_many_from_text(\"W...</td>\n",
       "      <td>0.0</td>\n",
       "    </tr>\n",
       "    <tr>\n",
       "      <th>0</th>\n",
       "      <td>0</td>\n",
       "      <td>0</td>\n",
       "      <td>NaN</td>\n",
       "      <td>Check the availability of Pepsi at Walmart and...</td>\n",
       "      <td>product_name = ProductName.resolve_from_text(\"...</td>\n",
       "      <td># test data\\ndata_model = DataModel(reset=True...</td>\n",
       "      <td>from entities.generic import *\\nfrom entities....</td>\n",
       "      <td>[ root [ S [ Command [ Action [ hd [ Check ] ]...</td>\n",
       "      <td>[ Module [ product_name = ProductName.resolve_...</td>\n",
       "      <td>product_name = ProductName.resolve_from_text(\"...</td>\n",
       "      <td>78.0</td>\n",
       "    </tr>\n",
       "    <tr>\n",
       "      <th>0</th>\n",
       "      <td>0</td>\n",
       "      <td>0</td>\n",
       "      <td>NaN</td>\n",
       "      <td>Check the availability of Pepsi at Walmart and...</td>\n",
       "      <td>product_name = ProductName.resolve_from_text(\"...</td>\n",
       "      <td># test data\\ndata_model = DataModel(reset=True...</td>\n",
       "      <td>from entities.generic import *\\nfrom entities....</td>\n",
       "      <td>[ root [ S [ Command [ Action [ hd [ Check ] ]...</td>\n",
       "      <td>[ Module [ product_name = ProductName.resolve_...</td>\n",
       "      <td>product_name = ProductName.resolve_from_text(\"...</td>\n",
       "      <td>99.0</td>\n",
       "    </tr>\n",
       "  </tbody>\n",
       "</table>\n",
       "</div>"
      ],
      "text/plain": [
       "           index test_id sample_minor_id   \n",
       "sample_id                                  \n",
       "0              0       0             NaN  \\\n",
       "0              0       0             NaN   \n",
       "0              0       0             NaN   \n",
       "\n",
       "                                                        text   \n",
       "sample_id                                                      \n",
       "0          Check the availability of Pepsi at Walmart and...  \\\n",
       "0          Check the availability of Pepsi at Walmart and...   \n",
       "0          Check the availability of Pepsi at Walmart and...   \n",
       "\n",
       "                                                        code   \n",
       "sample_id                                                      \n",
       "0          product_name = ProductName.resolve_from_text(\"...  \\\n",
       "0          product_name = ProductName.resolve_from_text(\"...   \n",
       "0          product_name = ProductName.resolve_from_text(\"...   \n",
       "\n",
       "                                                        test   \n",
       "sample_id                                                      \n",
       "0          # test data\\ndata_model = DataModel(reset=True...  \\\n",
       "0          # test data\\ndata_model = DataModel(reset=True...   \n",
       "0          # test data\\ndata_model = DataModel(reset=True...   \n",
       "\n",
       "                                                     imports   \n",
       "sample_id                                                      \n",
       "0          from entities.generic import *\\nfrom entities....  \\\n",
       "0          from entities.generic import *\\nfrom entities....   \n",
       "0          from entities.generic import *\\nfrom entities....   \n",
       "\n",
       "                                                    lang_rep   \n",
       "sample_id                                                      \n",
       "0          [ root [ S [ Command [ Action [ hd [ Check ] ]...  \\\n",
       "0          [ root [ S [ Command [ Action [ hd [ Check ] ]...   \n",
       "0          [ root [ S [ Command [ Action [ hd [ Check ] ]...   \n",
       "\n",
       "                                                    code_rep   \n",
       "sample_id                                                      \n",
       "0          [ Module [ product_name = ProductName.resolve_...  \\\n",
       "0          [ Module [ product_name = ProductName.resolve_...   \n",
       "0          [ Module [ product_name = ProductName.resolve_...   \n",
       "\n",
       "                                                      output     n  \n",
       "sample_id                                                           \n",
       "0          locations = Location.resolve_many_from_text(\"W...   0.0  \n",
       "0          product_name = ProductName.resolve_from_text(\"...  78.0  \n",
       "0          product_name = ProductName.resolve_from_text(\"...  99.0  "
      ]
     },
     "execution_count": 402,
     "metadata": {},
     "output_type": "execute_result"
    }
   ],
   "source": [
    "# loading the results file\n",
    "def load_test_results(results_file_path: str = results_file_path) -> pd.DataFrame:\n",
    "    test_results_df = pd.read_csv(results_file_path, compression='gzip') if os.path.exists(results_file_path) else test_df.copy()\n",
    "    test_results_df.set_index(id_labels, inplace=True)\n",
    "    test_results_df.sort_index(inplace=True)\n",
    "    return test_results_df\n",
    "\n",
    "load_test_results(results_file_path).head(3)"
   ]
  },
  {
   "cell_type": "code",
   "execution_count": 403,
   "metadata": {},
   "outputs": [
    {
     "name": "stdout",
     "output_type": "stream",
     "text": [
      "Base prompt tokens length: 606\n"
     ]
    }
   ],
   "source": [
    "input_data = examples_df.iloc[0]\n",
    "prompt = build_prompt(strategy=strategy, prompt_type=prompt_type, input_data=input_data, examples_df=examples_df, examples_limit=examples_limit)\n",
    "prompt_str = \"\\n\".join([p['content'] for p in prompt if p['role'] == 'user'])\n",
    "\n",
    "tokenizer = GPT2TokenizerFast.from_pretrained(\"gpt2\")\n",
    "base_prompt_tokens_len = len(tokenizer(prompt_str, max_length=51200, truncation=True)[\"input_ids\"])\n",
    "print(f\"Base prompt tokens length: {base_prompt_tokens_len}\")"
   ]
  },
  {
   "cell_type": "code",
   "execution_count": 404,
   "metadata": {},
   "outputs": [],
   "source": [
    "def run(\n",
    "    test_results_df,\n",
    "    openai_disabled = False,\n",
    "    force = False,\n",
    "    total_records = test_df.shape[0],\n",
    "    max_tokens = 500,\n",
    "    wait_time_in_seconds = 20,\n",
    "):\n",
    "    # generate predictions\n",
    "    responses = []\n",
    "    print(f\"Generating predictions for {total_records} records\")\n",
    "    for i, row  in tqdm.notebook.tqdm(test_df.iterrows(), total=total_records, desc=\"Processing records\"):   \n",
    "        # check to see if we already have a result for this record\n",
    "        index = tuple(row[id_label] for id_label in id_labels) if len(id_labels) > 1 else row[id_labels[0]]\n",
    "        index = [index]\n",
    "        if (not force) and ('output' in test_results_df.loc[index]) and (not any(pd.isnull(test_results_df.loc[index, 'output']))):\n",
    "            # if we do, then skip this record\n",
    "            time.sleep(0.1)\n",
    "        elif not openai_disabled:\n",
    "            # run the model, if we don't have a result for this record\n",
    "            messages = build_prompt(\n",
    "                strategy=strategy, \n",
    "                prompt_type=prompt_type, \n",
    "                input_data=row, \n",
    "                examples_df=examples_df, \n",
    "                examples_limit=examples_limit\n",
    "            )\n",
    "            response = openai.ChatCompletion.create(\n",
    "                model=MODEL_NAME, \n",
    "                messages=messages,\n",
    "                max_tokens=max_tokens,\n",
    "                n=n\n",
    "            )\n",
    "            responses.append(response)\n",
    "            \n",
    "            outputs = [x['message']['content'] for x in response['choices']]\n",
    "            # outputs = [output.replace(\"Code:\\n\", \"\").replace(\"```python\", \"\").replace(\"```py\", \"\").replace(\"```\", \"\").strip() for output in outputs]\n",
    "            ns = list(np.arange(n))\n",
    "            \n",
    "            # duplicate the records\n",
    "            records_to_duplicate = test_results_df.loc[index] # Fetch the records\n",
    "            duplicated_records = pd.concat([records_to_duplicate] * (n - 1), ignore_index=False) # Duplicate the records\n",
    "            test_results_df = pd.concat([test_results_df, duplicated_records], ignore_index=False) # Append the duplicated records back to the original DataFrame (optional)\n",
    "            \n",
    "            # set values for output and n\n",
    "            test_results_df['output'] = test_results_df['output'].astype(object) if 'output' in test_results_df.columns else None\n",
    "            test_results_df.loc[index, 'output'] = outputs * len(records_to_duplicate)\n",
    "            test_results_df['n'] = test_results_df['n'].astype(object) if 'n' in test_results_df.columns else None\n",
    "            test_results_df.loc[index, 'n'] = ns * len(records_to_duplicate)\n",
    "            \n",
    "            test_results_df.to_csv(results_file_path, index=True, compression='gzip')\n",
    "            \n",
    "            time.sleep(wait_time_in_seconds)\n",
    "            \n",
    "            \n",
    "def fail_safe_run(\n",
    "    results_file_path,\n",
    "    max_retries = 10,\n",
    "    retries = 0,\n",
    "):\n",
    "    try:\n",
    "        retries += 1    \n",
    "        test_results_df = load_test_results(results_file_path)        \n",
    "        run(test_results_df)\n",
    "    except Exception as e:\n",
    "        # if we get an error, wait for 60 seconds and try again\n",
    "        if retries < max_retries:\n",
    "            print(f\"Error: {e}.\\nWaiting for 60 seconds and trying again ({retries}).\")\n",
    "            time.sleep(60)\n",
    "            fail_safe_run(results_file_path, retries=retries, max_retries=max_retries)\n",
    "        else:\n",
    "            print(f\"Error: {e}.\\nMax retries reached. Skipping.\")"
   ]
  },
  {
   "cell_type": "code",
   "execution_count": 405,
   "metadata": {},
   "outputs": [
    {
     "name": "stdout",
     "output_type": "stream",
     "text": [
      "Generating predictions for 152 records\n"
     ]
    },
    {
     "data": {
      "application/vnd.jupyter.widget-view+json": {
       "model_id": "6e66a446973e445f8a56f41040a789a6",
       "version_major": 2,
       "version_minor": 0
      },
      "text/plain": [
       "Processing records:   0%|          | 0/152 [00:00<?, ?it/s]"
      ]
     },
     "metadata": {},
     "output_type": "display_data"
    }
   ],
   "source": [
    "fail_safe_run(results_file_path)"
   ]
  },
  {
   "cell_type": "code",
   "execution_count": 336,
   "metadata": {},
   "outputs": [
    {
     "data": {
      "text/plain": [
       "(0, 13)"
      ]
     },
     "execution_count": 336,
     "metadata": {},
     "output_type": "execute_result"
    }
   ],
   "source": [
    "test_results_df[test_results_df['output'].isna()].shape"
   ]
  },
  {
   "cell_type": "code",
   "execution_count": 337,
   "metadata": {},
   "outputs": [
    {
     "data": {
      "text/plain": [
       "(15200, 14)"
      ]
     },
     "execution_count": 337,
     "metadata": {},
     "output_type": "execute_result"
    }
   ],
   "source": [
    "results_df = pd.read_csv(results_file_path, compression='gzip')\n",
    "results_df.shape"
   ]
  },
  {
   "cell_type": "markdown",
   "metadata": {},
   "source": [
    "#### Spec prompt"
   ]
  },
  {
   "cell_type": "code",
   "execution_count": 57,
   "metadata": {},
   "outputs": [
    {
     "name": "stdout",
     "output_type": "stream",
     "text": [
      "Saving results to ./build/results/test-152-openai_gpt_3.5_turbo_1106-text2rep-n100-apispec-ex26.csv.gz\n"
     ]
    }
   ],
   "source": [
    "# MODEL_NAME = 'gpt-4-1106-preview'\n",
    "MODEL_NAME = 'gpt-3.5-turbo-1106'\n",
    "\n",
    "n = 100\n",
    "id_labels = ['sample_id'] #['test_id', 'sample_id', 'sample_minor_id']\n",
    "prompt_type = 'apispec' # 'examples' or 'apispec'\n",
    "strategy = 'text2rep'\n",
    "model_id = 'openai_' + MODEL_NAME.replace('-', '_')\n",
    "examples_limit = 26\n",
    "slug = strategy\n",
    "\n",
    "test_df = load_eval_data()\n",
    "\n",
    "results_file_path = f\"./build/results/test-{str(test_df.shape[0])}-{model_id}-{slug}-n{n}-{prompt_type}-ex{examples_limit}.csv.gz\"\n",
    "if os.path.exists(results_file_path):\n",
    "    raise ValueError(f\"Results file already exists: {results_file_path}\")\n",
    "\n",
    "test_results_df = pd.read_csv(results_file_path, compression='gzip') if os.path.exists(results_file_path) else test_df.copy()\n",
    "test_results_df.set_index(id_labels, inplace=True)\n",
    "test_results_df.sort_index(inplace=True)\n",
    "\n",
    "print(f\"Saving results to {results_file_path}\")"
   ]
  },
  {
   "cell_type": "code",
   "execution_count": 58,
   "metadata": {},
   "outputs": [
    {
     "data": {
      "text/plain": [
       "[{'role': 'system',\n",
       "  'content': 'You are a skilled programmer. You will be provided with a text description and your task is to convert it into a dense variation of an Abstract Syntax Tree (AST) suitable for Python code.'},\n",
       " {'role': 'user',\n",
       "  'content': 'Below are API specifications for implementing the corresponding dense AST for Python code.\\n\\n# MAP:\\n\\nclass Map(Action):\\n    \"\"\"\\n    The Map class contains all the methods of a virtual assistant agent in the map domain.\\n    \"\"\"\\n\\n    @classmethod\\n    def find_on_map(cls, location: Location) -> List[MapEntity]:\\n        \"\"\"\\n        This class method finds places on the map.\\n\\n        Parameters\\n        ----------\\n        location : Location\\n            The location to search for\\n\\n        Returns\\n        -------\\n        List[MapEntity]\\n            A list of places in the form of map entities\\n        \"\"\"\\n        pass\\n\\n# SHOPPING:\\n\\nclass Shopping(Action):\\n    \"\"\"\\n    The Shopping class contains all the methods of a virtual assistant agent in the shopping domain.\\n    \"\"\"\\n\\n    @classmethod\\n    def find_products(\\n        cls,\\n        product_name: Optional[ProductName] = None,\\n        product_attribute: Optional[ProductAttribute] = None,\\n        date_time: Optional[Union[DateTime, List[DateTime]]] = None,\\n        location: Optional[Location] = None,\\n    ) -> List[ProductEntity]:\\n        \"\"\"\\n        This class method find products based on the given parameters.\\n\\n        Parameters\\n        ----------\\n        product_name : ProductName, optional\\n            The name of the product to find\\n        product_attribute : ProductAttribute, optional\\n            The attribute of the product to find (e.g., available, on sale, etc.)\\n        date_time : DateTime, optional\\n            The date and time to find the product at\\n        location : Location, optional\\n            The location (usually the store) to find the product at\\n\\n        Returns\\n        -------\\n        List[ProductEntity]\\n            The list of weather forecasts that were found\\n        \"\"\"\\n        data_model = DataModel()\\n        data = data_model.get_data(ProductEntity)\\n        if product_name:\\n            data = [x for x in data if x.product_name == product_name]\\n\\n        if product_attribute:\\n            data = [x for x in data if x.product_attribute == product_attribute]\\n\\n        if date_time:\\n            if type(date_time) == list:\\n                data = [x for x in data if x.date_time in date_time]\\n            else:\\n                data = [x for x in data if x.date_time == date_time]\\n\\n        if location:\\n            data = [x for x in data if x.location == location]\\n\\n        return data\\n\\n    @classmethod\\n    def find_shopping_lists(\\n        cls,\\n        date_time: Optional[Union[DateTime, List[DateTime]]] = None,\\n        location: Optional[Location] = None,\\n    ) -> List[ShoppingListEntity]:\\n        \"\"\"\\n        This class method finds saved shopping list based on the given parameters.\\n\\n        Parameters\\n        ----------\\n        date_time : DateTime, optional\\n            The date and time to find that is associated with the shopping list\\n        location : Location, optional\\n            The location (usually the store) to that is associated with the shopping list\\n\\n        Returns\\n        -------\\n        List[ShoppingListEntity]\\n            A list of shopping list entities that were found\\n        \"\"\"\\n        pass\\n\\n    @classmethod\\n    def add_to_shopping_list(\\n        cls,\\n        shopping_list_name: ShoppingListName,\\n        product_name: Optional[ProductName] = None,\\n        amount: Optional[Amount] = None,\\n    ) -> ShoppingListEntity:\\n        \"\"\"\\n        This class method adds a product to a shopping list.\\n\\n        Parameters\\n        ----------\\n        shopping_list_name : ShoppingListName, optional\\n            The name of the shopping list to add the product to\\n        product_name : ProductName, optional\\n            The name of the product to add to the shopping list\\n        amount : Amount, optional\\n            The amount of products to add to the shopping list\\n\\n        Returns\\n        -------\\n        ShoppingListEntity\\n            The shopping list entity that the product was added to\\n        \"\"\"\\n        pass\\n\\n    @classmethod\\n    def order(\\n        cls,\\n        product_name: Optional[ProductName] = None,\\n        product_attribute: Optional[ProductAttribute] = None,\\n        date_time: Optional[Union[DateTime, List[DateTime]]] = None,\\n        location: Optional[Location] = None,\\n        amount: Optional[Amount] = None,\\n        shopping_list_name: Optional[ShoppingListName] = None,\\n    ) -> OrderEntity:\\n        \"\"\"\\n        This class method places an order for a product.\\n\\n        Parameters\\n        ----------\\n        product_name : ProductName, optional\\n            The name of the product to find\\n        product_attribute : ProductAttribute, optional\\n            The attribute of the product to find (e.g., available, on sale, etc.)\\n        date_time : DateTime, optional\\n            The date and time to find the product at\\n        location : Location, optional\\n            The location (usually the store) to find the product at\\n        amount : Amount, optional\\n            The amount of products to order\\n        shopping_list_name : ShoppingListName, optional\\n            The name of the shopping list that contains the products to order\\n            This parameter is mutually exclusive with the product and amount parameters\\n\\n        Returns\\n        -------\\n        OrderEntity\\n            The order entity that was placed\\n        \"\"\"\\n        pass\\n\\n\\n# MUSIC:\\n\\nclass Music(Action):\\n    \"\"\"\\n    The Music class contains all the methods of a virtual assistant agent in the music domain.\\n    \"\"\"\\n\\n    @classmethod\\n    def play_music(\\n        cls,\\n        album: Optional[Album] = None,\\n        artist: Optional[Artist] = None,\\n        genre: Optional[Genre] = None,\\n        playlist: Optional[Playlist] = None,\\n        song: Optional[Song] = None,\\n        date_time: Optional[DateTime] = None,\\n        music_type: Optional[MusicType] = None,\\n    ) -> List[MusicEntity]:\\n        \"\"\"\\n        This class method plays a music: a song, an album, songs by an artists,\\n        a music genre, a playlist in a specific date and time.\\n        The given params: album, artist, genre, playlist and song are usually mutually exclusive\\n        and are not used in conjunction.\\n\\n        Parameters\\n        ----------\\n        album : Album, optional\\n            The album to play\\n        artist : Artist, optional\\n            The artist to play\\n        genre : Genre, optional\\n            The genre to play\\n        playlist : Playlist, optional\\n            The playlist to play\\n        date_time : DateTime, optional\\n            The date and time to play the music\\n        music_type : MusicType, optional\\n            The type of music to play (usually anything that does not fit in the other categories)\\n\\n        Returns\\n        -------\\n        List[MusicEntity]\\n            A list of MusicEntity objects that represent the music to play\\n        \"\"\"\\n        pass\\n\\n\\n# HOME:\\n\\nclass SmartHome(Action):\\n    \"\"\"\\n    The SmartHome class contains all the methods of a virtual assistant agent in the smart home domain.\\n    \"\"\"\\n    \\n    @classmethod\\n    def find_home_devices(\\n        cls,\\n        device_name: Optional[HomeDeviceName] = None,\\n        device_action: Optional[HomeDeviceAction] = None,\\n        device_value: Optional[HomeDeviceValue] = None,\\n    ) -> List[HomeDeviceEntity]:\\n        \"\"\"\\n        This class method finds smart home devices.\\n\\n        Parameters\\n        ----------\\n        device_name : HomeDeviceName, optional\\n            The device name\\n        device_action : HomeDeviceAction, optional\\n            The action to be performed on the device\\n        device_value : HomeDeviceValue, optional\\n            The action\\'s value to be set on the device\\n\\n        Returns\\n        -------\\n        List[HomeDeviceEntity]\\n            A list of home device entities\\n        \"\"\"\\n        pass\\n\\n    @classmethod\\n    def execute_home_device_action(\\n        cls,\\n        date_time: Optional[DateTime] = None,\\n        device_name: Optional[HomeDeviceName] = None,\\n        device_action: Optional[HomeDeviceAction] = None,\\n        device_value: Optional[HomeDeviceValue] = None,\\n    ) -> HomeDeviceEntity:\\n        \"\"\"\\n        This class method executes given actions on smart home devices.\\n\\n        Parameters\\n        ----------\\n        device_name : HomeDeviceName, optional\\n            The device name\\n        device_action : HomeDeviceAction, optional\\n            The action to be performed on the device\\n        device_value : HomeDeviceValue, optional\\n            The action\\'s value to be set on the device\\n        date_time : DateTime, optional\\n            The date and time of the action\\n\\n        Returns\\n        -------\\n        HomeDeviceEntity\\n            Home device entity action is performed on\\n        \"\"\"\\n        pass\\n\\n# WEATHER:\\n\\nclass Weather(Action):\\n    \"\"\"\\n    The Weather class contains all the methods of a virtual assistant agent in the weather domain.\\n    \"\"\"\\n    \\n    @classmethod\\n    def find_weather_forecasts(\\n        cls,\\n        date_time: Optional[Union[DateTime, List[DateTime]]] = None,\\n        location: Optional[Location] = None,\\n        weather_attribute: Optional[WeatherAttribute] = None,\\n        weather_temperature: Optional[WeatherTemperature] = None,\\n    ) -> List[WeatherForecastEntity]:\\n        \"\"\"\\n        This class method find weather forecasts based on the given parameters.\\n\\n\\n        Parameters\\n        ----------\\n        date_time : DateTime, optional\\n            The date and time to forecast the weather at\\n        location : Location, optional\\n            The location to forecast the weather at\\n        weather_attribute : WeatherAttribute, optional\\n            This parameter can be used to filter the weather forecast on a specific weather attribute\\n        weather_temperature : WeatherTemperature, optional\\n            The weather temperature to forecast (e.g., less than 80 degrees)\\n            This parameter can be used to filter the weather forecast on a specific weather termperature\\n            \\n        Returns\\n        -------\\n        List[WeatherForecastEntity]\\n            The list of weather forecasts that were found\\n        \"\"\"\\n        pass\\n\\n\\n\\n\\n# MESSAGES:\\n\\nclass Messages(Action):\\n    \"\"\"\\n    The Messages class contains all the methods of a virtual assistant agent in the messages domain.\\n    \"\"\"\\n\\n    @classmethod\\n    def find_messages(\\n        cls,\\n        date_time: Optional[DateTime] = None,\\n        sender: Optional[Contact] = None,\\n        recipient: Optional[Contact] = None,\\n        content: Optional[Content] = None,\\n        message_status: Optional[MessageStatus] = None,\\n        message_content_type: Optional[MessageContentType] = None,\\n    ) -> List[MessageEntity]:\\n        \"\"\"\\n        This class method find messages based on the given parameters.\\n\\n        Parameters\\n        ----------\\n        date_time : DateTime, optional\\n            The date and time the message will be sent\\n        sender : Contact, optional\\n            The sender of the message\\n        recipient : Contact, optional\\n            The recipient of the message\\n        content : Content, optional\\n            The content of the message\\n        message_status : MessageStatus, optional\\n            The status of the message (e.g., open, send, read, unread)\\n        message_content_type : MessageContentType, optional\\n            The content type of the message\\n\\n        Returns\\n        -------\\n        List[MessageEntity]\\n            The list of messages that were found\\n        \"\"\"\\n        pass\\n\\n    @classmethod\\n    def send_message(\\n        cls,\\n        recipient: Optional[Contact] = None,\\n        content: Optional[Content] = None,\\n        date_time: Optional[DateTime] = None,\\n        message_content_type: Optional[MessageContentType] = None,\\n    ) -> MessageEntity:\\n        \"\"\"\\n        This class method send messages.\\n\\n        Parameters\\n        ----------\\n        recipient : Contact, optional\\n            The recipient of the message\\n        content : Content, optional\\n            The content of the message\\n        date_time : DateTime, optional\\n            The date and time the message will be sent\\n        message_content_type : MessageContentType, optional\\n            The content type of the message\\n\\n        Returns\\n        -------\\n        MessageEntity\\n            The message that was sent\\n        \"\"\"\\n        pass\\n\\n    @classmethod\\n    def delete_messages(\\n        cls, messages: Union[MessageEntity, List[MessageEntity]]\\n    ) -> List[MessageEntity]:\\n        \"\"\"\\n        This class method deletes messages.\\n\\n        Parameters\\n        ----------\\n        messages : MessageEntity|List[MessageEntity], optional\\n            The messages to be deleted. If a single message is passed, it will be converted to a list.\\n\\n        Returns\\n        -------\\n        List[MessageEntity]\\n            a list of MessageEntity objects that were deleted\\n        \"\"\"\\n        pass\\n\\n\\n# ENTITY:\\n\\nclass Entity:\\n    \"\"\"\\n    The Entity class is the base class for all entities. Entities are used to represent objects in the API.\\n    Any object returned by the API is an entity. \\n    This class is abstract and cannot be instantiated.\\n    \"\"\"\\n\\n    pass\\n\\n\\n# RESOLVABLE:\\n\\nclass Resolvable(Generic[T]):\\n    \"\"\"\\n    The Resolvable class is the base class for all resolvable entities.\\n    Resolvable entities are used to represent parameters in the API.\\n    This class bridges the user intent expressed in natural language and expected objects in the API.\\n    For exmaple, Contact, Location, DateTime, etc. are all resolvable entities.\\n    Resolvable objects are resolve from the user input or from entities recieved from the API.\\n    \"\"\"\\n\\n    # @exception_handler\\n    @classmethod\\n    def resolve_from_text(T, text: str) -> T:\\n        \"\"\"\\n        This class method resolves a resolvable object from the user input.\\n        The resolved text will usually be a phrase within the user instruction.\\n        For exmaple:\\n            * \"To San Francisco\" will resolve to a Location object.\\n            * \"After 8PM\" will resolve to a DateTime object.\\n            * \"To my cousin John\" will resolve to a Contact object.\\n\\n        Parameters\\n        ----------\\n        text : str\\n            The text to recover a Resolvable object from\\n\\n        Returns\\n        -------\\n        T\\n            The resolable template object that is calling this method\\n        \"\"\"\\n        pass\\n\\n    @classmethod\\n    def resolve_many_from_text(T, text: str) -> List[T]:\\n        \"\"\"\\n        This class method resolves a list of resolvable object from the user input.\\n        The resolved text will usually be a phrase within the user instruction. Resolve from many will usually\\n        include a plural form of a noun. Alternatively, it will include a singular noun with a semantics of plural.\\n        For example:\\n            * \"Every store in 10 miles radius\" will resolve to a list Location objects.\\n            * \"The weekend\" will be resolved to a list of DateTime objects.\\n            * \"My book reading club\" will resolve to a list Contact object.\\n\\n        Parameters\\n        ----------\\n        text : str\\n            The text to recover a list of Resolvable objects from\\n\\n        Returns\\n        -------\\n        List[T]\\n            The resolable template object that is calling this method\\n        \"\"\"\\n        pass\\n\\n    # @exception_handler\\n    @classmethod\\n    def resolve_from_entity(\\n        T,\\n        entity: Union[Entity, List[Entity]],\\n        text: Optional[str] = None,\\n    ) -> T:\\n        \"\"\"\\n        This class method resolves a resolvable object from an entity object.\\n        It is possible that we would like to resolve a one resolvable object from another resolvable object.\\n        This scenario is typical when using a result of a previous API call as a parameter for a subsequent API call.\\n        For example:\\n            * \"find directions to San Francisco and send them to John\". The navigation directions result will be resolved\\n            to a Content object in the subsequent API call to send a message.\\n            * \"Find the nearest open pharmacy and navigate to it\". The map object will be resolve to a Location object\\n            in the subsequent API call to navigate to it.\\n\\n        Parameters\\n        ----------\\n        entity : Entity\\n            The entity object to recover a Resolvable object from\\n\\n        Returns\\n        -------\\n        T\\n            The resolable template object that is calling this method\\n        \"\"\"\\n\\n        pass\\n\\n\\n# NAVIGATION:\\n\\nclass Navigation(Action):\\n    \"\"\"\\n    The Navigation class contains all the methods of a virtual assistant agent in the navigation domain.\\n    \"\"\"\\n\\n    @classmethod\\n    def find_directions(\\n        cls,\\n        destination: Optional[Location],\\n        origin: Optional[Location] = None,\\n        departure_date_time: Optional[DateTime] = None,\\n        avoid_nav_road_condition: Optional[NavigationRoadCondition] = None,\\n        nav_travel_method: Optional[NavigationTravelMethod] = None,\\n    ) -> List[NavigationDirectionEntity]:\\n        \"\"\"\\n        This class method find directions based on the given parameters.\\n\\n        Parameters\\n        ----------\\n        destination: Location, optional\\n            The destination of the navigation\\n        origin: Location, optional\\n            The origin of the navigation\\n        departure_date_time: DateTime, optional\\n            The date and time the navigation will start\\n        avoid_nav_road_condition: NavigationRoadCondition, optional\\n            The road conditions to avoid\\n        nav_travel_method: NavigationTravelMethod, optional\\n            The travel method to use\\n\\n        Returns\\n        -------\\n        List[NavigationDirectionEntity]\\n            A list of directions that were found\\n        \"\"\"\\n        pass\\n\\n    @classmethod\\n    def find_distance(\\n        cls,\\n        origin: Optional[Location] = None,\\n        destination: Optional[Location] = None,\\n        departure_date_time: Optional[DateTime] = None,\\n        avoid_nav_road_condition: Optional[NavigationRoadCondition] = None,\\n        nav_travel_method: Optional[NavigationTravelMethod] = None,\\n    ) -> List[NavigationDistanceEntity]:\\n        \"\"\"\\n        This class method find the distance between two locations.\\n\\n        Parameters\\n        ----------\\n        origin: Location, optional\\n            The origin of the navigation\\n        destination: Location, optional\\n            The destination of the navigation\\n        departure_date_time: DateTime, optional\\n            The date and time the navigation will start\\n        avoid_nav_road_condition: NavigationRoadCondition, optional\\n            The road conditions to avoid\\n        nav_travel_method: NavigationTravelMethod, optional\\n            The travel method to use\\n\\n        Returns\\n        -------\\n        List[NavigationDistanceEntity]\\n            A list of distances that were found\\n        \"\"\"\\n        pass\\n\\n    @classmethod\\n    def find_duration(\\n        cls,\\n        origin: Optional[Location],\\n        destination: Optional[Location],\\n        departure_date_time: Optional[DateTime],\\n        avoid_nav_road_condition: Optional[NavigationRoadCondition],\\n        nav_travel_method: Optional[NavigationTravelMethod],\\n    ) -> List[NavigationDurationEntity]:\\n        \"\"\"\\n        This class method find the the duration of a travel between two locations.\\n\\n        Parameters\\n        ----------\\n        origin: Location, optional\\n            The origin of the navigation\\n        destination: Location, optional\\n            The destination of the navigation\\n        departure_date_time: DateTime, optional\\n            The date and time the navigation will start\\n        avoid_nav_road_condition: NavigationRoadCondition, optional\\n            The road conditions to avoid\\n        nav_travel_method: NavigationTravelMethod, optional\\n            The travel method to use\\n\\n        Returns\\n        -------\\n        List[NavigationDurationEntity]\\n            A list of durations that were found\\n        \"\"\"\\n        pass\\n\\n    @classmethod\\n    def find_estimated_arrival(\\n        cls,\\n        origin: Optional[Location] = None,\\n        destination: Optional[Location] = None,\\n        arrival_date_time: Optional[DateTime] = None,\\n        avoid_nav_road_condition: Optional[NavigationRoadCondition] = None,\\n        nav_travel_method: Optional[NavigationTravelMethod] = None,\\n    ) -> List[NavigationEstimatedArrivalEntity]:\\n        \"\"\"\\n        This class method gets an estimated arrival information between two locations.\\n\\n        Parameters\\n        ----------\\n        origin: Location, optional\\n            The origin of the navigation\\n        destination: Location, optional\\n            The destination of the navigation\\n        departure_date_time: DateTime, optional\\n            The date and time the navigation will start\\n        avoid_nav_road_condition: NavigationRoadCondition, optional\\n            The road conditions to avoid\\n        nav_travel_method: NavigationTravelMethod, optional\\n            The travel method to use\\n\\n        Returns\\n        -------\\n        List[NavigationEstimatedArrivalEntity]\\n            A list of estimated arrival information objects that were found\\n        \"\"\"\\n        pass\\n\\n    @classmethod\\n    def find_traffic_info(\\n        cls,\\n        location: Optional[Location] = None,\\n        origin: Optional[Location] = None,\\n        destination: Optional[Location] = None,\\n        date_time: Optional[DateTime] = None,\\n        departure_date_time: Optional[DateTime] = None,\\n        nav_road_condition: Optional[NavigationRoadCondition] = None,\\n        nav_travel_method: Optional[NavigationTravelMethod] = None,\\n    ) -> List[NavigationTrafficInfoEntity]:\\n        \"\"\"\\n        This class method returns the traffic information on a specific route, location (like road) or a planned\\n        travel between two locations.\\n\\n        Parameters\\n        ----------\\n        location: Location, optional\\n            The location along the route to get the traffic information for\\n        origin: Location, optional\\n            The origin of the navigation\\n        destination: Location, optional\\n            The destination of the navigation\\n        departure_date_time: DateTime, optional\\n            The date and time the navigation will start\\n        nav_road_condition: NavigationRoadCondition, optional\\n            The road conditions to look for\\n        nav_travel_method: NavigationTravelMethod, optional\\n            The travel method to use\\n\\n        Returns\\n        -------\\n        List[NavigationTrafficInfoEntity]\\n            A list of traffic information objects that were found\\n        \"\"\"\\n        pass\\n\\n\\n# CALENDAR:\\n\\nclass Calendar(Action):\\n    \"\"\"\\n    The Calendar class contains all the methods of a virtual assistant agent in the calendar domain.\\n    \"\"\"\\n\\n    @classmethod\\n    def delete_events(\\n        cls,\\n        date_time: Optional[DateTime] = None,\\n        location: Optional[Location] = None,\\n        event_name: Optional[EventName] = None,\\n        event_calendar: Optional[EventCalendar] = None,\\n        event_category: Optional[EventType] = None,\\n    ) -> List[EventEntity]:\\n        \"\"\"\\n        This class method deletes an event in the calendar.\\n\\n        Parameters\\n        ----------\\n        date_time : DateTime, optional\\n            The date and time of the event\\n        location : Location, optional\\n            The location of the event\\n        event_name : EventName, optional\\n            The name of the event\\n        event_calendar : EventCalendar, optional\\n            The calendar to search for the event\\n        event_category : EventType, optional\\n            The category of the event\\n\\n        Returns\\n        -------\\n        List[EventEntity]\\n            a list of EventEntity objects that were deleted\\n        \"\"\"\\n        pass\\n\\n    @classmethod\\n    def find_events(\\n        cls,\\n        date_time: Optional[DateTime] = None,\\n        location: Optional[Location] = None,\\n        event_name: Optional[EventName] = None,\\n        event_calendar: Optional[EventCalendar] = None,\\n        event_category: Optional[EventType] = None,\\n    ) -> List[EventEntity]:\\n        \"\"\"\\n        This class method finds events in the calendar.\\n\\n        Parameters\\n        ----------\\n        date_time : DateTime, optional\\n            The date and time of the event\\n        location : Location, optional\\n            The location of the event\\n        event_name : EventName, optional\\n            The name of the event\\n        event_calendar : EventCalendar, optional\\n            The calendar to search for the event\\n        event_category : EventType, optional\\n            The category of the event\\n\\n        Returns\\n        -------\\n        List[EventEntity]\\n            A list of EventEntity objects\\n        \"\"\"\\n        pass\\n\\n    @classmethod\\n    def find_events_tickets(\\n        cls,\\n        date_time: Optional[Union[DateTime, List[DateTime]]] = None,\\n        location: Optional[Location] = None,\\n        event_name: Optional[EventName] = None,\\n        event_category: Optional[EventType] = None,\\n        amount: Optional[Amount] = None,\\n    ) -> List[EventTicketEntity]:\\n        \"\"\"\\n        This class method finds tickets for events in the calendar.\\n        It can be used to indicate the availablability of tickets for an event.\\n\\n        Parameters\\n        ----------\\n        date_time : DateTime, optional\\n            The date and time of the event\\n        location : Location, optional\\n            The location of the event\\n        event_name : EventName, optional\\n            The name of the event\\n        event_category : EventType, optional\\n            The category of the event\\n        amount : Amount, optional\\n            The amount of tickets requested for the event\\n\\n        Returns\\n        -------\\n        List[EventTicketEntity]\\n            A list of EventTicketEntity objects that are available for the event\\n        \"\"\"\\n        pass\\n\\n    @classmethod\\n    def purchase_tickets(\\n        cls,\\n        date_time: Optional[DateTime] = None,\\n        location: Optional[Location] = None,\\n        event_name: Optional[EventName] = None,\\n        event_category: Optional[EventType] = None,\\n        amount: Optional[Amount] = None,\\n    ) -> EventTicketEntity:\\n        \"\"\"\\n        This class method purchase tickets for events in the calendar.\\n\\n        Parameters\\n        ----------\\n        date_time : DateTime, optional\\n            The date and time of the event\\n        location : Location, optional\\n            The location of the event\\n        event_name : EventName, optional\\n            The name of the event\\n        event_category : EventType, optional\\n            The category of the event\\n        amount : Amount, optional\\n            The amount of tickets requested for the event\\n\\n        Returns\\n        -------\\n        List[EventTicketEntity]\\n            A list of EventTicketEntity objects that were purchased\\n        \"\"\"\\n        pass\\n\\n    @classmethod\\n    def schedule_event(\\n        cls,\\n        date_time: Optional[DateTime] = None,\\n        location: Optional[Location] = None,\\n        event_name: Optional[EventName] = None,\\n        event_calendar: Optional[EventCalendar] = None,\\n        event_category: Optional[EventType] = None,\\n    ) -> EventEntity:\\n        \"\"\"\\n        This class method schedules an event in the calendar.\\n\\n        Parameters\\n        ----------\\n        date_time : DateTime, optional\\n            The date and time of the event\\n        location : Location, optional\\n            The location of the event\\n        event_name : EventName, optional\\n            The name of the event\\n        event_calendar : EventCalendar, optional\\n            The calendar to search for the event\\n        event_category : EventType, optional\\n            The category of the event\\n\\n        Returns\\n        -------\\n        EventEntity\\n            The event that was scheduled\\n        \"\"\" \\n        pass\\n\\n# CLOCK:\\n\\nclass Timer(Action):\\n    \"\"\"\\n    The Timer class contains all the methods of a virtual assistant agent for using a timer in the clock domain.\\n    \"\"\"\\n\\n    @classmethod\\n    def create_timer(\\n        cls,\\n        duration: Optional[TimeDuration] = None,\\n        date_time: Optional[DateTime] = None,\\n    ) -> TimerEntity:\\n        \"\"\"\\n        This class method creates a timer.\\n        A timer can be defined with a duration or a date and time.\\n        If date and time are not specified, the timer will start immediately.\\n\\n        Parameters\\n        ----------\\n        duration : TimeDuration, optional\\n            The duration of the timer.\\n        date_time : DateTime, optional\\n            The date and time of the timer.\\n\\n        Returns\\n        -------\\n        TimerEntity\\n            The timer entity object\\n        \"\"\"\\n        pass\\n\\n    @abstractclassmethod\\n    def pause(\\n        cls,\\n        timer: Optional[TimerEntity] = None,\\n    ) -> TimerEntity:\\n        \"\"\"\\n        This class method pauses a timer.\\n\\n        Parameters\\n        ----------\\n        timer : Timer, optional\\n            The timer to be paused\\n\\n        Returns\\n        -------\\n        TimerEntity\\n            The timer object that was paused\\n        \"\"\"\\n        pass\\n\\n    @classmethod\\n    def restart(\\n        cls,\\n        timer: Optional[TimerEntity] = None,\\n    ) -> bool:\\n        \"\"\"\\n        This class method restarts a timer.\\n\\n        Parameters\\n        ----------\\n        timer : Timer, optional\\n            The timer to be restarted\\n\\n        Returns\\n        -------\\n        TimerEntity\\n            The timer object that was paused\\n        \"\"\"\\n        pass\\n\\n    @classmethod\\n    def stop(\\n        cls,\\n        timer: Optional[TimerEntity] = None,\\n    ) -> bool:\\n        \"\"\"\\n        This class method stops a timer.\\n\\n        Parameters\\n        ----------\\n        timer : Timer, optional\\n            The timer to be stopped\\n\\n        Returns\\n        -------\\n        TimerEntity\\n            The timer object that was paused\\n        \"\"\"\\n        pass\\n\\n\\nclass Alarm:\\n    \"\"\"\\n    The Alarm class contains all the methods of a virtual assistant agent for using a timer in the clock domain.\\n    \"\"\"\\n\\n    @classmethod\\n    def create_alarm(\\n        cls,\\n        alarm_name: Optional[AlarmName] = None,\\n        date_time: Optional[DateTime] = None,\\n        song: Optional[Song] = None,\\n        content: Optional[Content] = False,\\n    ) -> AlarmEntity:\\n        \"\"\"\\n        This class method creates an alarm.\\n        An alarm is defined with a date and time and can optionally play a song or present a content.\\n\\n        Parameters\\n        ----------\\n        alarm_name: AlarmName, optional\\n            The name of the alarm.\\n        date_time : DateTime, optional\\n            The date and time of the alarm.\\n        song : Song, optional\\n            The song to be played when the alarm is triggered.\\n        content : Content, optional\\n            The content to be presented when the alarm is triggered.\\n\\n        Returns\\n        -------\\n        AlarmEntity\\n            The alarm entity object\\n        \"\"\"\\n        pass\\n\\n    @classmethod\\n    def update_alarm(\\n        cls,\\n        date_time: Optional[DateTime] = None,\\n        alarm_name: Optional[AlarmName] = None,\\n    ) -> AlarmEntity:\\n        \"\"\"\\n        This class method updates an alarm.\\n\\n        Parameters\\n        ----------\\n        date_time : DateTime, optional\\n            The date and time of the alarm.\\n        alarm_name : AlarmName, optional\\n            The alarm name.\\n\\n        Returns\\n        -------\\n        AlarmEntity\\n            The alarm entity object that was updated\\n        \"\"\"\\n        pass\\n\\n    @classmethod\\n    def find_alarms(\\n        cls,\\n        date_time: Optional[DateTime],\\n        alarm_name: Optional[AlarmName],\\n    ) -> List[AlarmEntity]:\\n        \"\"\"\\n        This class method finds existing alarms based on the provided parameters.\\n\\n        Parameters\\n        ----------\\n        date_time : DateTime, optional\\n            The date and time of the alarm.\\n        alarm_name : AlarmName, optional\\n            The alarm name.\\n\\n        Returns\\n        -------\\n        List[AlarmEntity]\\n            The alarm entity object that was updated\\n        \"\"\"\\n        pass\\n\\n# REMINDERS:\\n\\nclass Reminders(Action):\\n    \"\"\"\\n    The Reminders class contains all the methods of a virtual assistant agent in the reminders domain.\\n    \"\"\"\\n\\n    @classmethod\\n    def create_reminder(\\n        cls,\\n        content: Content,\\n        person_reminded: Optional[Contact] = None,\\n        date_time: Optional[DateTime] = None,\\n    ) -> ReminderEntity:\\n        \"\"\"\\n        This class method creates a reminder.\\n\\n        Parameters\\n        ----------\\n        content : Content\\n            The content of the reminder.\\n        person_reminded : Contact, optional\\n            The person to be reminded.\\n        date_time : DateTime, optional\\n            The date and time of the reminder.\\n\\n        Returns\\n        -------\\n        ReminderEntity\\n            The reminder entity object that was created\\n        \"\"\"\\n        pass\\n\\n    @classmethod\\n    def find_reminders(\\n        cls,\\n        person_reminded: Optional[Contact] = None,\\n        date_time: Optional[DateTime] = None,\\n        content: Optional[Content] = None,\\n    ) -> List[ReminderEntity]:\\n        \"\"\"\\n        This class method finds existing reminders.\\n\\n        Parameters\\n        ----------\\n        content : Content\\n            The content of the reminder.\\n        person_reminded : Contact, optional\\n            The person to be reminded.\\n        date_time : DateTime, optional\\n            The date and time of the reminder.\\n\\n        Returns\\n        -------\\n        List[ReminderEntity]\\n            A list of reminder entity objects that were found\\n        \"\"\"\\n        pass\\n\\n    @classmethod\\n    def delete_reminders(\\n        cls, reminders: Union[ReminderEntity, List[ReminderEntity]]\\n    ) -> List[ReminderEntity]:\\n        \"\"\"\\n        This class method delete reminders.\\n\\n        Parameters\\n        ----------\\n        reminders : Union[ReminderEntity, List[ReminderEntity]]\\n            The reminders to be deleted. Can be a single reminder or a list of reminders.\\n\\n        Returns\\n        -------\\n        List[ReminderEntity]\\n            The list of reminders that were deleted\\n        \"\"\"\\n        pass\\n\\n\\n# GENERIC:\\n\\nclass Content(Entity, Resolvable):\\n    \"\"\"\\n    The Content class is used to represent a content like a text, a voice, an image, a video, etc.\\n    This is a generic class that can be used to represent any content. for exmaple, like in a message\\n    or a reminder.\\n    The content can also be casted from any other entity. For example, a driving directions instruction\\n    can be casted to a content.\\n    It inherits from the Entity class and the Resolvable class.\\n    \"\"\"\\n\\n    pass\\n\\n\\nclass Contact(Entity, Resolvable):\\n    \"\"\"\\n    The Contact class is used to represent a contact book contact. A contact is anyone that can be contacted.\\n    Contacts are used in order to send messages (to and from) or set reminders for.\\n    Any textual description of a person (or a list of people) can be resolved to a contact (or list of contacts).\\n    This class inherits from the Entity class and the Resolvable class.\\n    \"\"\"\\n\\n    pass\\n\\n\\nclass DateTime(Entity, Resolvable):\\n    \"\"\"\\n    The DateTime class is used to represent a date and time.\\n    Many action methods use this class in order to specify a date and time for an action.\\n    For example:\\n        * A reminder can be set to a specific date and time.\\n        * An alarm can be set to a specific date and time.\\n        * A message can be sent at a specific date and time.\\n        * A meeting can be scheduled at a specific date and time.\\n    This class inherits from the Entity class and the Resolvable class.\\n    \"\"\"\\n\\n    pass\\n\\n\\nclass Location(Entity, Resolvable):\\n    \"\"\"\\n    The Location class is used to represent a location. A location can be a place, a city, a country,\\n    a landmark, a road, etc. Locations can also be a store, a restaurant, a hotel, etc. In contrast to\\n    a MapEntity, a location does not hold information on a place besides its physical location and its\\n    name association.\\n    This class inherits from the Entity class and the Resolvable class.\\n    \"\"\"\\n\\n    pass\\n\\n\\nclass Amount(Entity, Resolvable):\\n    \"\"\"\\n    The Amount class is used to represent an amount of something. An amount can be a number of items.\\n    It is used in the context of this API to indicate number of tickets to purchase for an event, or\\n    a number of products to purchase or place in a shopping list. An amout will typically resolve a specific\\n    amount and is less used in a general quantifier context (like the detrminers \"a\", \"the\", etc.).\\n    It inherits from the Entity class and the Resolvable class.\\n    \"\"\"\\n\\n    pass\\n\\n\\nclass TimeDuration(Entity, Resolvable):\\n    \"\"\"\\n    The TimeDuration class is used to represent a duration of time. A duration of time can be a number of\\n    minutes to wait when setting a timer. It is used in the API in the context of a timer.\\n    It inherits from the Entity class and the Resolvable class.\\n    \"\"\"\\n\\n    pass\\n\\n\\n# UTILS:\\n\\ndef first(a: Iterable[T], n: Optional[int] = 1) -> Union[T, List[T]]:\\n    \"\"\"\\n    This method returns the first N entities in a list of entities.\\n\\n    Parameters\\n    ----------\\n    a : Iterable[T]\\n        An iterable of entities\\n    n : int, optional\\n        The number of first elements to return from the list, by default 1\\n\\n    Returns\\n    -------\\n    T|List[T]\\n        The first entity or a list of the first N entities\\n    \"\"\"\\n    pass\\n\\n\\ndef last(a: Iterable[T], n: Optional[int] = 1) -> Union[T, List[T]]:\\n    \"\"\"\\n    This method returns the last N entities in a list of entities.\\n\\n    Parameters\\n    ----------\\n    a : Iterable[T]\\n        An iterable of entities\\n    n : int, optional\\n        The number of last elements to return from the list, by default 1\\n\\n    Returns\\n    -------\\n    T|List[T]\\n        The first entity or a list of the last N entities\\n    \"\"\"\\n    pass\\n\\n\\ndef sort(a: Iterable[T], text: str) -> Iterable[T]:\\n    \"\"\"\\n    This method sorts an iterable of entities based on a given text attribute.\\n\\n    Parameters\\n    ----------\\n    a : Iterable[T]\\n        An iterable of entities\\n    text : str\\n        The attribute to sort the entities by expressed as a text string\\n\\n    Returns\\n    -------\\n    T|List[T]\\n        The first entity or a list of the last N entities\\n    \"\"\"\\n    pass\\n\\n\\ndef filter(a: Iterable[T], **kwargs) -> Iterable[T]:\\n    \"\"\"\\n    This method filters an iterable of entities based on a given keywords.\\n\\n    Parameters\\n    ----------\\n    a : Iterable[T]\\n        An iterable of entities\\n    kwargs : dict\\n        Arbitrary keyword arguments to filter the list of entities by.\\n        These keywords are expected to be attributes of the entities.\\n\\n    Returns\\n    -------\\n    T|List[T]\\n        The first entity or a list of the last N entities\\n    \"\"\"\\n    pass\\n\\n\\n# RESPONDER:\\n\\nclass Responder(Action):\\n    \"\"\"\\n    Responders are used to respond to user requests. Responder is the default way to react to user requests that\\n    requires a response. Any entities recieved from the APIs can be passed to the responder to be sent to the user.\\n    \"\"\"\\n\\n    @classmethod\\n    def respond(cls, response: Union[List[Entity], Entity]) -> None:\\n        \"\"\"\\n        This class method delete reminders.\\n\\n        Parameters\\n        ----------\\n        response : Union[List[Entity], Entity]\\n            The entity or a list of entities to be sent to the user.\\n\\n        Returns\\n        -------\\n        None\\n        \"\"\"\\n        pass\\n\\n\\n# ACTION:\\n\\nclass Action:\\n    \"\"\"\\n    This is a markup class for all virtual assistance actions.\\n    An action is a class that contains all the methods of a virtual assistant aget in a specific domain.\\n    For example, the Messages action contains actions like sending a message or finding messages.\\n    If an action method is provided without required parameters, the virtual assistant agent will prompt the user\\n    to provide the missing information.\\n    \"\"\"\\n\\n    pass\\n\\n'},\n",
       " {'role': 'assistant', 'content': 'ok'},\n",
       " {'role': 'user',\n",
       "  'content': 'Below are examples of text descriptions and their corresponding dense ASTs for Python code.Text:\\nsee if find my first reminders that I have a meeting at 3pm and there are and see if I got a reminder at mindnight in 2 days to bring the keys'},\n",
       " {'role': 'assistant',\n",
       "  'content': \"Dense AST:\\n\\t[ Module\\n\\t\\t[ person_reminded = Contact.resolve_from_text('my') ]\\n\\t\\t[ content = Content.resolve_from_text('I have a meeting at 3pm') ]\\n\\t\\t[ reminders = Reminders.find_reminders(person_reminded=person_reminded, content=content) ]\\n\\t\\t[ reminders = first(reminders) ]\\n\\t\\t[ Responder.respond(response=reminders) ]\\n\\t\\t[ test_reminders = bool(reminders) ]\\n\\t\\t[ Responder.respond(response=test_reminders) ]\\n\\t\\t[ person_reminded = Contact.resolve_from_text('I') ]\\n\\t\\t[ date_time = DateTime.resolve_from_text('mindnight in 2 days') ]\\n\\t\\t[ content = Content.resolve_from_text('bring the keys') ]\\n\\t\\t[ reminders = Reminders.find_reminders(person_reminded=person_reminded, date_time=date_time, content=content) ]\\n\\t\\t[ test_reminders = bool(reminders) ]\\n\\t\\t[ Responder.respond(response=test_reminders) ]\\n\\t]\\n\"},\n",
       " {'role': 'user',\n",
       "  'content': 'Text:\\ncreate a reminder at mindnight to close the window and to call my dad'},\n",
       " {'role': 'assistant',\n",
       "  'content': \"Dense AST:\\n\\t[ Module\\n\\t\\t[ date_time = DateTime.resolve_from_text('mindnight') ]\\n\\t\\t[ contents = Content.resolve_many_from_text('close the window and call my dad') ]\\n\\t\\t[ For\\n\\t\\t\\t[ test\\n\\t\\t\\t\\t[ iter\\n\\t\\t\\t\\t\\t[ [contents] ]\\n\\t\\t\\t\\t]\\n\\t\\t\\t\\t[ Name\\n\\t\\t\\t\\t\\t[ content ]\\n\\t\\t\\t\\t]\\n\\t\\t\\t]\\n\\t\\t\\t[ body\\n\\t\\t\\t\\t[ Reminders.create_reminder(date_time=date_time, content=content) ]\\n\\t\\t\\t]\\n\\t\\t]\\n\\t]\\n\"},\n",
       " {'role': 'user',\n",
       "  'content': 'Based on the API specifications and previous examples, convert the following text description into Python densed AST form:\\nText:\\nemail everyone in my family to see if George Shelton is there and that I will be on time and also check if all microwave that are in stock at Ramsey-Pittman'}]"
      ]
     },
     "execution_count": 58,
     "metadata": {},
     "output_type": "execute_result"
    }
   ],
   "source": [
    "prompt = build_prompt(\n",
    "    prompt_type=prompt_type, \n",
    "    strategy=strategy, \n",
    "    input_data=examples_df.iloc[100],\n",
    "    examples_df=examples_df,\n",
    "    examples_limit=2\n",
    ")\n",
    "prompt"
   ]
  },
  {
   "cell_type": "code",
   "execution_count": 59,
   "metadata": {},
   "outputs": [
    {
     "name": "stdout",
     "output_type": "stream",
     "text": [
      "prompt [{'role': 'system', 'content': 'You are a skilled programmer. You will be provided with a text description and your task is to convert it into a dense variation of an Abstract Syntax Tree (AST) suitable for Python code.'}, {'role': 'user', 'content': 'Below are API specifications for implementing the corresponding dense AST for Python code.\\n\\n# MAP:\\n\\nclass Map(Action):\\n    \"\"\"\\n    The Map class contains all the methods of a virtual assistant agent in the map domain.\\n    \"\"\"\\n\\n    @classmethod\\n    def find_on_map(cls, location: Location) -> List[MapEntity]:\\n        \"\"\"\\n        This class method finds places on the map.\\n\\n        Parameters\\n        ----------\\n        location : Location\\n            The location to search for\\n\\n        Returns\\n        -------\\n        List[MapEntity]\\n            A list of places in the form of map entities\\n        \"\"\"\\n        pass\\n\\n# SHOPPING:\\n\\nclass Shopping(Action):\\n    \"\"\"\\n    The Shopping class contains all the methods of a virtual assistant agent in the shopping domain.\\n    \"\"\"\\n\\n    @classmethod\\n    def find_products(\\n        cls,\\n        product_name: Optional[ProductName] = None,\\n        product_attribute: Optional[ProductAttribute] = None,\\n        date_time: Optional[Union[DateTime, List[DateTime]]] = None,\\n        location: Optional[Location] = None,\\n    ) -> List[ProductEntity]:\\n        \"\"\"\\n        This class method find products based on the given parameters.\\n\\n        Parameters\\n        ----------\\n        product_name : ProductName, optional\\n            The name of the product to find\\n        product_attribute : ProductAttribute, optional\\n            The attribute of the product to find (e.g., available, on sale, etc.)\\n        date_time : DateTime, optional\\n            The date and time to find the product at\\n        location : Location, optional\\n            The location (usually the store) to find the product at\\n\\n        Returns\\n        -------\\n        List[ProductEntity]\\n            The list of weather forecasts that were found\\n        \"\"\"\\n        data_model = DataModel()\\n        data = data_model.get_data(ProductEntity)\\n        if product_name:\\n            data = [x for x in data if x.product_name == product_name]\\n\\n        if product_attribute:\\n            data = [x for x in data if x.product_attribute == product_attribute]\\n\\n        if date_time:\\n            if type(date_time) == list:\\n                data = [x for x in data if x.date_time in date_time]\\n            else:\\n                data = [x for x in data if x.date_time == date_time]\\n\\n        if location:\\n            data = [x for x in data if x.location == location]\\n\\n        return data\\n\\n    @classmethod\\n    def find_shopping_lists(\\n        cls,\\n        date_time: Optional[Union[DateTime, List[DateTime]]] = None,\\n        location: Optional[Location] = None,\\n    ) -> List[ShoppingListEntity]:\\n        \"\"\"\\n        This class method finds saved shopping list based on the given parameters.\\n\\n        Parameters\\n        ----------\\n        date_time : DateTime, optional\\n            The date and time to find that is associated with the shopping list\\n        location : Location, optional\\n            The location (usually the store) to that is associated with the shopping list\\n\\n        Returns\\n        -------\\n        List[ShoppingListEntity]\\n            A list of shopping list entities that were found\\n        \"\"\"\\n        pass\\n\\n    @classmethod\\n    def add_to_shopping_list(\\n        cls,\\n        shopping_list_name: ShoppingListName,\\n        product_name: Optional[ProductName] = None,\\n        amount: Optional[Amount] = None,\\n    ) -> ShoppingListEntity:\\n        \"\"\"\\n        This class method adds a product to a shopping list.\\n\\n        Parameters\\n        ----------\\n        shopping_list_name : ShoppingListName, optional\\n            The name of the shopping list to add the product to\\n        product_name : ProductName, optional\\n            The name of the product to add to the shopping list\\n        amount : Amount, optional\\n            The amount of products to add to the shopping list\\n\\n        Returns\\n        -------\\n        ShoppingListEntity\\n            The shopping list entity that the product was added to\\n        \"\"\"\\n        pass\\n\\n    @classmethod\\n    def order(\\n        cls,\\n        product_name: Optional[ProductName] = None,\\n        product_attribute: Optional[ProductAttribute] = None,\\n        date_time: Optional[Union[DateTime, List[DateTime]]] = None,\\n        location: Optional[Location] = None,\\n        amount: Optional[Amount] = None,\\n        shopping_list_name: Optional[ShoppingListName] = None,\\n    ) -> OrderEntity:\\n        \"\"\"\\n        This class method places an order for a product.\\n\\n        Parameters\\n        ----------\\n        product_name : ProductName, optional\\n            The name of the product to find\\n        product_attribute : ProductAttribute, optional\\n            The attribute of the product to find (e.g., available, on sale, etc.)\\n        date_time : DateTime, optional\\n            The date and time to find the product at\\n        location : Location, optional\\n            The location (usually the store) to find the product at\\n        amount : Amount, optional\\n            The amount of products to order\\n        shopping_list_name : ShoppingListName, optional\\n            The name of the shopping list that contains the products to order\\n            This parameter is mutually exclusive with the product and amount parameters\\n\\n        Returns\\n        -------\\n        OrderEntity\\n            The order entity that was placed\\n        \"\"\"\\n        pass\\n\\n\\n# MUSIC:\\n\\nclass Music(Action):\\n    \"\"\"\\n    The Music class contains all the methods of a virtual assistant agent in the music domain.\\n    \"\"\"\\n\\n    @classmethod\\n    def play_music(\\n        cls,\\n        album: Optional[Album] = None,\\n        artist: Optional[Artist] = None,\\n        genre: Optional[Genre] = None,\\n        playlist: Optional[Playlist] = None,\\n        song: Optional[Song] = None,\\n        date_time: Optional[DateTime] = None,\\n        music_type: Optional[MusicType] = None,\\n    ) -> List[MusicEntity]:\\n        \"\"\"\\n        This class method plays a music: a song, an album, songs by an artists,\\n        a music genre, a playlist in a specific date and time.\\n        The given params: album, artist, genre, playlist and song are usually mutually exclusive\\n        and are not used in conjunction.\\n\\n        Parameters\\n        ----------\\n        album : Album, optional\\n            The album to play\\n        artist : Artist, optional\\n            The artist to play\\n        genre : Genre, optional\\n            The genre to play\\n        playlist : Playlist, optional\\n            The playlist to play\\n        date_time : DateTime, optional\\n            The date and time to play the music\\n        music_type : MusicType, optional\\n            The type of music to play (usually anything that does not fit in the other categories)\\n\\n        Returns\\n        -------\\n        List[MusicEntity]\\n            A list of MusicEntity objects that represent the music to play\\n        \"\"\"\\n        pass\\n\\n\\n# HOME:\\n\\nclass SmartHome(Action):\\n    \"\"\"\\n    The SmartHome class contains all the methods of a virtual assistant agent in the smart home domain.\\n    \"\"\"\\n    \\n    @classmethod\\n    def find_home_devices(\\n        cls,\\n        device_name: Optional[HomeDeviceName] = None,\\n        device_action: Optional[HomeDeviceAction] = None,\\n        device_value: Optional[HomeDeviceValue] = None,\\n    ) -> List[HomeDeviceEntity]:\\n        \"\"\"\\n        This class method finds smart home devices.\\n\\n        Parameters\\n        ----------\\n        device_name : HomeDeviceName, optional\\n            The device name\\n        device_action : HomeDeviceAction, optional\\n            The action to be performed on the device\\n        device_value : HomeDeviceValue, optional\\n            The action\\'s value to be set on the device\\n\\n        Returns\\n        -------\\n        List[HomeDeviceEntity]\\n            A list of home device entities\\n        \"\"\"\\n        pass\\n\\n    @classmethod\\n    def execute_home_device_action(\\n        cls,\\n        date_time: Optional[DateTime] = None,\\n        device_name: Optional[HomeDeviceName] = None,\\n        device_action: Optional[HomeDeviceAction] = None,\\n        device_value: Optional[HomeDeviceValue] = None,\\n    ) -> HomeDeviceEntity:\\n        \"\"\"\\n        This class method executes given actions on smart home devices.\\n\\n        Parameters\\n        ----------\\n        device_name : HomeDeviceName, optional\\n            The device name\\n        device_action : HomeDeviceAction, optional\\n            The action to be performed on the device\\n        device_value : HomeDeviceValue, optional\\n            The action\\'s value to be set on the device\\n        date_time : DateTime, optional\\n            The date and time of the action\\n\\n        Returns\\n        -------\\n        HomeDeviceEntity\\n            Home device entity action is performed on\\n        \"\"\"\\n        pass\\n\\n# WEATHER:\\n\\nclass Weather(Action):\\n    \"\"\"\\n    The Weather class contains all the methods of a virtual assistant agent in the weather domain.\\n    \"\"\"\\n    \\n    @classmethod\\n    def find_weather_forecasts(\\n        cls,\\n        date_time: Optional[Union[DateTime, List[DateTime]]] = None,\\n        location: Optional[Location] = None,\\n        weather_attribute: Optional[WeatherAttribute] = None,\\n        weather_temperature: Optional[WeatherTemperature] = None,\\n    ) -> List[WeatherForecastEntity]:\\n        \"\"\"\\n        This class method find weather forecasts based on the given parameters.\\n\\n\\n        Parameters\\n        ----------\\n        date_time : DateTime, optional\\n            The date and time to forecast the weather at\\n        location : Location, optional\\n            The location to forecast the weather at\\n        weather_attribute : WeatherAttribute, optional\\n            This parameter can be used to filter the weather forecast on a specific weather attribute\\n        weather_temperature : WeatherTemperature, optional\\n            The weather temperature to forecast (e.g., less than 80 degrees)\\n            This parameter can be used to filter the weather forecast on a specific weather termperature\\n            \\n        Returns\\n        -------\\n        List[WeatherForecastEntity]\\n            The list of weather forecasts that were found\\n        \"\"\"\\n        pass\\n\\n\\n\\n\\n# MESSAGES:\\n\\nclass Messages(Action):\\n    \"\"\"\\n    The Messages class contains all the methods of a virtual assistant agent in the messages domain.\\n    \"\"\"\\n\\n    @classmethod\\n    def find_messages(\\n        cls,\\n        date_time: Optional[DateTime] = None,\\n        sender: Optional[Contact] = None,\\n        recipient: Optional[Contact] = None,\\n        content: Optional[Content] = None,\\n        message_status: Optional[MessageStatus] = None,\\n        message_content_type: Optional[MessageContentType] = None,\\n    ) -> List[MessageEntity]:\\n        \"\"\"\\n        This class method find messages based on the given parameters.\\n\\n        Parameters\\n        ----------\\n        date_time : DateTime, optional\\n            The date and time the message will be sent\\n        sender : Contact, optional\\n            The sender of the message\\n        recipient : Contact, optional\\n            The recipient of the message\\n        content : Content, optional\\n            The content of the message\\n        message_status : MessageStatus, optional\\n            The status of the message (e.g., open, send, read, unread)\\n        message_content_type : MessageContentType, optional\\n            The content type of the message\\n\\n        Returns\\n        -------\\n        List[MessageEntity]\\n            The list of messages that were found\\n        \"\"\"\\n        pass\\n\\n    @classmethod\\n    def send_message(\\n        cls,\\n        recipient: Optional[Contact] = None,\\n        content: Optional[Content] = None,\\n        date_time: Optional[DateTime] = None,\\n        message_content_type: Optional[MessageContentType] = None,\\n    ) -> MessageEntity:\\n        \"\"\"\\n        This class method send messages.\\n\\n        Parameters\\n        ----------\\n        recipient : Contact, optional\\n            The recipient of the message\\n        content : Content, optional\\n            The content of the message\\n        date_time : DateTime, optional\\n            The date and time the message will be sent\\n        message_content_type : MessageContentType, optional\\n            The content type of the message\\n\\n        Returns\\n        -------\\n        MessageEntity\\n            The message that was sent\\n        \"\"\"\\n        pass\\n\\n    @classmethod\\n    def delete_messages(\\n        cls, messages: Union[MessageEntity, List[MessageEntity]]\\n    ) -> List[MessageEntity]:\\n        \"\"\"\\n        This class method deletes messages.\\n\\n        Parameters\\n        ----------\\n        messages : MessageEntity|List[MessageEntity], optional\\n            The messages to be deleted. If a single message is passed, it will be converted to a list.\\n\\n        Returns\\n        -------\\n        List[MessageEntity]\\n            a list of MessageEntity objects that were deleted\\n        \"\"\"\\n        pass\\n\\n\\n# ENTITY:\\n\\nclass Entity:\\n    \"\"\"\\n    The Entity class is the base class for all entities. Entities are used to represent objects in the API.\\n    Any object returned by the API is an entity. \\n    This class is abstract and cannot be instantiated.\\n    \"\"\"\\n\\n    pass\\n\\n\\n# RESOLVABLE:\\n\\nclass Resolvable(Generic[T]):\\n    \"\"\"\\n    The Resolvable class is the base class for all resolvable entities.\\n    Resolvable entities are used to represent parameters in the API.\\n    This class bridges the user intent expressed in natural language and expected objects in the API.\\n    For exmaple, Contact, Location, DateTime, etc. are all resolvable entities.\\n    Resolvable objects are resolve from the user input or from entities recieved from the API.\\n    \"\"\"\\n\\n    # @exception_handler\\n    @classmethod\\n    def resolve_from_text(T, text: str) -> T:\\n        \"\"\"\\n        This class method resolves a resolvable object from the user input.\\n        The resolved text will usually be a phrase within the user instruction.\\n        For exmaple:\\n            * \"To San Francisco\" will resolve to a Location object.\\n            * \"After 8PM\" will resolve to a DateTime object.\\n            * \"To my cousin John\" will resolve to a Contact object.\\n\\n        Parameters\\n        ----------\\n        text : str\\n            The text to recover a Resolvable object from\\n\\n        Returns\\n        -------\\n        T\\n            The resolable template object that is calling this method\\n        \"\"\"\\n        pass\\n\\n    @classmethod\\n    def resolve_many_from_text(T, text: str) -> List[T]:\\n        \"\"\"\\n        This class method resolves a list of resolvable object from the user input.\\n        The resolved text will usually be a phrase within the user instruction. Resolve from many will usually\\n        include a plural form of a noun. Alternatively, it will include a singular noun with a semantics of plural.\\n        For example:\\n            * \"Every store in 10 miles radius\" will resolve to a list Location objects.\\n            * \"The weekend\" will be resolved to a list of DateTime objects.\\n            * \"My book reading club\" will resolve to a list Contact object.\\n\\n        Parameters\\n        ----------\\n        text : str\\n            The text to recover a list of Resolvable objects from\\n\\n        Returns\\n        -------\\n        List[T]\\n            The resolable template object that is calling this method\\n        \"\"\"\\n        pass\\n\\n    # @exception_handler\\n    @classmethod\\n    def resolve_from_entity(\\n        T,\\n        entity: Union[Entity, List[Entity]],\\n        text: Optional[str] = None,\\n    ) -> T:\\n        \"\"\"\\n        This class method resolves a resolvable object from an entity object.\\n        It is possible that we would like to resolve a one resolvable object from another resolvable object.\\n        This scenario is typical when using a result of a previous API call as a parameter for a subsequent API call.\\n        For example:\\n            * \"find directions to San Francisco and send them to John\". The navigation directions result will be resolved\\n            to a Content object in the subsequent API call to send a message.\\n            * \"Find the nearest open pharmacy and navigate to it\". The map object will be resolve to a Location object\\n            in the subsequent API call to navigate to it.\\n\\n        Parameters\\n        ----------\\n        entity : Entity\\n            The entity object to recover a Resolvable object from\\n\\n        Returns\\n        -------\\n        T\\n            The resolable template object that is calling this method\\n        \"\"\"\\n\\n        pass\\n\\n\\n# NAVIGATION:\\n\\nclass Navigation(Action):\\n    \"\"\"\\n    The Navigation class contains all the methods of a virtual assistant agent in the navigation domain.\\n    \"\"\"\\n\\n    @classmethod\\n    def find_directions(\\n        cls,\\n        destination: Optional[Location],\\n        origin: Optional[Location] = None,\\n        departure_date_time: Optional[DateTime] = None,\\n        avoid_nav_road_condition: Optional[NavigationRoadCondition] = None,\\n        nav_travel_method: Optional[NavigationTravelMethod] = None,\\n    ) -> List[NavigationDirectionEntity]:\\n        \"\"\"\\n        This class method find directions based on the given parameters.\\n\\n        Parameters\\n        ----------\\n        destination: Location, optional\\n            The destination of the navigation\\n        origin: Location, optional\\n            The origin of the navigation\\n        departure_date_time: DateTime, optional\\n            The date and time the navigation will start\\n        avoid_nav_road_condition: NavigationRoadCondition, optional\\n            The road conditions to avoid\\n        nav_travel_method: NavigationTravelMethod, optional\\n            The travel method to use\\n\\n        Returns\\n        -------\\n        List[NavigationDirectionEntity]\\n            A list of directions that were found\\n        \"\"\"\\n        pass\\n\\n    @classmethod\\n    def find_distance(\\n        cls,\\n        origin: Optional[Location] = None,\\n        destination: Optional[Location] = None,\\n        departure_date_time: Optional[DateTime] = None,\\n        avoid_nav_road_condition: Optional[NavigationRoadCondition] = None,\\n        nav_travel_method: Optional[NavigationTravelMethod] = None,\\n    ) -> List[NavigationDistanceEntity]:\\n        \"\"\"\\n        This class method find the distance between two locations.\\n\\n        Parameters\\n        ----------\\n        origin: Location, optional\\n            The origin of the navigation\\n        destination: Location, optional\\n            The destination of the navigation\\n        departure_date_time: DateTime, optional\\n            The date and time the navigation will start\\n        avoid_nav_road_condition: NavigationRoadCondition, optional\\n            The road conditions to avoid\\n        nav_travel_method: NavigationTravelMethod, optional\\n            The travel method to use\\n\\n        Returns\\n        -------\\n        List[NavigationDistanceEntity]\\n            A list of distances that were found\\n        \"\"\"\\n        pass\\n\\n    @classmethod\\n    def find_duration(\\n        cls,\\n        origin: Optional[Location],\\n        destination: Optional[Location],\\n        departure_date_time: Optional[DateTime],\\n        avoid_nav_road_condition: Optional[NavigationRoadCondition],\\n        nav_travel_method: Optional[NavigationTravelMethod],\\n    ) -> List[NavigationDurationEntity]:\\n        \"\"\"\\n        This class method find the the duration of a travel between two locations.\\n\\n        Parameters\\n        ----------\\n        origin: Location, optional\\n            The origin of the navigation\\n        destination: Location, optional\\n            The destination of the navigation\\n        departure_date_time: DateTime, optional\\n            The date and time the navigation will start\\n        avoid_nav_road_condition: NavigationRoadCondition, optional\\n            The road conditions to avoid\\n        nav_travel_method: NavigationTravelMethod, optional\\n            The travel method to use\\n\\n        Returns\\n        -------\\n        List[NavigationDurationEntity]\\n            A list of durations that were found\\n        \"\"\"\\n        pass\\n\\n    @classmethod\\n    def find_estimated_arrival(\\n        cls,\\n        origin: Optional[Location] = None,\\n        destination: Optional[Location] = None,\\n        arrival_date_time: Optional[DateTime] = None,\\n        avoid_nav_road_condition: Optional[NavigationRoadCondition] = None,\\n        nav_travel_method: Optional[NavigationTravelMethod] = None,\\n    ) -> List[NavigationEstimatedArrivalEntity]:\\n        \"\"\"\\n        This class method gets an estimated arrival information between two locations.\\n\\n        Parameters\\n        ----------\\n        origin: Location, optional\\n            The origin of the navigation\\n        destination: Location, optional\\n            The destination of the navigation\\n        departure_date_time: DateTime, optional\\n            The date and time the navigation will start\\n        avoid_nav_road_condition: NavigationRoadCondition, optional\\n            The road conditions to avoid\\n        nav_travel_method: NavigationTravelMethod, optional\\n            The travel method to use\\n\\n        Returns\\n        -------\\n        List[NavigationEstimatedArrivalEntity]\\n            A list of estimated arrival information objects that were found\\n        \"\"\"\\n        pass\\n\\n    @classmethod\\n    def find_traffic_info(\\n        cls,\\n        location: Optional[Location] = None,\\n        origin: Optional[Location] = None,\\n        destination: Optional[Location] = None,\\n        date_time: Optional[DateTime] = None,\\n        departure_date_time: Optional[DateTime] = None,\\n        nav_road_condition: Optional[NavigationRoadCondition] = None,\\n        nav_travel_method: Optional[NavigationTravelMethod] = None,\\n    ) -> List[NavigationTrafficInfoEntity]:\\n        \"\"\"\\n        This class method returns the traffic information on a specific route, location (like road) or a planned\\n        travel between two locations.\\n\\n        Parameters\\n        ----------\\n        location: Location, optional\\n            The location along the route to get the traffic information for\\n        origin: Location, optional\\n            The origin of the navigation\\n        destination: Location, optional\\n            The destination of the navigation\\n        departure_date_time: DateTime, optional\\n            The date and time the navigation will start\\n        nav_road_condition: NavigationRoadCondition, optional\\n            The road conditions to look for\\n        nav_travel_method: NavigationTravelMethod, optional\\n            The travel method to use\\n\\n        Returns\\n        -------\\n        List[NavigationTrafficInfoEntity]\\n            A list of traffic information objects that were found\\n        \"\"\"\\n        pass\\n\\n\\n# CALENDAR:\\n\\nclass Calendar(Action):\\n    \"\"\"\\n    The Calendar class contains all the methods of a virtual assistant agent in the calendar domain.\\n    \"\"\"\\n\\n    @classmethod\\n    def delete_events(\\n        cls,\\n        date_time: Optional[DateTime] = None,\\n        location: Optional[Location] = None,\\n        event_name: Optional[EventName] = None,\\n        event_calendar: Optional[EventCalendar] = None,\\n        event_category: Optional[EventType] = None,\\n    ) -> List[EventEntity]:\\n        \"\"\"\\n        This class method deletes an event in the calendar.\\n\\n        Parameters\\n        ----------\\n        date_time : DateTime, optional\\n            The date and time of the event\\n        location : Location, optional\\n            The location of the event\\n        event_name : EventName, optional\\n            The name of the event\\n        event_calendar : EventCalendar, optional\\n            The calendar to search for the event\\n        event_category : EventType, optional\\n            The category of the event\\n\\n        Returns\\n        -------\\n        List[EventEntity]\\n            a list of EventEntity objects that were deleted\\n        \"\"\"\\n        pass\\n\\n    @classmethod\\n    def find_events(\\n        cls,\\n        date_time: Optional[DateTime] = None,\\n        location: Optional[Location] = None,\\n        event_name: Optional[EventName] = None,\\n        event_calendar: Optional[EventCalendar] = None,\\n        event_category: Optional[EventType] = None,\\n    ) -> List[EventEntity]:\\n        \"\"\"\\n        This class method finds events in the calendar.\\n\\n        Parameters\\n        ----------\\n        date_time : DateTime, optional\\n            The date and time of the event\\n        location : Location, optional\\n            The location of the event\\n        event_name : EventName, optional\\n            The name of the event\\n        event_calendar : EventCalendar, optional\\n            The calendar to search for the event\\n        event_category : EventType, optional\\n            The category of the event\\n\\n        Returns\\n        -------\\n        List[EventEntity]\\n            A list of EventEntity objects\\n        \"\"\"\\n        pass\\n\\n    @classmethod\\n    def find_events_tickets(\\n        cls,\\n        date_time: Optional[Union[DateTime, List[DateTime]]] = None,\\n        location: Optional[Location] = None,\\n        event_name: Optional[EventName] = None,\\n        event_category: Optional[EventType] = None,\\n        amount: Optional[Amount] = None,\\n    ) -> List[EventTicketEntity]:\\n        \"\"\"\\n        This class method finds tickets for events in the calendar.\\n        It can be used to indicate the availablability of tickets for an event.\\n\\n        Parameters\\n        ----------\\n        date_time : DateTime, optional\\n            The date and time of the event\\n        location : Location, optional\\n            The location of the event\\n        event_name : EventName, optional\\n            The name of the event\\n        event_category : EventType, optional\\n            The category of the event\\n        amount : Amount, optional\\n            The amount of tickets requested for the event\\n\\n        Returns\\n        -------\\n        List[EventTicketEntity]\\n            A list of EventTicketEntity objects that are available for the event\\n        \"\"\"\\n        pass\\n\\n    @classmethod\\n    def purchase_tickets(\\n        cls,\\n        date_time: Optional[DateTime] = None,\\n        location: Optional[Location] = None,\\n        event_name: Optional[EventName] = None,\\n        event_category: Optional[EventType] = None,\\n        amount: Optional[Amount] = None,\\n    ) -> EventTicketEntity:\\n        \"\"\"\\n        This class method purchase tickets for events in the calendar.\\n\\n        Parameters\\n        ----------\\n        date_time : DateTime, optional\\n            The date and time of the event\\n        location : Location, optional\\n            The location of the event\\n        event_name : EventName, optional\\n            The name of the event\\n        event_category : EventType, optional\\n            The category of the event\\n        amount : Amount, optional\\n            The amount of tickets requested for the event\\n\\n        Returns\\n        -------\\n        List[EventTicketEntity]\\n            A list of EventTicketEntity objects that were purchased\\n        \"\"\"\\n        pass\\n\\n    @classmethod\\n    def schedule_event(\\n        cls,\\n        date_time: Optional[DateTime] = None,\\n        location: Optional[Location] = None,\\n        event_name: Optional[EventName] = None,\\n        event_calendar: Optional[EventCalendar] = None,\\n        event_category: Optional[EventType] = None,\\n    ) -> EventEntity:\\n        \"\"\"\\n        This class method schedules an event in the calendar.\\n\\n        Parameters\\n        ----------\\n        date_time : DateTime, optional\\n            The date and time of the event\\n        location : Location, optional\\n            The location of the event\\n        event_name : EventName, optional\\n            The name of the event\\n        event_calendar : EventCalendar, optional\\n            The calendar to search for the event\\n        event_category : EventType, optional\\n            The category of the event\\n\\n        Returns\\n        -------\\n        EventEntity\\n            The event that was scheduled\\n        \"\"\" \\n        pass\\n\\n# CLOCK:\\n\\nclass Timer(Action):\\n    \"\"\"\\n    The Timer class contains all the methods of a virtual assistant agent for using a timer in the clock domain.\\n    \"\"\"\\n\\n    @classmethod\\n    def create_timer(\\n        cls,\\n        duration: Optional[TimeDuration] = None,\\n        date_time: Optional[DateTime] = None,\\n    ) -> TimerEntity:\\n        \"\"\"\\n        This class method creates a timer.\\n        A timer can be defined with a duration or a date and time.\\n        If date and time are not specified, the timer will start immediately.\\n\\n        Parameters\\n        ----------\\n        duration : TimeDuration, optional\\n            The duration of the timer.\\n        date_time : DateTime, optional\\n            The date and time of the timer.\\n\\n        Returns\\n        -------\\n        TimerEntity\\n            The timer entity object\\n        \"\"\"\\n        pass\\n\\n    @abstractclassmethod\\n    def pause(\\n        cls,\\n        timer: Optional[TimerEntity] = None,\\n    ) -> TimerEntity:\\n        \"\"\"\\n        This class method pauses a timer.\\n\\n        Parameters\\n        ----------\\n        timer : Timer, optional\\n            The timer to be paused\\n\\n        Returns\\n        -------\\n        TimerEntity\\n            The timer object that was paused\\n        \"\"\"\\n        pass\\n\\n    @classmethod\\n    def restart(\\n        cls,\\n        timer: Optional[TimerEntity] = None,\\n    ) -> bool:\\n        \"\"\"\\n        This class method restarts a timer.\\n\\n        Parameters\\n        ----------\\n        timer : Timer, optional\\n            The timer to be restarted\\n\\n        Returns\\n        -------\\n        TimerEntity\\n            The timer object that was paused\\n        \"\"\"\\n        pass\\n\\n    @classmethod\\n    def stop(\\n        cls,\\n        timer: Optional[TimerEntity] = None,\\n    ) -> bool:\\n        \"\"\"\\n        This class method stops a timer.\\n\\n        Parameters\\n        ----------\\n        timer : Timer, optional\\n            The timer to be stopped\\n\\n        Returns\\n        -------\\n        TimerEntity\\n            The timer object that was paused\\n        \"\"\"\\n        pass\\n\\n\\nclass Alarm:\\n    \"\"\"\\n    The Alarm class contains all the methods of a virtual assistant agent for using a timer in the clock domain.\\n    \"\"\"\\n\\n    @classmethod\\n    def create_alarm(\\n        cls,\\n        alarm_name: Optional[AlarmName] = None,\\n        date_time: Optional[DateTime] = None,\\n        song: Optional[Song] = None,\\n        content: Optional[Content] = False,\\n    ) -> AlarmEntity:\\n        \"\"\"\\n        This class method creates an alarm.\\n        An alarm is defined with a date and time and can optionally play a song or present a content.\\n\\n        Parameters\\n        ----------\\n        alarm_name: AlarmName, optional\\n            The name of the alarm.\\n        date_time : DateTime, optional\\n            The date and time of the alarm.\\n        song : Song, optional\\n            The song to be played when the alarm is triggered.\\n        content : Content, optional\\n            The content to be presented when the alarm is triggered.\\n\\n        Returns\\n        -------\\n        AlarmEntity\\n            The alarm entity object\\n        \"\"\"\\n        pass\\n\\n    @classmethod\\n    def update_alarm(\\n        cls,\\n        date_time: Optional[DateTime] = None,\\n        alarm_name: Optional[AlarmName] = None,\\n    ) -> AlarmEntity:\\n        \"\"\"\\n        This class method updates an alarm.\\n\\n        Parameters\\n        ----------\\n        date_time : DateTime, optional\\n            The date and time of the alarm.\\n        alarm_name : AlarmName, optional\\n            The alarm name.\\n\\n        Returns\\n        -------\\n        AlarmEntity\\n            The alarm entity object that was updated\\n        \"\"\"\\n        pass\\n\\n    @classmethod\\n    def find_alarms(\\n        cls,\\n        date_time: Optional[DateTime],\\n        alarm_name: Optional[AlarmName],\\n    ) -> List[AlarmEntity]:\\n        \"\"\"\\n        This class method finds existing alarms based on the provided parameters.\\n\\n        Parameters\\n        ----------\\n        date_time : DateTime, optional\\n            The date and time of the alarm.\\n        alarm_name : AlarmName, optional\\n            The alarm name.\\n\\n        Returns\\n        -------\\n        List[AlarmEntity]\\n            The alarm entity object that was updated\\n        \"\"\"\\n        pass\\n\\n# REMINDERS:\\n\\nclass Reminders(Action):\\n    \"\"\"\\n    The Reminders class contains all the methods of a virtual assistant agent in the reminders domain.\\n    \"\"\"\\n\\n    @classmethod\\n    def create_reminder(\\n        cls,\\n        content: Content,\\n        person_reminded: Optional[Contact] = None,\\n        date_time: Optional[DateTime] = None,\\n    ) -> ReminderEntity:\\n        \"\"\"\\n        This class method creates a reminder.\\n\\n        Parameters\\n        ----------\\n        content : Content\\n            The content of the reminder.\\n        person_reminded : Contact, optional\\n            The person to be reminded.\\n        date_time : DateTime, optional\\n            The date and time of the reminder.\\n\\n        Returns\\n        -------\\n        ReminderEntity\\n            The reminder entity object that was created\\n        \"\"\"\\n        pass\\n\\n    @classmethod\\n    def find_reminders(\\n        cls,\\n        person_reminded: Optional[Contact] = None,\\n        date_time: Optional[DateTime] = None,\\n        content: Optional[Content] = None,\\n    ) -> List[ReminderEntity]:\\n        \"\"\"\\n        This class method finds existing reminders.\\n\\n        Parameters\\n        ----------\\n        content : Content\\n            The content of the reminder.\\n        person_reminded : Contact, optional\\n            The person to be reminded.\\n        date_time : DateTime, optional\\n            The date and time of the reminder.\\n\\n        Returns\\n        -------\\n        List[ReminderEntity]\\n            A list of reminder entity objects that were found\\n        \"\"\"\\n        pass\\n\\n    @classmethod\\n    def delete_reminders(\\n        cls, reminders: Union[ReminderEntity, List[ReminderEntity]]\\n    ) -> List[ReminderEntity]:\\n        \"\"\"\\n        This class method delete reminders.\\n\\n        Parameters\\n        ----------\\n        reminders : Union[ReminderEntity, List[ReminderEntity]]\\n            The reminders to be deleted. Can be a single reminder or a list of reminders.\\n\\n        Returns\\n        -------\\n        List[ReminderEntity]\\n            The list of reminders that were deleted\\n        \"\"\"\\n        pass\\n\\n\\n# GENERIC:\\n\\nclass Content(Entity, Resolvable):\\n    \"\"\"\\n    The Content class is used to represent a content like a text, a voice, an image, a video, etc.\\n    This is a generic class that can be used to represent any content. for exmaple, like in a message\\n    or a reminder.\\n    The content can also be casted from any other entity. For example, a driving directions instruction\\n    can be casted to a content.\\n    It inherits from the Entity class and the Resolvable class.\\n    \"\"\"\\n\\n    pass\\n\\n\\nclass Contact(Entity, Resolvable):\\n    \"\"\"\\n    The Contact class is used to represent a contact book contact. A contact is anyone that can be contacted.\\n    Contacts are used in order to send messages (to and from) or set reminders for.\\n    Any textual description of a person (or a list of people) can be resolved to a contact (or list of contacts).\\n    This class inherits from the Entity class and the Resolvable class.\\n    \"\"\"\\n\\n    pass\\n\\n\\nclass DateTime(Entity, Resolvable):\\n    \"\"\"\\n    The DateTime class is used to represent a date and time.\\n    Many action methods use this class in order to specify a date and time for an action.\\n    For example:\\n        * A reminder can be set to a specific date and time.\\n        * An alarm can be set to a specific date and time.\\n        * A message can be sent at a specific date and time.\\n        * A meeting can be scheduled at a specific date and time.\\n    This class inherits from the Entity class and the Resolvable class.\\n    \"\"\"\\n\\n    pass\\n\\n\\nclass Location(Entity, Resolvable):\\n    \"\"\"\\n    The Location class is used to represent a location. A location can be a place, a city, a country,\\n    a landmark, a road, etc. Locations can also be a store, a restaurant, a hotel, etc. In contrast to\\n    a MapEntity, a location does not hold information on a place besides its physical location and its\\n    name association.\\n    This class inherits from the Entity class and the Resolvable class.\\n    \"\"\"\\n\\n    pass\\n\\n\\nclass Amount(Entity, Resolvable):\\n    \"\"\"\\n    The Amount class is used to represent an amount of something. An amount can be a number of items.\\n    It is used in the context of this API to indicate number of tickets to purchase for an event, or\\n    a number of products to purchase or place in a shopping list. An amout will typically resolve a specific\\n    amount and is less used in a general quantifier context (like the detrminers \"a\", \"the\", etc.).\\n    It inherits from the Entity class and the Resolvable class.\\n    \"\"\"\\n\\n    pass\\n\\n\\nclass TimeDuration(Entity, Resolvable):\\n    \"\"\"\\n    The TimeDuration class is used to represent a duration of time. A duration of time can be a number of\\n    minutes to wait when setting a timer. It is used in the API in the context of a timer.\\n    It inherits from the Entity class and the Resolvable class.\\n    \"\"\"\\n\\n    pass\\n\\n\\n# UTILS:\\n\\ndef first(a: Iterable[T], n: Optional[int] = 1) -> Union[T, List[T]]:\\n    \"\"\"\\n    This method returns the first N entities in a list of entities.\\n\\n    Parameters\\n    ----------\\n    a : Iterable[T]\\n        An iterable of entities\\n    n : int, optional\\n        The number of first elements to return from the list, by default 1\\n\\n    Returns\\n    -------\\n    T|List[T]\\n        The first entity or a list of the first N entities\\n    \"\"\"\\n    pass\\n\\n\\ndef last(a: Iterable[T], n: Optional[int] = 1) -> Union[T, List[T]]:\\n    \"\"\"\\n    This method returns the last N entities in a list of entities.\\n\\n    Parameters\\n    ----------\\n    a : Iterable[T]\\n        An iterable of entities\\n    n : int, optional\\n        The number of last elements to return from the list, by default 1\\n\\n    Returns\\n    -------\\n    T|List[T]\\n        The first entity or a list of the last N entities\\n    \"\"\"\\n    pass\\n\\n\\ndef sort(a: Iterable[T], text: str) -> Iterable[T]:\\n    \"\"\"\\n    This method sorts an iterable of entities based on a given text attribute.\\n\\n    Parameters\\n    ----------\\n    a : Iterable[T]\\n        An iterable of entities\\n    text : str\\n        The attribute to sort the entities by expressed as a text string\\n\\n    Returns\\n    -------\\n    T|List[T]\\n        The first entity or a list of the last N entities\\n    \"\"\"\\n    pass\\n\\n\\ndef filter(a: Iterable[T], **kwargs) -> Iterable[T]:\\n    \"\"\"\\n    This method filters an iterable of entities based on a given keywords.\\n\\n    Parameters\\n    ----------\\n    a : Iterable[T]\\n        An iterable of entities\\n    kwargs : dict\\n        Arbitrary keyword arguments to filter the list of entities by.\\n        These keywords are expected to be attributes of the entities.\\n\\n    Returns\\n    -------\\n    T|List[T]\\n        The first entity or a list of the last N entities\\n    \"\"\"\\n    pass\\n\\n\\n# RESPONDER:\\n\\nclass Responder(Action):\\n    \"\"\"\\n    Responders are used to respond to user requests. Responder is the default way to react to user requests that\\n    requires a response. Any entities recieved from the APIs can be passed to the responder to be sent to the user.\\n    \"\"\"\\n\\n    @classmethod\\n    def respond(cls, response: Union[List[Entity], Entity]) -> None:\\n        \"\"\"\\n        This class method delete reminders.\\n\\n        Parameters\\n        ----------\\n        response : Union[List[Entity], Entity]\\n            The entity or a list of entities to be sent to the user.\\n\\n        Returns\\n        -------\\n        None\\n        \"\"\"\\n        pass\\n\\n\\n# ACTION:\\n\\nclass Action:\\n    \"\"\"\\n    This is a markup class for all virtual assistance actions.\\n    An action is a class that contains all the methods of a virtual assistant aget in a specific domain.\\n    For example, the Messages action contains actions like sending a message or finding messages.\\n    If an action method is provided without required parameters, the virtual assistant agent will prompt the user\\n    to provide the missing information.\\n    \"\"\"\\n\\n    pass\\n\\n'}, {'role': 'assistant', 'content': 'ok'}, {'role': 'user', 'content': 'Below are examples of text descriptions and their corresponding dense ASTs for Python code.Text:\\nsee if find my first reminders that I have a meeting at 3pm and there are and see if I got a reminder at mindnight in 2 days to bring the keys'}, {'role': 'assistant', 'content': \"Dense AST:\\n\\t[ Module\\n\\t\\t[ person_reminded = Contact.resolve_from_text('my') ]\\n\\t\\t[ content = Content.resolve_from_text('I have a meeting at 3pm') ]\\n\\t\\t[ reminders = Reminders.find_reminders(person_reminded=person_reminded, content=content) ]\\n\\t\\t[ reminders = first(reminders) ]\\n\\t\\t[ Responder.respond(response=reminders) ]\\n\\t\\t[ test_reminders = bool(reminders) ]\\n\\t\\t[ Responder.respond(response=test_reminders) ]\\n\\t\\t[ person_reminded = Contact.resolve_from_text('I') ]\\n\\t\\t[ date_time = DateTime.resolve_from_text('mindnight in 2 days') ]\\n\\t\\t[ content = Content.resolve_from_text('bring the keys') ]\\n\\t\\t[ reminders = Reminders.find_reminders(person_reminded=person_reminded, date_time=date_time, content=content) ]\\n\\t\\t[ test_reminders = bool(reminders) ]\\n\\t\\t[ Responder.respond(response=test_reminders) ]\\n\\t]\\n\"}, {'role': 'user', 'content': 'Text:\\ncreate a reminder at mindnight to close the window and to call my dad'}, {'role': 'assistant', 'content': \"Dense AST:\\n\\t[ Module\\n\\t\\t[ date_time = DateTime.resolve_from_text('mindnight') ]\\n\\t\\t[ contents = Content.resolve_many_from_text('close the window and call my dad') ]\\n\\t\\t[ For\\n\\t\\t\\t[ test\\n\\t\\t\\t\\t[ iter\\n\\t\\t\\t\\t\\t[ [contents] ]\\n\\t\\t\\t\\t]\\n\\t\\t\\t\\t[ Name\\n\\t\\t\\t\\t\\t[ content ]\\n\\t\\t\\t\\t]\\n\\t\\t\\t]\\n\\t\\t\\t[ body\\n\\t\\t\\t\\t[ Reminders.create_reminder(date_time=date_time, content=content) ]\\n\\t\\t\\t]\\n\\t\\t]\\n\\t]\\n\"}, {'role': 'user', 'content': 'Based on the API specifications and previous examples, convert the following text description into Python densed AST form:\\nText:\\nemail everyone in my family to see if George Shelton is there and that I will be on time and also check if all microwave that are in stock at Ramsey-Pittman'}]\n",
      "promtp_str Below are API specifications for implementing the corresponding dense AST for Python code.\n",
      "\n",
      "# MAP:\n",
      "\n",
      "\n",
      "Base prompt tokens length: 15547\n"
     ]
    }
   ],
   "source": [
    "print(\"prompt\", prompt)\n",
    "prompt_str = \"\\n\".join([p['content'] for p in prompt if p['role'] == 'user'])\n",
    "print(\"promtp_str\", prompt_str[:100])\n",
    "\n",
    "tokenizer = GPT2TokenizerFast.from_pretrained(\"gpt2\")\n",
    "base_prompt_tokens_len = len(tokenizer(prompt_str, max_length=51200, truncation=True)[\"input_ids\"])\n",
    "print(f\"Base prompt tokens length: {base_prompt_tokens_len}\")"
   ]
  },
  {
   "cell_type": "code",
   "execution_count": 60,
   "metadata": {},
   "outputs": [
    {
     "name": "stdout",
     "output_type": "stream",
     "text": [
      "Generating predictions for 152 records\n"
     ]
    },
    {
     "data": {
      "application/vnd.jupyter.widget-view+json": {
       "model_id": "98e1e7e750b44dd5bc5fc35232b94873",
       "version_major": 2,
       "version_minor": 0
      },
      "text/plain": [
       "Processing records:   0%|          | 0/152 [00:00<?, ?it/s]"
      ]
     },
     "metadata": {},
     "output_type": "display_data"
    }
   ],
   "source": [
    "openai_disabled = False\n",
    "force = False\n",
    "total_records = test_df.shape[0]\n",
    "max_tokens = 512\n",
    "wait_time_in_seconds = 20\n",
    "\n",
    "# generate predictions\n",
    "responses = []\n",
    "print(f\"Generating predictions for {total_records} records\")\n",
    "for i, row  in tqdm.notebook.tqdm(test_df.iterrows(), total=total_records, desc=\"Processing records\"):   \n",
    "    # check to see if we already have a result for this record\n",
    "    index = tuple(row[id_label] for id_label in id_labels) if len(id_labels) > 1 else row[id_labels[0]]\n",
    "    index = [index]\n",
    "    if (not force) and ('output' in test_results_df.loc[index]) and (not any(pd.isnull(test_results_df.loc[index, 'output']))):\n",
    "        # if we do, then skip this record\n",
    "        time.sleep(0.1)\n",
    "    elif not openai_disabled:\n",
    "        # run the model, if we don't have a result\n",
    "        messages = build_prompt(\n",
    "            strategy=strategy, \n",
    "            prompt_type=prompt_type, \n",
    "            input_data=row, \n",
    "            examples_df=examples_df, \n",
    "            examples_limit=examples_limit\n",
    "        )\n",
    "        response = openai.ChatCompletion.create(\n",
    "            model=MODEL_NAME, \n",
    "            messages=messages,\n",
    "            max_tokens=max_tokens,\n",
    "            n=n\n",
    "        )\n",
    "        responses.append(response)\n",
    "        \n",
    "        outputs = [x['message']['content'] for x in response['choices']]\n",
    "        outputs = [output.replace(\"Code:\\n\", \"\").replace(\"```python\", \"\").replace(\"```py\", \"\").replace(\"```\", \"\").strip() for output in outputs]\n",
    "        ns = list(np.arange(n))\n",
    "        \n",
    "        # duplicate the records\n",
    "        records_to_duplicate = test_results_df.loc[index] # Fetch the records\n",
    "        duplicated_records = pd.concat([records_to_duplicate] * (n - 1), ignore_index=False) # Duplicate the records\n",
    "        test_results_df = pd.concat([test_results_df, duplicated_records], ignore_index=False) # Append the duplicated records back to the original DataFrame (optional)\n",
    "        \n",
    "        # set values for output and n\n",
    "        test_results_df['output'] = test_results_df['output'].astype(object) if 'output' in test_results_df.columns else None\n",
    "        test_results_df.loc[index, 'output'] = outputs * len(records_to_duplicate)\n",
    "        test_results_df['n'] = test_results_df['n'].astype(object) if 'n' in test_results_df.columns else None\n",
    "        test_results_df.loc[index, 'n'] = ns * len(records_to_duplicate)\n",
    "        \n",
    "        test_results_df.to_csv(results_file_path, index=True, compression='gzip')\n",
    "        \n",
    "        time.sleep(wait_time_in_seconds)"
   ]
  },
  {
   "cell_type": "code",
   "execution_count": 36,
   "metadata": {},
   "outputs": [
    {
     "data": {
      "text/plain": [
       "'./build/results/test-152-openai_gpt_3.5_turbo_1106-rep2rep-n100-apispec-ex42-v2.csv.gz'"
      ]
     },
     "execution_count": 36,
     "metadata": {},
     "output_type": "execute_result"
    }
   ],
   "source": [
    "results_file_path"
   ]
  },
  {
   "cell_type": "code",
   "execution_count": 60,
   "metadata": {},
   "outputs": [],
   "source": [
    "results_df = pd.read_csv(results_file_path, compression='gzip')"
   ]
  },
  {
   "cell_type": "code",
   "execution_count": 64,
   "metadata": {},
   "outputs": [
    {
     "data": {
      "text/plain": [
       "(15200, 14)"
      ]
     },
     "execution_count": 64,
     "metadata": {},
     "output_type": "execute_result"
    }
   ],
   "source": [
    "results_df.shape"
   ]
  },
  {
   "cell_type": "code",
   "execution_count": 63,
   "metadata": {},
   "outputs": [
    {
     "data": {
      "text/plain": [
       "0        \\t[ Module\\n\\t\\t[ product_name = ProductName.r...\n",
       "1        \\n[ Module\\n  [ If\\n    [ test\\n      [ Condit...\n",
       "2        \\t[ Module\\n\\t\\t[ weather_attribute = WeatherA...\n",
       "3        \\t[ Module\\n\\t\\t[ album = Album.resolve_from_t...\n",
       "4        \\t[ Module\\n\\t\\t[ weather_attribute = WeatherA...\n",
       "                               ...                        \n",
       "15195    \\t[ Module\\n\\t\\t[ weather_attribute = WeatherA...\n",
       "15196    \\t[ Module\\n\\t\\t[ date_time = DateTime.resolve...\n",
       "15197    \\t[ Module\\n\\t\\t[ device_name = HomeDeviceName...\n",
       "15198    \\t[ Module\\n\\t\\t[ weather_temperature = Weathe...\n",
       "15199    \\n[ Module\\n  [ If\\n    [ test\\n      [ Weathe...\n",
       "Name: output, Length: 15200, dtype: object"
      ]
     },
     "execution_count": 63,
     "metadata": {},
     "output_type": "execute_result"
    }
   ],
   "source": [
    "def clean_output(output: str) -> str:\n",
    "    if output is None:\n",
    "        return None\n",
    "\n",
    "    cleaned_output = output\n",
    "\n",
    "    cleaned_output = re.sub(\".*```(python|py)\", \"```\", cleaned_output)\n",
    "    x = cleaned_output.split(\"```\")\n",
    "    cleaned_output = x[1 if (len(x) > 1) else 0]\n",
    "\n",
    "    regex_strings_to_remove = ['^Code:\\n', '^Dense ast:\\n', '^Dense AST:\\n']\n",
    "    for regex_string_to_remove in regex_strings_to_remove:\n",
    "        cleaned_output = re.sub(regex_string_to_remove, \"\", cleaned_output)\n",
    "\n",
    "    return cleaned_output\n",
    "\n",
    "\n",
    "results_df['output'].apply(clean_output)\n"
   ]
  },
  {
   "cell_type": "markdown",
   "metadata": {},
   "source": [
    "### gpt-3.5-turbo"
   ]
  },
  {
   "cell_type": "markdown",
   "metadata": {},
   "source": [
    "#### Examples prompt"
   ]
  },
  {
   "cell_type": "code",
   "execution_count": 686,
   "metadata": {},
   "outputs": [],
   "source": [
    "MODEL_NAME = 'gpt-3.5-turbo-1106'"
   ]
  },
  {
   "cell_type": "code",
   "execution_count": 687,
   "metadata": {},
   "outputs": [],
   "source": [
    "n = 100\n",
    "id_labels = ['sample_id'] #['test_id', 'sample_id', 'sample_minor_id']\n",
    "prompt_type = 'examples' # 'examples' or 'apispec'\n",
    "model_id = 'openai_' + MODEL_NAME.replace('-', '_')\n",
    "slug = 'text2code'"
   ]
  },
  {
   "cell_type": "code",
   "execution_count": 688,
   "metadata": {},
   "outputs": [
    {
     "name": "stdout",
     "output_type": "stream",
     "text": [
      "(152, 10)\n"
     ]
    },
    {
     "data": {
      "text/html": [
       "<div>\n",
       "<style scoped>\n",
       "    .dataframe tbody tr th:only-of-type {\n",
       "        vertical-align: middle;\n",
       "    }\n",
       "\n",
       "    .dataframe tbody tr th {\n",
       "        vertical-align: top;\n",
       "    }\n",
       "\n",
       "    .dataframe thead th {\n",
       "        text-align: right;\n",
       "    }\n",
       "</style>\n",
       "<table border=\"1\" class=\"dataframe\">\n",
       "  <thead>\n",
       "    <tr style=\"text-align: right;\">\n",
       "      <th></th>\n",
       "      <th>index</th>\n",
       "      <th>test_id</th>\n",
       "      <th>sample_id</th>\n",
       "      <th>sample_minor_id</th>\n",
       "      <th>text</th>\n",
       "      <th>code</th>\n",
       "      <th>test</th>\n",
       "      <th>imports</th>\n",
       "      <th>lang_rep</th>\n",
       "      <th>code_rep</th>\n",
       "    </tr>\n",
       "  </thead>\n",
       "  <tbody>\n",
       "    <tr>\n",
       "      <th>0</th>\n",
       "      <td>0</td>\n",
       "      <td>0</td>\n",
       "      <td>0</td>\n",
       "      <td>NaN</td>\n",
       "      <td>Check the availability of Pepsi at Walmart and...</td>\n",
       "      <td>product_name = ProductName.resolve_from_text(\"...</td>\n",
       "      <td># test data\\ndata_model = DataModel(reset=True...</td>\n",
       "      <td>from entities.generic import *\\nfrom entities....</td>\n",
       "      <td>[ root [ S [ Command [ Action [ hd [ Check ] ]...</td>\n",
       "      <td>[ Module [ product_name = ProductName.resolve_...</td>\n",
       "    </tr>\n",
       "    <tr>\n",
       "      <th>1</th>\n",
       "      <td>1</td>\n",
       "      <td>1_a</td>\n",
       "      <td>1</td>\n",
       "      <td>a</td>\n",
       "      <td>If it's raining tomorrow morning, set my alarm...</td>\n",
       "      <td>date_time = DateTime.resolve_from_text(\"tomorr...</td>\n",
       "      <td># test data\\ndata_model = DataModel(reset=True...</td>\n",
       "      <td>from entities.generic import *\\nfrom entities....</td>\n",
       "      <td>[ root [ S [ Command [ Condition [ If [ Test [...</td>\n",
       "      <td>[ Module [ date_time = DateTime.resolve_from_t...</td>\n",
       "    </tr>\n",
       "    <tr>\n",
       "      <th>2</th>\n",
       "      <td>2</td>\n",
       "      <td>1_b</td>\n",
       "      <td>1</td>\n",
       "      <td>b</td>\n",
       "      <td>If it's raining tomorrow morning, set my alarm...</td>\n",
       "      <td>date_time = DateTime.resolve_from_text(\"tomorr...</td>\n",
       "      <td># test data\\ndata_model = DataModel(reset=True...</td>\n",
       "      <td>from entities.generic import *\\nfrom entities....</td>\n",
       "      <td>[ root [ S [ Command [ Condition [ If [ Test [...</td>\n",
       "      <td>[ Module [ date_time = DateTime.resolve_from_t...</td>\n",
       "    </tr>\n",
       "  </tbody>\n",
       "</table>\n",
       "</div>"
      ],
      "text/plain": [
       "   index test_id  sample_id sample_minor_id   \n",
       "0      0       0          0             NaN  \\\n",
       "1      1     1_a          1               a   \n",
       "2      2     1_b          1               b   \n",
       "\n",
       "                                                text   \n",
       "0  Check the availability of Pepsi at Walmart and...  \\\n",
       "1  If it's raining tomorrow morning, set my alarm...   \n",
       "2  If it's raining tomorrow morning, set my alarm...   \n",
       "\n",
       "                                                code   \n",
       "0  product_name = ProductName.resolve_from_text(\"...  \\\n",
       "1  date_time = DateTime.resolve_from_text(\"tomorr...   \n",
       "2  date_time = DateTime.resolve_from_text(\"tomorr...   \n",
       "\n",
       "                                                test   \n",
       "0  # test data\\ndata_model = DataModel(reset=True...  \\\n",
       "1  # test data\\ndata_model = DataModel(reset=True...   \n",
       "2  # test data\\ndata_model = DataModel(reset=True...   \n",
       "\n",
       "                                             imports   \n",
       "0  from entities.generic import *\\nfrom entities....  \\\n",
       "1  from entities.generic import *\\nfrom entities....   \n",
       "2  from entities.generic import *\\nfrom entities....   \n",
       "\n",
       "                                            lang_rep   \n",
       "0  [ root [ S [ Command [ Action [ hd [ Check ] ]...  \\\n",
       "1  [ root [ S [ Command [ Condition [ If [ Test [...   \n",
       "2  [ root [ S [ Command [ Condition [ If [ Test [...   \n",
       "\n",
       "                                            code_rep  \n",
       "0  [ Module [ product_name = ProductName.resolve_...  \n",
       "1  [ Module [ date_time = DateTime.resolve_from_t...  \n",
       "2  [ Module [ date_time = DateTime.resolve_from_t...  "
      ]
     },
     "execution_count": 688,
     "metadata": {},
     "output_type": "execute_result"
    }
   ],
   "source": [
    "test_df = load_eval_data()\n",
    "print(test_df.shape)\n",
    "test_df.head(3)"
   ]
  },
  {
   "cell_type": "code",
   "execution_count": 689,
   "metadata": {},
   "outputs": [
    {
     "name": "stdout",
     "output_type": "stream",
     "text": [
      "./build/results/test-152-openai_gpt_3.5_turbo_1106-text2code-n100-examples.csv.gz\n"
     ]
    }
   ],
   "source": [
    "results_file_path = f\"./build/results/test-{str(test_df.shape[0])}-{model_id}-{slug}-n{n}-{prompt_type}.csv.gz\"\n",
    "print(results_file_path)"
   ]
  },
  {
   "cell_type": "code",
   "execution_count": 690,
   "metadata": {},
   "outputs": [
    {
     "data": {
      "text/html": [
       "<div>\n",
       "<style scoped>\n",
       "    .dataframe tbody tr th:only-of-type {\n",
       "        vertical-align: middle;\n",
       "    }\n",
       "\n",
       "    .dataframe tbody tr th {\n",
       "        vertical-align: top;\n",
       "    }\n",
       "\n",
       "    .dataframe thead th {\n",
       "        text-align: right;\n",
       "    }\n",
       "</style>\n",
       "<table border=\"1\" class=\"dataframe\">\n",
       "  <thead>\n",
       "    <tr style=\"text-align: right;\">\n",
       "      <th></th>\n",
       "      <th>index</th>\n",
       "      <th>test_id</th>\n",
       "      <th>sample_minor_id</th>\n",
       "      <th>text</th>\n",
       "      <th>code</th>\n",
       "      <th>test</th>\n",
       "      <th>imports</th>\n",
       "      <th>lang_rep</th>\n",
       "      <th>code_rep</th>\n",
       "    </tr>\n",
       "    <tr>\n",
       "      <th>sample_id</th>\n",
       "      <th></th>\n",
       "      <th></th>\n",
       "      <th></th>\n",
       "      <th></th>\n",
       "      <th></th>\n",
       "      <th></th>\n",
       "      <th></th>\n",
       "      <th></th>\n",
       "      <th></th>\n",
       "    </tr>\n",
       "  </thead>\n",
       "  <tbody>\n",
       "    <tr>\n",
       "      <th>0</th>\n",
       "      <td>0</td>\n",
       "      <td>0</td>\n",
       "      <td>NaN</td>\n",
       "      <td>Check the availability of Pepsi at Walmart and...</td>\n",
       "      <td>product_name = ProductName.resolve_from_text(\"...</td>\n",
       "      <td># test data\\ndata_model = DataModel(reset=True...</td>\n",
       "      <td>from entities.generic import *\\nfrom entities....</td>\n",
       "      <td>[ root [ S [ Command [ Action [ hd [ Check ] ]...</td>\n",
       "      <td>[ Module [ product_name = ProductName.resolve_...</td>\n",
       "    </tr>\n",
       "    <tr>\n",
       "      <th>1</th>\n",
       "      <td>1</td>\n",
       "      <td>1_a</td>\n",
       "      <td>a</td>\n",
       "      <td>If it's raining tomorrow morning, set my alarm...</td>\n",
       "      <td>date_time = DateTime.resolve_from_text(\"tomorr...</td>\n",
       "      <td># test data\\ndata_model = DataModel(reset=True...</td>\n",
       "      <td>from entities.generic import *\\nfrom entities....</td>\n",
       "      <td>[ root [ S [ Command [ Condition [ If [ Test [...</td>\n",
       "      <td>[ Module [ date_time = DateTime.resolve_from_t...</td>\n",
       "    </tr>\n",
       "    <tr>\n",
       "      <th>1</th>\n",
       "      <td>2</td>\n",
       "      <td>1_b</td>\n",
       "      <td>b</td>\n",
       "      <td>If it's raining tomorrow morning, set my alarm...</td>\n",
       "      <td>date_time = DateTime.resolve_from_text(\"tomorr...</td>\n",
       "      <td># test data\\ndata_model = DataModel(reset=True...</td>\n",
       "      <td>from entities.generic import *\\nfrom entities....</td>\n",
       "      <td>[ root [ S [ Command [ Condition [ If [ Test [...</td>\n",
       "      <td>[ Module [ date_time = DateTime.resolve_from_t...</td>\n",
       "    </tr>\n",
       "  </tbody>\n",
       "</table>\n",
       "</div>"
      ],
      "text/plain": [
       "           index test_id sample_minor_id   \n",
       "sample_id                                  \n",
       "0              0       0             NaN  \\\n",
       "1              1     1_a               a   \n",
       "1              2     1_b               b   \n",
       "\n",
       "                                                        text   \n",
       "sample_id                                                      \n",
       "0          Check the availability of Pepsi at Walmart and...  \\\n",
       "1          If it's raining tomorrow morning, set my alarm...   \n",
       "1          If it's raining tomorrow morning, set my alarm...   \n",
       "\n",
       "                                                        code   \n",
       "sample_id                                                      \n",
       "0          product_name = ProductName.resolve_from_text(\"...  \\\n",
       "1          date_time = DateTime.resolve_from_text(\"tomorr...   \n",
       "1          date_time = DateTime.resolve_from_text(\"tomorr...   \n",
       "\n",
       "                                                        test   \n",
       "sample_id                                                      \n",
       "0          # test data\\ndata_model = DataModel(reset=True...  \\\n",
       "1          # test data\\ndata_model = DataModel(reset=True...   \n",
       "1          # test data\\ndata_model = DataModel(reset=True...   \n",
       "\n",
       "                                                     imports   \n",
       "sample_id                                                      \n",
       "0          from entities.generic import *\\nfrom entities....  \\\n",
       "1          from entities.generic import *\\nfrom entities....   \n",
       "1          from entities.generic import *\\nfrom entities....   \n",
       "\n",
       "                                                    lang_rep   \n",
       "sample_id                                                      \n",
       "0          [ root [ S [ Command [ Action [ hd [ Check ] ]...  \\\n",
       "1          [ root [ S [ Command [ Condition [ If [ Test [...   \n",
       "1          [ root [ S [ Command [ Condition [ If [ Test [...   \n",
       "\n",
       "                                                    code_rep  \n",
       "sample_id                                                     \n",
       "0          [ Module [ product_name = ProductName.resolve_...  \n",
       "1          [ Module [ date_time = DateTime.resolve_from_t...  \n",
       "1          [ Module [ date_time = DateTime.resolve_from_t...  "
      ]
     },
     "execution_count": 690,
     "metadata": {},
     "output_type": "execute_result"
    }
   ],
   "source": [
    "# loading the results file\n",
    "test_results_df = pd.read_csv(results_file_path, compression='gzip') if os.path.exists(results_file_path) else test_df.copy()\n",
    "test_results_df.set_index(id_labels, inplace=True)\n",
    "test_results_df.sort_index(inplace=True)\n",
    "test_results_df.head(3)"
   ]
  },
  {
   "cell_type": "code",
   "execution_count": 697,
   "metadata": {},
   "outputs": [
    {
     "name": "stdout",
     "output_type": "stream",
     "text": [
      "prompt_type: examples\n",
      "prompt: [{'role': 'user', 'content': [{'role': 'user', 'content': 'Text: see if find my first reminders that I have a meeting at 3pm and there are and see if I got a reminder at mindnight in 2 days to bring the keys'}, {'role': 'assistant', 'content': 'Code:\\nperson_reminded = Contact.resolve_from_text(\"my\")\\ncontent = Content.resolve_from_text(\"I have a meeting at 3pm\")\\nreminders = Reminders.find_reminders(person_reminded=person_reminded, content=content)\\nreminders = first(reminders)\\nResponder.respond(response=reminders)\\ntest_reminders = bool(reminders)\\nResponder.respond(response=test_reminders)\\n\\nperson_reminded = Contact.resolve_from_text(\"I\")\\ndate_time = DateTime.resolve_from_text(\"mindnight in 2 days\")\\ncontent = Content.resolve_from_text(\"bring the keys\")\\nreminders = Reminders.find_reminders(person_reminded=person_reminded, date_time=date_time, content=content)\\ntest_reminders = bool(reminders)\\nResponder.respond(response=test_reminders)'}, {'role': 'user', 'content': 'Text: create a reminder at mindnight to close the window and to call my dad'}, {'role': 'assistant', 'content': 'Code:\\ndate_time = DateTime.resolve_from_text(\"mindnight\")\\ncontents = Content.resolve_many_from_text(\"close the window and call my dad\")\\nfor content in [contents]:\\n  Reminders.create_reminder(date_time=date_time, content=content)'}, {'role': 'user', 'content': 'Text: show route to my office from Northern Mariana Islands if I leave at 3:29 AM in 2 days'}, {'role': 'assistant', 'content': 'Code:\\norigin = Location.resolve_from_text(\"from Northern Mariana Islands\")\\ndestination = Location.resolve_from_text(\"to my office\")\\ndate_time = DateTime.resolve_from_text(\"3:29 AM in 2 days\")\\ndirections = Navigation.find_directions(origin=origin, destination=destination, date_time=date_time)\\nResponder.respond(response=directions)'}, {'role': 'user', 'content': 'Text: show me how long will it take me to arrive to the beach and the museum at noon and see if I will arrive before Sunday afternoon to the hospital after leaving after nineth of August'}, {'role': 'assistant', 'content': 'Code:\\ndestinations = Location.resolve_many_from_text(\"to the beach and the museum\")\\ndate_time = DateTime.resolve_from_text(\"noon\")\\nduration = []\\nfor destination in destinations:\\n  duration += Navigation.find_duration(destination=destination, date_time=date_time)\\nResponder.respond(response=duration)\\n\\narrival_date_time = DateTime.resolve_from_text(\"before Sunday afternoon\")\\ndestination = Location.resolve_from_text(\"to the hospital\")\\ndeparture_date_time = DateTime.resolve_from_text(\"after nineth of August\")\\nestimated_arrival = Navigation.find_estimated_arrival(destination=destination, arrival_date_time=arrival_date_time, departure_date_time=departure_date_time)\\ntest_navigation_estimate_arrival = bool(estimated_arrival)\\nResponder.respond(response=test_navigation_estimate_arrival)'}, {'role': 'user', 'content': 'Text: if not look for all Pringles that are on sale Taylor Inc or Yang, Gardner and Garza and if there are, remove the first three messages from the afternoon of the day after tomorrow'}, {'role': 'assistant', 'content': 'Code:\\nproduct_names = ProductName.resolve_many_from_text(\"all Pringles\")\\nproduct_attribute = ProductAttribute.resolve_from_text(\"on sale\")\\nlocations = Location.resolve_many_from_text(\"Taylor Inc or Yang, Gardner and Garza\")\\nproducts = []\\nfor product_name in product_names:\\n  for location in locations:\\n    products += Shopping.find_products(product_name=product_name, product_attribute=product_attribute, location=location)\\nResponder.respond(response=products)\\ntest_products = bool(products)\\n\\nif not test_products:\\n  date_time = DateTime.resolve_from_text(\"the afternoon of the day after tomorrow\")\\n  messages = Messages.find_messages(date_time=date_time)\\n  messages = first(messages, 3)\\n  Messages.delete_messages(messages=messages)'}, {'role': 'user', 'content': \"Text: text my softball team containing to tell Amanda Davis that I'll be out of the office for the next two hours and also show if let me know of the weather report and if it is\"}, {'role': 'assistant', 'content': 'Code:\\nmessage_content_type = MessageMessageContentType.resolve_from_text(\"text\")\\nrecipients = Contact.resolve_many_from_text(\"my softball team\")\\ncontent = Content.resolve_from_text(\"I\\'ll be out of the office for the next two hours\")\\nfor recipient in recipients:\\n  Messages.send_message(recipient=recipient, content=content, message_content_type=message_content_type)\\n\\nweather_forecasts = Weather.find_weather_forecasts()\\nResponder.respond(response=weather_forecasts)\\ntest_weather_forecasts = bool(weather_forecasts)\\nResponder.respond(response=test_weather_forecasts)'}, {'role': 'user', 'content': 'Text: before you let me know if coffee that are on clearance and flats that are on clearance, display route to New Carolyn if I leave at 7:16 PM next month'}, {'role': 'assistant', 'content': 'Code:\\nlocations = Location.resolve_many_from_text(\"from the stadium within 3 miles of my neighborhood\")\\nlocations = utils.sort(locations, \"within 3 miles of my neighborhood\")\\norigin = utils.first(locations)\\ndestination = Location.resolve_from_text(\"to New Carolyn\")\\ndate_time = DateTime.resolve_from_text(\"7:16 PM next month\")\\ndirections = Navigation.find_directions(destination=destination, date_time=date_time)\\nResponder.respond(response=directions)\\n\\nproduct_name1 = ProductName.resolve_from_text(\"coffee\")\\nproduct_name2 = ProductName.resolve_from_text(\"flats\")\\nproduct_attribute = ProductAttribute.resolve_from_text(\"on clearance\")\\nproducts = []\\nfor product_name in [product_name1, product_name2]:\\n  products += Shopping.find_products(product_name=product_name, product_attribute=product_attribute)\\nResponder.respond(response=products)'}, {'role': 'user', 'content': 'Text: if not I got reminders to call my mom for mindnight or mindnight in 2 days list slippers that are in stock James LLC and Munoz-Roman, provided gloves are on discount and oven are on discount'}, {'role': 'assistant', 'content': 'Code:\\nperson_reminded = Contact.resolve_from_text(\"I\")\\ncontent = Content.resolve_from_text(\"call my mom\")\\ndate_times = DateTime.resolve_many_from_text(\"mindnight or mindnight in 2 days\")\\nreminders = []\\nfor date_time in date_times:\\n  reminders = Reminders.find_reminders(person_reminded=person_reminded, date_time=date_time, content=content)\\ntest_reminders = bool(reminders)\\n\\nif not test_reminders:\\n  product_name1 = ProductName.resolve_from_text(\"gloves\")\\n  product_name2 = ProductName.resolve_from_text(\"oven\")\\n  product_attribute = ProductAttribute.resolve_from_text(\"on discount\")\\n  products = []\\n  for product_name in [product_name1, product_name2]:\\n    products = products and Shopping.find_products(product_name=product_name, product_attribute=product_attribute)\\n  test_products = bool(products)\\n  \\n  if test_products:\\n    product_name = ProductName.resolve_from_text(\"slippers\")\\n    product_attribute = ProductAttribute.resolve_from_text(\"in stock\")\\n    locations = Location.resolve_many_from_text(\"James LLC and Munoz-Roman\")\\n    products = []\\n    for location in locations:\\n      products += Shopping.find_products(product_name=product_name, product_attribute=product_attribute, location=location)\\n    Responder.respond(response=products)'}, {'role': 'user', 'content': 'Text: find if there are tickets for a play event in the three nearest inn at between mindnight next month and noon'}, {'role': 'assistant', 'content': 'Code:\\nevent_name = EventName.resolve_from_text(\"a play event\")\\nlocations = Location.resolve_many_from_text(\"in the 3 nearest inn\")\\nlocations = utils.sort(locations, \"nearest\")\\nlocations = utils.first(locations, 3)\\ndate_times = DateTime.resolve_many_from_text(\"between mindnight next month and noon\")\\nevent_tickets = []\\nfor location in locations:\\n  for date_time in date_times:\\n    event_tickets += Calendar.find_events_tickets(date_time=date_time, event_name=event_name, location=location)\\nResponder.respond(response=event_tickets)\\nResponder.respond(response=event_tickets)'}, {'role': 'user', 'content': 'Text: create a reminder for me that the car is low on gas'}, {'role': 'assistant', 'content': 'Code:\\nperson_reminded = Contact.resolve_from_text(\"me\")\\ncontent = Content.resolve_from_text(\"the car is low on gas\")\\nReminders.create_reminder(person_reminded=person_reminded, content=content)'}, {'role': 'user', 'content': 'Text: if not there is a discount on Ford flats and a discount on iron, delete my last reminders to call my mom or to lock the door'}, {'role': 'assistant', 'content': 'Code:\\nproduct_attribute = ProductAttribute.resolve_from_text(\"a discount\")\\nproduct_name1 = ProductName.resolve_from_text(\"Ford flats\")\\nproduct_name2 = ProductName.resolve_from_text(\"iron\")\\nproducts = []\\nfor product_name in [product_name1, product_name2]:\\n  products = products and Shopping.find_products(product_name=product_name, product_attribute=product_attribute)\\ntest_products = bool(products)\\n\\nif not test_products:\\n  person_reminded = Contact.resolve_from_text(\"my\")\\n  contents = Content.resolve_many_from_text(\"call my mom or lock the door\")\\n  all_reminders = []\\n  for content in [contents]:\\n    reminders = Reminders.find_reminders(person_reminded=person_reminded, content=content)\\n    reminders = last(reminders)\\n    all_reminders += reminders\\n  Reminders.delete_reminder(reminders=all_reminders)'}, {'role': 'user', 'content': 'Text: given I should leave to get at 12:42 PM tomorrow to New Kellystad after noon from my work place find if I have a reset password link from Kenneth Bush'}, {'role': 'assistant', 'content': 'Code:\\narrival_date_time = DateTime.resolve_from_text(\"12:42 PM tomorrow\")\\ndestination = Location.resolve_from_text(\"to New Kellystad\")\\ndeparture_date_time = DateTime.resolve_from_text(\"after noon\")\\norigin = Location.resolve_from_text(\"from my work place\")\\nestimated_departure = Navigation.find_estimated_departure(origin=origin, destination=destination, arrival_date_time=arrival_date_time, departure_date_time=departure_date_time)\\ntest_navigation_estimate_departure = bool(estimated_departure)\\n\\nif test_navigation_estimate_departure:\\n  contact = Contact.resolve_from_text(\"I\")\\n  content = Content.resolve_from_text(\"a reset password link\")\\n  sender = Contact.resolve_from_text(\"Kenneth Bush\")\\n  messages = Messages.find_messages(recipient=contact, sender=sender, content=content)\\n  test_messages = bool(messages)\\n  Responder.respond(response=test_messages)'}, {'role': 'user', 'content': 'Text: tell me if I got a message from my softball team today or yesterday'}, {'role': 'assistant', 'content': 'Code:\\ncontact = Contact.resolve_from_text(\"I\")\\nsenders = Contact.resolve_many_from_text(\"my softball team\")\\ndate_times = DateTime.resolve_many_from_text(\"today or yesterday\")\\nmessages = []\\nfor sender in senders:\\n  for date_time in date_times:\\n    messages += Messages.find_messages(date_time=date_time, recipient=contact, sender=sender)\\ntest_messages = bool(messages)\\nResponder.respond(response=test_messages)'}, {'role': 'user', 'content': 'Text: find Lake Jeremyport and check the weather there'}, {'role': 'assistant', 'content': 'Code:\\nlocation = Location.resolve_from_text(\"Lake Jeremyport\")\\nmap_locations = Map.find_on_map(location=location)\\nResponder.respond(response=map_locations)\\nlocation = Location.resolve_from_entity(entity= map_locations)\\nweather_forecasts = Weather.find_weather_forecasts(location=location)\\nResponder.respond(response=weather_forecasts)'}, {'role': 'user', 'content': 'Text: search a sale on dresses and also get my last three reminders that the key is under the mat or that the cake is in the fridge'}, {'role': 'assistant', 'content': 'Code:\\nproduct_name = ProductName.resolve_from_text(\"dresses\")\\nproduct_attribute = ProductAttribute.resolve_from_text(\"a sale\")\\nproducts = Shopping.find_products(product_name=product_name, product_attribute=product_attribute)\\nResponder.respond(response=products)\\n\\nperson_reminded = Contact.resolve_from_text(\"my\")\\ncontents = Content.resolve_many_from_text(\"the key is under the mat or the cake is in the fridge\")\\nall_reminders = []\\nfor content in [contents]:\\n  reminders = Reminders.find_reminders(person_reminded=person_reminded, content=content)\\n  reminders = last(reminders, 3)\\n  all_reminders += reminders\\nResponder.respond(response=all_reminders)'}, {'role': 'user', 'content': 'Text: show if I have a message from Victoria Wyatt that includes opera event tickets'}, {'role': 'assistant', 'content': 'Code:\\ncontact = Contact.resolve_from_text(\"I\")\\nsender = Contact.resolve_from_text(\"Victoria Wyatt\")\\ncontent = Content.resolve_from_text(\"opera event tickets\")\\nmessages = Messages.find_messages(recipient=contact, sender=sender, content=content)\\ntest_messages = bool(messages)\\nResponder.respond(response=test_messages)'}, {'role': 'user', 'content': 'Text: show if there is construction in I-6 and confirm when I should leave to get to Frank Light at mindnight from my neighborhood'}, {'role': 'assistant', 'content': 'Code:\\nnav_road_condition = NavigationRoadCondition.resolve_from_text(\"construction\")\\nlocation = Location.resolve_from_text(\"I-6\")\\nnavigation_traffic_info = Navigation.find_traffic_info(location=location, nav_road_condition=nav_road_condition)\\ntest_navigation_traffic_info = bool(navigation_traffic_info)\\nResponder.respond(response=test_navigation_traffic_info)\\n\\ndestination = Location.resolve_from_text(\"to Frank Light\")\\ndate_time = DateTime.resolve_from_text(\"mindnight\")\\norigin = Location.resolve_from_text(\"from my neighborhood\")\\nestimated_departure = Navigation.find_estimated_departure(origin=origin, destination=destination, date_time=date_time)\\nResponder.respond(response=estimated_departure)'}, {'role': 'user', 'content': 'Text: find a graduation ceremony and also schedule a new entry on my personal calendar for tonight a party in my neighborhood'}, {'role': 'assistant', 'content': 'Code:\\nevent_name = EventName.resolve_from_text(\"a graduation ceremony\")\\nevents = Calendar.find_events(event_name=event_name)\\nResponder.respond(response=events)\\n\\nevent_calendar = EventCalendar.resolve_from_text(\"my personal calendar\")\\nevent_name = EventName.resolve_from_text(\"a party\")\\ndate_time = DateTime.resolve_from_text(\"tonight\")\\nlocation = Location.resolve_from_text(\"in my neighborhood\")\\nCalendar.schedule_event(date_time=date_time, event_calendar=event_calendar, event_name=event_name, location=location)'}, {'role': 'user', 'content': 'Text: before you buy 8 tickets for the a movie date for the morning of the day after tomorrow in the worst boulevard, let me know if I will arrive at mindnight next month to the sea shore within 7 miles of my work place after leaving after 3 AM in 2 days'}, {'role': 'assistant', 'content': 'Code:\\narrival_date_time = DateTime.resolve_from_text(\"mindnight next month\")\\nlocations = Location.resolve_many_from_text(\"to the sea shore within 7 miles of my work place\")\\nlocations = utils.sort(locations, \"within 7 miles of my work place\")\\ndestination = utils.first(locations)\\ndeparture_date_time = DateTime.resolve_from_text(\"after 3 AM in 2 days\")\\nestimated_arrival = Navigation.find_estimated_arrival(destination=destination, arrival_date_time=arrival_date_time, departure_date_time=departure_date_time)\\ntest_navigation_estimate_arrival = bool(estimated_arrival)\\nResponder.respond(response=test_navigation_estimate_arrival)\\n\\nevent_name = EventName.resolve_from_text(\"a movie date\")\\ndate_time = DateTime.resolve_from_text(\"the morning of the day after tomorrow\")\\nlocations = Location.resolve_many_from_text(\"in the worst boulevard\")\\nlocations = utils.sort(locations, \"worst\")\\nlocation = utils.first(locations)\\namount = Amount.resolve_from_text(\"8\")\\nCalendar.purchase_tickets(date_time=date_time, event_name=event_name, location=location, amount=amount)'}, {'role': 'user', 'content': 'Text: show how long will it take me to arrive to my parents neighborhood, in the event that search a dinner in my parents neighborhood and if there are or I will arrive before 5 AM to there after leaving after fourth of September from Lithuania'}, {'role': 'assistant', 'content': 'Code:\\nevent_name = EventName.resolve_from_text(\"a dinner\")\\nlocation = Location.resolve_from_text(\"in my parents neighborhood\")\\nevents = Calendar.find_events(event_name=event_name, location=location)\\nResponder.respond(response=events)\\ntest1 = bool(events)\\narrival_date_time = DateTime.resolve_from_text(\"before 5 AM\")\\n\\n\\ndeparture_date_time = DateTime.resolve_from_text(\"after fourth of September\")\\norigin = Location.resolve_from_text(\"from Lithuania\")\\nestimated_arrival = Navigation.find_estimated_arrival(origin=origin, destination=destination, arrival_date_time=arrival_date_time, departure_date_time=departure_date_time)\\ntest2 = bool(estimated_arrival)\\ntest = test1 or test2\\nif test:\\n  duration = Navigation.find_duration(destination=destination)\\n  Responder.respond(response=duration)'}, {'role': 'user', 'content': 'Text: confirm if let me know of the weather report at noon in my neighborhood and my work place and if it will be windy and also set a reminder for me for the day after tomorrow that the key is under the mat'}, {'role': 'assistant', 'content': 'Code:\\ndate_time = DateTime.resolve_from_text(\"noon\")\\nlocation = Location.resolve_many_from_text(\"in my neighborhood and my work place\")\\nweather_forecasts = []\\nfor location in location:\\n  weather_forecasts += Weather.find_weather_forecasts(date_time=date_time, location=location)\\nResponder.respond(response=weather_forecasts)\\nweather_attribute = WeatherAttribute.resolve_from_text(\"will be windy\")\\nweather_forecasts = utils.filter(weather_forecasts, weather_attribute=weather_attribute)\\ntest_weather_forecasts = bool(weather_forecasts)\\nResponder.respond(response=test_weather_forecasts)\\n\\ndate_time = DateTime.resolve_from_text(\"the day after tomorrow\")\\nperson_reminded = Contact.resolve_from_text(\"me\")\\ncontents = Content.resolve_many_from_text(\"call my mom and I have a meeting at 3pm\")\\nfor content in [contents]:\\n  for content in [contents]:\\n    Reminders.create_reminder(date_time=date_time, person_reminded=person_reminded, content=content)'}, {'role': 'user', 'content': 'Text: assuming that I will arrive at noon the day after tomorrow to the inn within 1 miles after leaving at mindnight see how long will it take me to arrive to there at 2:41 PM'}, {'role': 'assistant', 'content': 'Code:\\narrival_date_time = DateTime.resolve_from_text(\"noon the day after tomorrow\")\\nlocations = Location.resolve_many_from_text(\"to the inn within 1 miles\")\\nlocations = utils.sort(locations, \"within 1 miles\")\\ndestination = utils.first(locations)\\ndeparture_date_time = DateTime.resolve_from_text(\"mindnight\")\\nestimated_arrival = Navigation.find_estimated_arrival(destination=destination, arrival_date_time=arrival_date_time, departure_date_time=departure_date_time)\\ntest_navigation_estimate_arrival = bool(estimated_arrival)\\n\\nif test_navigation_estimate_arrival:\\n  locations = Location.resolve_many_from_text(\"to the inn within 1 miles\")\\n  locations = utils.sort(locations, \"within 1 miles\")\\n  destination = utils.first(locations)\\n  date_time = DateTime.resolve_from_text(\"2:41 PM\")\\n  duration = Navigation.find_duration(destination=destination, date_time=date_time)\\n  Responder.respond(response=duration)'}, {'role': 'user', 'content': 'Text: in case I got an email that includes heavy metal concert tickets and I need to leave to get before sixth of December to the motel within 8 miles after tomorrow or the night of the day after tomorrow from the Microsoft office buy 1 tickets for the a rugby tournament in my parents neighborhood,if not display the first reminders to turn off the lights and any is to Taylor'}, {'role': 'assistant', 'content': 'Code:\\ncontact = Contact.resolve_from_text(\"I\")\\ncontent = Content.resolve_from_text(\"heavy metal concert tickets\")\\nmessages = Messages.find_messages(recipient=contact, content=content)\\ntest1 = bool(messages)\\narrival_date_time = DateTime.resolve_from_text(\"before sixth of December\")\\nlocations = Location.resolve_many_from_text(\"to the motel within 8 miles\")\\nlocations = utils.sort(locations, \"within 8 miles\")\\ndestination = utils.first(locations)\\ndeparture_date_times = DateTime.resolve_many_from_text(\"after tomorrow or the night of the day after tomorrow\")\\norigin = Location.resolve_from_text(\"from the Microsoft office\")\\nestimated_departures = []\\nfor departure_date_time in departure_date_times:\\n  estimated_departures += Navigation.find_estimated_departure(origin=origin, destination=destination, arrival_date_time=arrival_date_time, departure_date_time=departure_date_time)\\ntest2 = bool(estimated_departures)\\ntest = test1 and test2\\nif test:\\n  content = Content.resolve_from_text(\"turn off the lights\")\\n  reminders = Reminders.find_reminders(content=content)\\n  reminders = first(reminders)\\n  Responder.respond(response=reminders)\\n  recipient = Contact.resolve_from_text(\"Taylor\")\\n  reminders = utils.filter(reminders, recipient=recipient)\\n  test_reminders = bool(reminders)\\n  \\n  if not test_reminders:\\n    event_name = EventName.resolve_from_text(\"a rugby tournament\")\\n    location = Location.resolve_from_text(\"in my parents neighborhood\")\\n    amount = Amount.resolve_from_text(\"1\")\\n    Calendar.purchase_tickets(event_name=event_name, location=location, amount=amount)'}, {'role': 'user', 'content': 'Text: find Chadbury and tell me when I should leave to get to Caldwell Forest at mindnight from there'}, {'role': 'assistant', 'content': 'Code:\\nlocation = Location.resolve_from_text(\"Chadbury\")\\nmap_locations = Map.find_on_map(location=location)\\nResponder.respond(response=map_locations)\\ndestination = Location.resolve_from_text(\"to Caldwell Forest\")\\ndate_time = DateTime.resolve_from_text(\"mindnight\")\\norigin = Location.resolve_from_entity(entity=map_locations)\\nestimated_departure = Navigation.find_estimated_departure(origin=origin, destination=destination, date_time=date_time)\\nResponder.respond(response=estimated_departure)'}, {'role': 'user', 'content': 'Text: let me know if sneakers that are on clearance'}, {'role': 'assistant', 'content': 'Code:\\nproduct_name = ProductName.resolve_from_text(\"sneakers\")\\nproduct_attribute = ProductAttribute.resolve_from_text(\"on clearance\")\\nproducts = Shopping.find_products(product_name=product_name, product_attribute=product_attribute)\\nResponder.respond(response=products)'}, {'role': 'user', 'content': 'Text: add all heels to my list and check my last reminders to message Joshua for his birthday'}, {'role': 'assistant', 'content': 'Code:\\nproduct_names = ProductName.resolve_many_from_text(\"all heels\")\\nshopping_list_name = ShoppingListName.resolve_from_text(\"my list\")\\nshopping_list = []\\nfor product_name in product_names:\\n  shopping_list += Shopping.add_to_shopping_list(product_name=product_name, shopping_list_name=shopping_list_name)\\n\\nperson_reminded = Contact.resolve_from_text(\"my\")\\ncontent = Content.resolve_from_text(\"message Joshua for his birthday\")\\nreminders = Reminders.find_reminders(person_reminded=person_reminded, content=content)\\nreminders = last(reminders)\\nResponder.respond(response=reminders)'}, {'role': 'user', 'content': 'Text: see if monitor and hats that are on sale Walls, Duncan and Kennedy or Aguirre-Lee and tell me the weather forecast in the three nearest lake'}, {'role': 'assistant', 'content': 'Code:\\nproduct_names = ProductName.resolve_many_from_text(\"monitor and hats\")\\nproduct_attribute = ProductAttribute.resolve_from_text(\"on sale\")\\nlocations = Location.resolve_many_from_text(\"Walls, Duncan and Kennedy or Aguirre-Lee\")\\nproducts = []\\nfor product_name in product_names:\\n  for location in locations:\\n    products += Shopping.find_products(product_name=product_name, product_attribute=product_attribute, location=location)\\nResponder.respond(response=products)\\n\\nlocations = Location.resolve_many_from_text(\"in the 3 nearest lake\")\\nlocations = utils.sort(locations, \"nearest\")\\nlocations = utils.first(locations, 3)\\nweather_forecasts = []\\nfor location in location:\\n  weather_forecasts += Weather.find_weather_forecasts(location=location)\\nResponder.respond(response=weather_forecasts)'}, {'role': 'user', 'content': 'Text: after you add 6 headphones to the shopping list, forecast on the weather report on Saturday, Friday during July or Veterans Day in my work place or my office'}, {'role': 'assistant', 'content': 'Code:\\namount = Amount.resolve_from_text(\"6\")\\nproduct_name = ProductName.resolve_from_text(\"headphones\")\\nshopping_list_name = ShoppingListName.resolve_from_text(\"the shopping list\")\\nshopping_list = Shopping.add_to_shopping_list(product_name=product_name, amount=amount, shopping_list_name=shopping_list_name)\\n\\ndate_times = DateTime.resolve_many_from_text(\"on Saturday, Friday during July or Veterans Day\")\\nlocation = Location.resolve_many_from_text(\"in my work place or my office\")\\nweather_forecasts = []\\nfor date_time in date_times:\\n  for location in location:\\n    weather_forecasts += Weather.find_weather_forecasts(date_time=date_time, location=location)\\nResponder.respond(response=weather_forecasts)'}, {'role': 'user', 'content': 'Text: find South Isaiah and show me how long will it take me to arrive there at noon'}, {'role': 'assistant', 'content': 'Code:\\nlocation = Location.resolve_from_text(\"South Isaiah\")\\nmap_locations = Map.find_on_map(location=location)\\nResponder.respond(response=map_locations)\\ndestination = Location.resolve_from_entity(entity=map_locations)\\ndate_time = DateTime.resolve_from_text(\"noon\")\\nduration = Navigation.find_duration(destination=destination, date_time=date_time)\\nResponder.respond(response=duration)'}, {'role': 'user', 'content': 'Text: before you confirm if search the last three reminders that the a/c is broken and to bring the keys and any is to Julie Baxter, delete all reminders to bring the keys, what will be the weather forecast and check the weather at my work place or my parents neighborhood'}, {'role': 'assistant', 'content': 'Code:\\ncontent = Content.resolve_from_text(\"bring the keys\")\\nreminders = Reminders.find_reminders(content=content)\\nReminders.delete_reminder(reminders=reminders)\\n\\ncontents = Content.resolve_many_from_text(\"the a/c is broken and bring the keys\")\\nall_reminders = []\\nfor content in [contents]:\\n  reminders = Reminders.find_reminders(content=content)\\n  reminders = last(reminders, 3)\\n  all_reminders += reminders\\nResponder.respond(response=all_reminders)\\nrecipient = Contact.resolve_from_text(\"Julie Baxter\")\\nall_reminders = utils.filter(all_reminders, recipient=recipient)\\ntest_reminders = bool(reminders)\\nResponder.respond(response=test_reminders)\\n\\nweather_forecasts = Weather.find_weather_forecasts()\\nResponder.respond(response=weather_forecasts)\\n\\nlocation = Location.resolve_many_from_text(\"at my work place or my parents neighborhood\")\\nweather_forecasts = []\\nfor location in location:\\n  weather_forecasts += Weather.find_weather_forecasts(location=location)\\nResponder.respond(response=weather_forecasts)'}]}, {'role': 'assistant', 'content': 'ok'}]\n",
      "Base prompt tokens length: 2770\n"
     ]
    }
   ],
   "source": [
    "chat_format = True\n",
    "# prompt = build_prompt(prompt_type=prompt_type, examples_limit=18, chat_format=chat_format)\n",
    "prompt = build_prompt(prompt_type=prompt_type, examples_limit=90, chat_format=chat_format)\n",
    "prompt_str = \"\\n\".join([p['content'] for p in prompt if p['role'] == 'user'])\n",
    "print(f\"prompt_type: {prompt_type}\\nprompt: {base_messages[:1000]}\")\n",
    "\n",
    "tokenizer = GPT2TokenizerFast.from_pretrained(\"gpt2\")\n",
    "base_prompt_tokens_len = len(tokenizer(prompt_str, max_length=51200, truncation=True)[\"input_ids\"])\n",
    "print(f\"Base prompt tokens length: {base_prompt_tokens_len}\")"
   ]
  },
  {
   "cell_type": "code",
   "execution_count": 698,
   "metadata": {},
   "outputs": [
    {
     "name": "stdout",
     "output_type": "stream",
     "text": [
      "Generating predictions for 152 records\n"
     ]
    },
    {
     "data": {
      "application/vnd.jupyter.widget-view+json": {
       "model_id": "70bdb189a337436c8cd5fc74dc97b2a8",
       "version_major": 2,
       "version_minor": 0
      },
      "text/plain": [
       "Processing records:   0%|          | 0/152 [00:00<?, ?it/s]"
      ]
     },
     "metadata": {},
     "output_type": "display_data"
    }
   ],
   "source": [
    "openai_disabled = False\n",
    "force = False\n",
    "total_records = test_df.shape[0]\n",
    "max_tokens = 500\n",
    "wait_time_in_seconds = 20\n",
    "\n",
    "# generate predictions\n",
    "responses = []\n",
    "print(f\"Generating predictions for {total_records} records\")\n",
    "for i, row  in tqdm.notebook.tqdm(test_df.iterrows(), total=total_records, desc=\"Processing records\"):   \n",
    "    # check to see if we already have a result for this record\n",
    "    index = tuple(row[id_label] for id_label in id_labels) if len(id_labels) > 1 else row[id_labels[0]]\n",
    "    index = [index]\n",
    "    if (not force) and ('output' in test_results_df.loc[index]) and (not any(pd.isnull(test_results_df.loc[index, 'output']))):\n",
    "        # if we do, then skip this record\n",
    "        time.sleep(0.1)\n",
    "    elif not openai_disabled:\n",
    "        # run the model, if we don't have a result\n",
    "        messages = [{\n",
    "            \"role\": \"system\", \n",
    "            \"content\": \"You are a skilled programmer. You will be provided with a text description and your task is to convert it into Python code. Below are examples of text descriptions and their corresponding Python code implementations.\"\n",
    "            # \"content\": \"You are a skilled programmer. You will be provided with a text description and your task is to convert it into Python code. Below is an API specifications for implementing the description in code.\"\n",
    "        }] + prompt + [{\n",
    "            \"role\": \"user\",\n",
    "            \"content\": \"Based on the previous examples, convert the following text into Python code:\\n\" + build_example_prompt(text=row[\"text\"])\n",
    "            # \"content\": \"Based on the API spec, convert the following text into Python code:\\n\" + build_example_prompt(text=row[\"text\"])\n",
    "        }]\n",
    "        response = openai.ChatCompletion.create(\n",
    "            model=MODEL_NAME, \n",
    "            messages=messages,\n",
    "            max_tokens=max_tokens,\n",
    "            n=n\n",
    "        )\n",
    "        responses.append(response)\n",
    "        \n",
    "        outputs = [x['message']['content'] for x in response['choices']]\n",
    "        outputs = [output.replace(\"Code:\\n\", \"\").replace(\"```python\", \"\").replace(\"```py\", \"\").replace(\"```\", \"\").strip() for output in outputs]\n",
    "        ns = list(np.arange(n))\n",
    "        \n",
    "        # duplicate the records\n",
    "        records_to_duplicate = test_results_df.loc[index] # Fetch the records\n",
    "        duplicated_records = pd.concat([records_to_duplicate] * (n - 1), ignore_index=False) # Duplicate the records\n",
    "        test_results_df = pd.concat([test_results_df, duplicated_records], ignore_index=False) # Append the duplicated records back to the original DataFrame (optional)\n",
    "        \n",
    "        # set values for output and n\n",
    "        test_results_df['output'] = test_results_df['output'].astype(object) if 'output' in test_results_df.columns else None\n",
    "        test_results_df.loc[index, 'output'] = outputs * len(records_to_duplicate)\n",
    "        test_results_df['n'] = test_results_df['n'].astype(object) if 'n' in test_results_df.columns else None\n",
    "        test_results_df.loc[index, 'n'] = ns * len(records_to_duplicate)\n",
    "        \n",
    "        test_results_df.to_csv(results_file_path, index=True, compression='gzip')\n",
    "        \n",
    "        time.sleep(wait_time_in_seconds)"
   ]
  },
  {
   "cell_type": "markdown",
   "metadata": {},
   "source": [
    "#### API specifications prompt"
   ]
  },
  {
   "cell_type": "code",
   "execution_count": 721,
   "metadata": {},
   "outputs": [],
   "source": [
    "MODEL_NAME = 'gpt-3.5-turbo-1106'\n",
    "\n",
    "n = 100\n",
    "id_labels = ['sample_id'] #['test_id', 'sample_id', 'sample_minor_id']\n",
    "prompt_type = 'apispec' # 'examples' or 'apispec'\n",
    "model_id = 'openai_' + MODEL_NAME.replace('-', '_')\n",
    "slug = 'text2code'\n",
    "examples_limit = 2\n",
    "\n",
    "test_df = load_eval_data()\n",
    "\n",
    "results_file_path = f\"./build/results/test-{str(test_df.shape[0])}-{model_id}-{slug}-n{n}-{prompt_type}-ex{examples_limit}.csv.gz\"\n",
    "test_results_df = pd.read_csv(results_file_path, compression='gzip') if os.path.exists(results_file_path) else test_df.copy()\n",
    "test_results_df.set_index(id_labels, inplace=True)\n",
    "test_results_df.sort_index(inplace=True)"
   ]
  },
  {
   "cell_type": "code",
   "execution_count": 722,
   "metadata": {},
   "outputs": [
    {
     "name": "stdout",
     "output_type": "stream",
     "text": [
      "prompt [{'role': 'user', 'content': '\\n    Convert the following task into Python code.\\n    This is the API specification:\\n# MAP:\\n\\nclass Map(Action):\\n    \"\"\"\\n    The Map class contains all the methods of a virtual assistant agent in the map domain.\\n    \"\"\"\\n\\n    @classmethod\\n    def find_on_map(cls, location: Location) -> List[MapEntity]:\\n        \"\"\"\\n        This class method finds places on the map.\\n\\n        Parameters\\n        ----------\\n        location : Location\\n            The location to search for\\n\\n        Returns\\n        -------\\n        List[MapEntity]\\n            A list of places in the form of map entities\\n        \"\"\"\\n        pass\\n\\n# SHOPPING:\\n\\nclass Shopping(Action):\\n    \"\"\"\\n    The Shopping class contains all the methods of a virtual assistant agent in the shopping domain.\\n    \"\"\"\\n\\n    @classmethod\\n    def find_products(\\n        cls,\\n        product_name: Optional[ProductName] = None,\\n        product_attribute: Optional[ProductAttribute] = None,\\n        date_time: Optional[Union[DateTime, List[DateTime]]] = None,\\n        location: Optional[Location] = None,\\n    ) -> List[ProductEntity]:\\n        \"\"\"\\n        This class method find products based on the given parameters.\\n\\n        Parameters\\n        ----------\\n        product_name : ProductName, optional\\n            The name of the product to find\\n        product_attribute : ProductAttribute, optional\\n            The attribute of the product to find (e.g., available, on sale, etc.)\\n        date_time : DateTime, optional\\n            The date and time to find the product at\\n        location : Location, optional\\n            The location (usually the store) to find the product at\\n\\n        Returns\\n        -------\\n        List[ProductEntity]\\n            The list of weather forecasts that were found\\n        \"\"\"\\n        data_model = DataModel()\\n        data = data_model.get_data(ProductEntity)\\n        if product_name:\\n            data = [x for x in data if x.product_name == product_name]\\n\\n        if product_attribute:\\n            data = [x for x in data if x.product_attribute == product_attribute]\\n\\n        if date_time:\\n            if type(date_time) == list:\\n                data = [x for x in data if x.date_time in date_time]\\n            else:\\n                data = [x for x in data if x.date_time == date_time]\\n\\n        if location:\\n            data = [x for x in data if x.location == location]\\n\\n        return data\\n\\n    @classmethod\\n    def find_shopping_lists(\\n        cls,\\n        date_time: Optional[Union[DateTime, List[DateTime]]] = None,\\n        location: Optional[Location] = None,\\n    ) -> List[ShoppingListEntity]:\\n        \"\"\"\\n        This class method finds saved shopping list based on the given parameters.\\n\\n        Parameters\\n        ----------\\n        date_time : DateTime, optional\\n            The date and time to find that is associated with the shopping list\\n        location : Location, optional\\n            The location (usually the store) to that is associated with the shopping list\\n\\n        Returns\\n        -------\\n        List[ShoppingListEntity]\\n            A list of shopping list entities that were found\\n        \"\"\"\\n        pass\\n\\n    @classmethod\\n    def add_to_shopping_list(\\n        cls,\\n        shopping_list_name: ShoppingListName,\\n        product_name: Optional[ProductName] = None,\\n        amount: Optional[Amount] = None,\\n    ) -> ShoppingListEntity:\\n        \"\"\"\\n        This class method adds a product to a shopping list.\\n\\n        Parameters\\n        ----------\\n        shopping_list_name : ShoppingListName, optional\\n            The name of the shopping list to add the product to\\n        product_name : ProductName, optional\\n            The name of the product to add to the shopping list\\n        amount : Amount, optional\\n            The amount of products to add to the shopping list\\n\\n        Returns\\n        -------\\n        ShoppingListEntity\\n            The shopping list entity that the product was added to\\n        \"\"\"\\n        pass\\n\\n    @classmethod\\n    def order(\\n        cls,\\n        product_name: Optional[ProductName] = None,\\n        product_attribute: Optional[ProductAttribute] = None,\\n        date_time: Optional[Union[DateTime, List[DateTime]]] = None,\\n        location: Optional[Location] = None,\\n        amount: Optional[Amount] = None,\\n        shopping_list_name: Optional[ShoppingListName] = None,\\n    ) -> OrderEntity:\\n        \"\"\"\\n        This class method places an order for a product.\\n\\n        Parameters\\n        ----------\\n        product_name : ProductName, optional\\n            The name of the product to find\\n        product_attribute : ProductAttribute, optional\\n            The attribute of the product to find (e.g., available, on sale, etc.)\\n        date_time : DateTime, optional\\n            The date and time to find the product at\\n        location : Location, optional\\n            The location (usually the store) to find the product at\\n        amount : Amount, optional\\n            The amount of products to order\\n        shopping_list_name : ShoppingListName, optional\\n            The name of the shopping list that contains the products to order\\n            This parameter is mutually exclusive with the product and amount parameters\\n\\n        Returns\\n        -------\\n        OrderEntity\\n            The order entity that was placed\\n        \"\"\"\\n        pass\\n\\n\\n# MUSIC:\\n\\nclass Music(Action):\\n    \"\"\"\\n    The Music class contains all the methods of a virtual assistant agent in the music domain.\\n    \"\"\"\\n\\n    @classmethod\\n    def play_music(\\n        cls,\\n        album: Optional[Album] = None,\\n        artist: Optional[Artist] = None,\\n        genre: Optional[Genre] = None,\\n        playlist: Optional[Playlist] = None,\\n        song: Optional[Song] = None,\\n        date_time: Optional[DateTime] = None,\\n        music_type: Optional[MusicType] = None,\\n    ) -> List[MusicEntity]:\\n        \"\"\"\\n        This class method plays a music: a song, an album, songs by an artists,\\n        a music genre, a playlist in a specific date and time.\\n        The given params: album, artist, genre, playlist and song are usually mutually exclusive\\n        and are not used in conjunction.\\n\\n        Parameters\\n        ----------\\n        album : Album, optional\\n            The album to play\\n        artist : Artist, optional\\n            The artist to play\\n        genre : Genre, optional\\n            The genre to play\\n        playlist : Playlist, optional\\n            The playlist to play\\n        date_time : DateTime, optional\\n            The date and time to play the music\\n        music_type : MusicType, optional\\n            The type of music to play (usually anything that does not fit in the other categories)\\n\\n        Returns\\n        -------\\n        List[MusicEntity]\\n            A list of MusicEntity objects that represent the music to play\\n        \"\"\"\\n        pass\\n\\n\\n# HOME:\\n\\nclass SmartHome(Action):\\n    \"\"\"\\n    The SmartHome class contains all the methods of a virtual assistant agent in the smart home domain.\\n    \"\"\"\\n    \\n    @classmethod\\n    def find_home_devices(\\n        cls,\\n        device_name: Optional[HomeDeviceName] = None,\\n        device_action: Optional[HomeDeviceAction] = None,\\n        device_value: Optional[HomeDeviceValue] = None,\\n    ) -> List[HomeDeviceEntity]:\\n        \"\"\"\\n        This class method finds smart home devices.\\n\\n        Parameters\\n        ----------\\n        device_name : HomeDeviceName, optional\\n            The device name\\n        device_action : HomeDeviceAction, optional\\n            The action to be performed on the device\\n        device_value : HomeDeviceValue, optional\\n            The action\\'s value to be set on the device\\n\\n        Returns\\n        -------\\n        List[HomeDeviceEntity]\\n            A list of home device entities\\n        \"\"\"\\n        pass\\n\\n    @classmethod\\n    def execute_home_device_action(\\n        cls,\\n        date_time: Optional[DateTime] = None,\\n        device_name: Optional[HomeDeviceName] = None,\\n        device_action: Optional[HomeDeviceAction] = None,\\n        device_value: Optional[HomeDeviceValue] = None,\\n    ) -> HomeDeviceEntity:\\n        \"\"\"\\n        This class method executes given actions on smart home devices.\\n\\n        Parameters\\n        ----------\\n        device_name : HomeDeviceName, optional\\n            The device name\\n        device_action : HomeDeviceAction, optional\\n            The action to be performed on the device\\n        device_value : HomeDeviceValue, optional\\n            The action\\'s value to be set on the device\\n        date_time : DateTime, optional\\n            The date and time of the action\\n\\n        Returns\\n        -------\\n        HomeDeviceEntity\\n            Home device entity action is performed on\\n        \"\"\"\\n        pass\\n\\n# WEATHER:\\n\\nclass Weather(Action):\\n    \"\"\"\\n    The Weather class contains all the methods of a virtual assistant agent in the weather domain.\\n    \"\"\"\\n    \\n    @classmethod\\n    def find_weather_forecasts(\\n        cls,\\n        date_time: Optional[Union[DateTime, List[DateTime]]] = None,\\n        location: Optional[Location] = None,\\n        weather_attribute: Optional[WeatherAttribute] = None,\\n        weather_temperature: Optional[WeatherTemperature] = None,\\n    ) -> List[WeatherForecastEntity]:\\n        \"\"\"\\n        This class method find weather forecasts based on the given parameters.\\n\\n\\n        Parameters\\n        ----------\\n        date_time : DateTime, optional\\n            The date and time to forecast the weather at\\n        location : Location, optional\\n            The location to forecast the weather at\\n        weather_attribute : WeatherAttribute, optional\\n            This parameter can be used to filter the weather forecast on a specific weather attribute\\n        weather_temperature : WeatherTemperature, optional\\n            The weather temperature to forecast (e.g., less than 80 degrees)\\n            This parameter can be used to filter the weather forecast on a specific weather termperature\\n            \\n        Returns\\n        -------\\n        List[WeatherForecastEntity]\\n            The list of weather forecasts that were found\\n        \"\"\"\\n        pass\\n\\n\\n\\n\\n# MESSAGES:\\n\\nclass Messages(Action):\\n    \"\"\"\\n    The Messages class contains all the methods of a virtual assistant agent in the messages domain.\\n    \"\"\"\\n\\n    @classmethod\\n    def find_messages(\\n        cls,\\n        date_time: Optional[DateTime] = None,\\n        sender: Optional[Contact] = None,\\n        recipient: Optional[Contact] = None,\\n        content: Optional[Content] = None,\\n        message_status: Optional[MessageStatus] = None,\\n        message_content_type: Optional[MessageContentType] = None,\\n    ) -> List[MessageEntity]:\\n        \"\"\"\\n        This class method find messages based on the given parameters.\\n\\n        Parameters\\n        ----------\\n        date_time : DateTime, optional\\n            The date and time the message will be sent\\n        sender : Contact, optional\\n            The sender of the message\\n        recipient : Contact, optional\\n            The recipient of the message\\n        content : Content, optional\\n            The content of the message\\n        message_status : MessageStatus, optional\\n            The status of the message (e.g., open, send, read, unread)\\n        message_content_type : MessageContentType, optional\\n            The content type of the message\\n\\n        Returns\\n        -------\\n        List[MessageEntity]\\n            The list of messages that were found\\n        \"\"\"\\n        pass\\n\\n    @classmethod\\n    def send_message(\\n        cls,\\n        recipient: Optional[Contact] = None,\\n        content: Optional[Content] = None,\\n        date_time: Optional[DateTime] = None,\\n        message_content_type: Optional[MessageContentType] = None,\\n    ) -> MessageEntity:\\n        \"\"\"\\n        This class method send messages.\\n\\n        Parameters\\n        ----------\\n        recipient : Contact, optional\\n            The recipient of the message\\n        content : Content, optional\\n            The content of the message\\n        date_time : DateTime, optional\\n            The date and time the message will be sent\\n        message_content_type : MessageContentType, optional\\n            The content type of the message\\n\\n        Returns\\n        -------\\n        MessageEntity\\n            The message that was sent\\n        \"\"\"\\n        pass\\n\\n    @classmethod\\n    def delete_messages(\\n        cls, messages: Union[MessageEntity, List[MessageEntity]]\\n    ) -> List[MessageEntity]:\\n        \"\"\"\\n        This class method deletes messages.\\n\\n        Parameters\\n        ----------\\n        messages : MessageEntity|List[MessageEntity], optional\\n            The messages to be deleted. If a single message is passed, it will be converted to a list.\\n\\n        Returns\\n        -------\\n        List[MessageEntity]\\n            a list of MessageEntity objects that were deleted\\n        \"\"\"\\n        pass\\n\\n\\n# ENTITY:\\n\\nclass Entity:\\n    \"\"\"\\n    The Entity class is the base class for all entities. Entities are used to represent objects in the API.\\n    Any object returned by the API is an entity. \\n    This class is abstract and cannot be instantiated.\\n    \"\"\"\\n\\n    pass\\n\\n\\n# RESOLVABLE:\\n\\nclass Resolvable(Generic[T]):\\n    \"\"\"\\n    The Resolvable class is the base class for all resolvable entities.\\n    Resolvable entities are used to represent parameters in the API.\\n    This class bridges the user intent expressed in natural language and expected objects in the API.\\n    For exmaple, Contact, Location, DateTime, etc. are all resolvable entities.\\n    Resolvable objects are resolve from the user input or from entities recieved from the API.\\n    \"\"\"\\n\\n    # @exception_handler\\n    @classmethod\\n    def resolve_from_text(T, text: str) -> T:\\n        \"\"\"\\n        This class method resolves a resolvable object from the user input.\\n        The resolved text will usually be a phrase within the user instruction.\\n        For exmaple:\\n            * \"To San Francisco\" will resolve to a Location object.\\n            * \"After 8PM\" will resolve to a DateTime object.\\n            * \"To my cousin John\" will resolve to a Contact object.\\n\\n        Parameters\\n        ----------\\n        text : str\\n            The text to recover a Resolvable object from\\n\\n        Returns\\n        -------\\n        T\\n            The resolable template object that is calling this method\\n        \"\"\"\\n        pass\\n\\n    @classmethod\\n    def resolve_many_from_text(T, text: str) -> List[T]:\\n        \"\"\"\\n        This class method resolves a list of resolvable object from the user input.\\n        The resolved text will usually be a phrase within the user instruction. Resolve from many will usually\\n        include a plural form of a noun. Alternatively, it will include a singular noun with a semantics of plural.\\n        For example:\\n            * \"Every store in 10 miles radius\" will resolve to a list Location objects.\\n            * \"The weekend\" will be resolved to a list of DateTime objects.\\n            * \"My book reading club\" will resolve to a list Contact object.\\n\\n        Parameters\\n        ----------\\n        text : str\\n            The text to recover a list of Resolvable objects from\\n\\n        Returns\\n        -------\\n        List[T]\\n            The resolable template object that is calling this method\\n        \"\"\"\\n        pass\\n\\n    # @exception_handler\\n    @classmethod\\n    def resolve_from_entity(\\n        T,\\n        entity: Union[Entity, List[Entity]],\\n        text: Optional[str] = None,\\n    ) -> T:\\n        \"\"\"\\n        This class method resolves a resolvable object from an entity object.\\n        It is possible that we would like to resolve a one resolvable object from another resolvable object.\\n        This scenario is typical when using a result of a previous API call as a parameter for a subsequent API call.\\n        For example:\\n            * \"find directions to San Francisco and send them to John\". The navigation directions result will be resolved\\n            to a Content object in the subsequent API call to send a message.\\n            * \"Find the nearest open pharmacy and navigate to it\". The map object will be resolve to a Location object\\n            in the subsequent API call to navigate to it.\\n\\n        Parameters\\n        ----------\\n        entity : Entity\\n            The entity object to recover a Resolvable object from\\n\\n        Returns\\n        -------\\n        T\\n            The resolable template object that is calling this method\\n        \"\"\"\\n\\n        pass\\n\\n\\n# NAVIGATION:\\n\\nclass Navigation(Action):\\n    \"\"\"\\n    The Navigation class contains all the methods of a virtual assistant agent in the navigation domain.\\n    \"\"\"\\n\\n    @classmethod\\n    def find_directions(\\n        cls,\\n        destination: Optional[Location],\\n        origin: Optional[Location] = None,\\n        departure_date_time: Optional[DateTime] = None,\\n        avoid_nav_road_condition: Optional[NavigationRoadCondition] = None,\\n        nav_travel_method: Optional[NavigationTravelMethod] = None,\\n    ) -> List[NavigationDirectionEntity]:\\n        \"\"\"\\n        This class method find directions based on the given parameters.\\n\\n        Parameters\\n        ----------\\n        destination: Location, optional\\n            The destination of the navigation\\n        origin: Location, optional\\n            The origin of the navigation\\n        departure_date_time: DateTime, optional\\n            The date and time the navigation will start\\n        avoid_nav_road_condition: NavigationRoadCondition, optional\\n            The road conditions to avoid\\n        nav_travel_method: NavigationTravelMethod, optional\\n            The travel method to use\\n\\n        Returns\\n        -------\\n        List[NavigationDirectionEntity]\\n            A list of directions that were found\\n        \"\"\"\\n        pass\\n\\n    @classmethod\\n    def find_distance(\\n        cls,\\n        origin: Optional[Location] = None,\\n        destination: Optional[Location] = None,\\n        departure_date_time: Optional[DateTime] = None,\\n        avoid_nav_road_condition: Optional[NavigationRoadCondition] = None,\\n        nav_travel_method: Optional[NavigationTravelMethod] = None,\\n    ) -> List[NavigationDistanceEntity]:\\n        \"\"\"\\n        This class method find the distance between two locations.\\n\\n        Parameters\\n        ----------\\n        origin: Location, optional\\n            The origin of the navigation\\n        destination: Location, optional\\n            The destination of the navigation\\n        departure_date_time: DateTime, optional\\n            The date and time the navigation will start\\n        avoid_nav_road_condition: NavigationRoadCondition, optional\\n            The road conditions to avoid\\n        nav_travel_method: NavigationTravelMethod, optional\\n            The travel method to use\\n\\n        Returns\\n        -------\\n        List[NavigationDistanceEntity]\\n            A list of distances that were found\\n        \"\"\"\\n        pass\\n\\n    @classmethod\\n    def find_duration(\\n        cls,\\n        origin: Optional[Location],\\n        destination: Optional[Location],\\n        departure_date_time: Optional[DateTime],\\n        avoid_nav_road_condition: Optional[NavigationRoadCondition],\\n        nav_travel_method: Optional[NavigationTravelMethod],\\n    ) -> List[NavigationDurationEntity]:\\n        \"\"\"\\n        This class method find the the duration of a travel between two locations.\\n\\n        Parameters\\n        ----------\\n        origin: Location, optional\\n            The origin of the navigation\\n        destination: Location, optional\\n            The destination of the navigation\\n        departure_date_time: DateTime, optional\\n            The date and time the navigation will start\\n        avoid_nav_road_condition: NavigationRoadCondition, optional\\n            The road conditions to avoid\\n        nav_travel_method: NavigationTravelMethod, optional\\n            The travel method to use\\n\\n        Returns\\n        -------\\n        List[NavigationDurationEntity]\\n            A list of durations that were found\\n        \"\"\"\\n        pass\\n\\n    @classmethod\\n    def find_estimated_arrival(\\n        cls,\\n        origin: Optional[Location] = None,\\n        destination: Optional[Location] = None,\\n        arrival_date_time: Optional[DateTime] = None,\\n        avoid_nav_road_condition: Optional[NavigationRoadCondition] = None,\\n        nav_travel_method: Optional[NavigationTravelMethod] = None,\\n    ) -> List[NavigationEstimatedArrivalEntity]:\\n        \"\"\"\\n        This class method gets an estimated arrival information between two locations.\\n\\n        Parameters\\n        ----------\\n        origin: Location, optional\\n            The origin of the navigation\\n        destination: Location, optional\\n            The destination of the navigation\\n        departure_date_time: DateTime, optional\\n            The date and time the navigation will start\\n        avoid_nav_road_condition: NavigationRoadCondition, optional\\n            The road conditions to avoid\\n        nav_travel_method: NavigationTravelMethod, optional\\n            The travel method to use\\n\\n        Returns\\n        -------\\n        List[NavigationEstimatedArrivalEntity]\\n            A list of estimated arrival information objects that were found\\n        \"\"\"\\n        pass\\n\\n    @classmethod\\n    def find_traffic_info(\\n        cls,\\n        location: Optional[Location] = None,\\n        origin: Optional[Location] = None,\\n        destination: Optional[Location] = None,\\n        date_time: Optional[DateTime] = None,\\n        departure_date_time: Optional[DateTime] = None,\\n        nav_road_condition: Optional[NavigationRoadCondition] = None,\\n        nav_travel_method: Optional[NavigationTravelMethod] = None,\\n    ) -> List[NavigationTrafficInfoEntity]:\\n        \"\"\"\\n        This class method returns the traffic information on a specific route, location (like road) or a planned\\n        travel between two locations.\\n\\n        Parameters\\n        ----------\\n        location: Location, optional\\n            The location along the route to get the traffic information for\\n        origin: Location, optional\\n            The origin of the navigation\\n        destination: Location, optional\\n            The destination of the navigation\\n        departure_date_time: DateTime, optional\\n            The date and time the navigation will start\\n        nav_road_condition: NavigationRoadCondition, optional\\n            The road conditions to look for\\n        nav_travel_method: NavigationTravelMethod, optional\\n            The travel method to use\\n\\n        Returns\\n        -------\\n        List[NavigationTrafficInfoEntity]\\n            A list of traffic information objects that were found\\n        \"\"\"\\n        pass\\n\\n\\n# CALENDAR:\\n\\nclass Calendar(Action):\\n    \"\"\"\\n    The Calendar class contains all the methods of a virtual assistant agent in the calendar domain.\\n    \"\"\"\\n\\n    @classmethod\\n    def delete_events(\\n        cls,\\n        date_time: Optional[DateTime] = None,\\n        location: Optional[Location] = None,\\n        event_name: Optional[EventName] = None,\\n        event_calendar: Optional[EventCalendar] = None,\\n        event_category: Optional[EventType] = None,\\n    ) -> List[EventEntity]:\\n        \"\"\"\\n        This class method deletes an event in the calendar.\\n\\n        Parameters\\n        ----------\\n        date_time : DateTime, optional\\n            The date and time of the event\\n        location : Location, optional\\n            The location of the event\\n        event_name : EventName, optional\\n            The name of the event\\n        event_calendar : EventCalendar, optional\\n            The calendar to search for the event\\n        event_category : EventType, optional\\n            The category of the event\\n\\n        Returns\\n        -------\\n        List[EventEntity]\\n            a list of EventEntity objects that were deleted\\n        \"\"\"\\n        pass\\n\\n    @classmethod\\n    def find_events(\\n        cls,\\n        date_time: Optional[DateTime] = None,\\n        location: Optional[Location] = None,\\n        event_name: Optional[EventName] = None,\\n        event_calendar: Optional[EventCalendar] = None,\\n        event_category: Optional[EventType] = None,\\n    ) -> List[EventEntity]:\\n        \"\"\"\\n        This class method finds events in the calendar.\\n\\n        Parameters\\n        ----------\\n        date_time : DateTime, optional\\n            The date and time of the event\\n        location : Location, optional\\n            The location of the event\\n        event_name : EventName, optional\\n            The name of the event\\n        event_calendar : EventCalendar, optional\\n            The calendar to search for the event\\n        event_category : EventType, optional\\n            The category of the event\\n\\n        Returns\\n        -------\\n        List[EventEntity]\\n            A list of EventEntity objects\\n        \"\"\"\\n        pass\\n\\n    @classmethod\\n    def find_events_tickets(\\n        cls,\\n        date_time: Optional[Union[DateTime, List[DateTime]]] = None,\\n        location: Optional[Location] = None,\\n        event_name: Optional[EventName] = None,\\n        event_category: Optional[EventType] = None,\\n        amount: Optional[Amount] = None,\\n    ) -> List[EventTicketEntity]:\\n        \"\"\"\\n        This class method finds tickets for events in the calendar.\\n        It can be used to indicate the availablability of tickets for an event.\\n\\n        Parameters\\n        ----------\\n        date_time : DateTime, optional\\n            The date and time of the event\\n        location : Location, optional\\n            The location of the event\\n        event_name : EventName, optional\\n            The name of the event\\n        event_category : EventType, optional\\n            The category of the event\\n        amount : Amount, optional\\n            The amount of tickets requested for the event\\n\\n        Returns\\n        -------\\n        List[EventTicketEntity]\\n            A list of EventTicketEntity objects that are available for the event\\n        \"\"\"\\n        pass\\n\\n    @classmethod\\n    def purchase_tickets(\\n        cls,\\n        date_time: Optional[DateTime] = None,\\n        location: Optional[Location] = None,\\n        event_name: Optional[EventName] = None,\\n        event_category: Optional[EventType] = None,\\n        amount: Optional[Amount] = None,\\n    ) -> EventTicketEntity:\\n        \"\"\"\\n        This class method purchase tickets for events in the calendar.\\n\\n        Parameters\\n        ----------\\n        date_time : DateTime, optional\\n            The date and time of the event\\n        location : Location, optional\\n            The location of the event\\n        event_name : EventName, optional\\n            The name of the event\\n        event_category : EventType, optional\\n            The category of the event\\n        amount : Amount, optional\\n            The amount of tickets requested for the event\\n\\n        Returns\\n        -------\\n        List[EventTicketEntity]\\n            A list of EventTicketEntity objects that were purchased\\n        \"\"\"\\n        pass\\n\\n    @classmethod\\n    def schedule_event(\\n        cls,\\n        date_time: Optional[DateTime] = None,\\n        location: Optional[Location] = None,\\n        event_name: Optional[EventName] = None,\\n        event_calendar: Optional[EventCalendar] = None,\\n        event_category: Optional[EventType] = None,\\n    ) -> EventEntity:\\n        \"\"\"\\n        This class method schedules an event in the calendar.\\n\\n        Parameters\\n        ----------\\n        date_time : DateTime, optional\\n            The date and time of the event\\n        location : Location, optional\\n            The location of the event\\n        event_name : EventName, optional\\n            The name of the event\\n        event_calendar : EventCalendar, optional\\n            The calendar to search for the event\\n        event_category : EventType, optional\\n            The category of the event\\n\\n        Returns\\n        -------\\n        EventEntity\\n            The event that was scheduled\\n        \"\"\" \\n        pass\\n\\n# CLOCK:\\n\\nclass Timer(Action):\\n    \"\"\"\\n    The Timer class contains all the methods of a virtual assistant agent for using a timer in the clock domain.\\n    \"\"\"\\n\\n    @classmethod\\n    def create_timer(\\n        cls,\\n        duration: Optional[TimeDuration] = None,\\n        date_time: Optional[DateTime] = None,\\n    ) -> TimerEntity:\\n        \"\"\"\\n        This class method creates a timer.\\n        A timer can be defined with a duration or a date and time.\\n        If date and time are not specified, the timer will start immediately.\\n\\n        Parameters\\n        ----------\\n        duration : TimeDuration, optional\\n            The duration of the timer.\\n        date_time : DateTime, optional\\n            The date and time of the timer.\\n\\n        Returns\\n        -------\\n        TimerEntity\\n            The timer entity object\\n        \"\"\"\\n        pass\\n\\n    @abstractclassmethod\\n    def pause(\\n        cls,\\n        timer: Optional[TimerEntity] = None,\\n    ) -> TimerEntity:\\n        \"\"\"\\n        This class method pauses a timer.\\n\\n        Parameters\\n        ----------\\n        timer : Timer, optional\\n            The timer to be paused\\n\\n        Returns\\n        -------\\n        TimerEntity\\n            The timer object that was paused\\n        \"\"\"\\n        pass\\n\\n    @classmethod\\n    def restart(\\n        cls,\\n        timer: Optional[TimerEntity] = None,\\n    ) -> bool:\\n        \"\"\"\\n        This class method restarts a timer.\\n\\n        Parameters\\n        ----------\\n        timer : Timer, optional\\n            The timer to be restarted\\n\\n        Returns\\n        -------\\n        TimerEntity\\n            The timer object that was paused\\n        \"\"\"\\n        pass\\n\\n    @classmethod\\n    def stop(\\n        cls,\\n        timer: Optional[TimerEntity] = None,\\n    ) -> bool:\\n        \"\"\"\\n        This class method stops a timer.\\n\\n        Parameters\\n        ----------\\n        timer : Timer, optional\\n            The timer to be stopped\\n\\n        Returns\\n        -------\\n        TimerEntity\\n            The timer object that was paused\\n        \"\"\"\\n        pass\\n\\n\\nclass Alarm:\\n    \"\"\"\\n    The Alarm class contains all the methods of a virtual assistant agent for using a timer in the clock domain.\\n    \"\"\"\\n\\n    @classmethod\\n    def create_alarm(\\n        cls,\\n        alarm_name: Optional[AlarmName] = None,\\n        date_time: Optional[DateTime] = None,\\n        song: Optional[Song] = None,\\n        content: Optional[Content] = False,\\n    ) -> AlarmEntity:\\n        \"\"\"\\n        This class method creates an alarm.\\n        An alarm is defined with a date and time and can optionally play a song or present a content.\\n\\n        Parameters\\n        ----------\\n        alarm_name: AlarmName, optional\\n            The name of the alarm.\\n        date_time : DateTime, optional\\n            The date and time of the alarm.\\n        song : Song, optional\\n            The song to be played when the alarm is triggered.\\n        content : Content, optional\\n            The content to be presented when the alarm is triggered.\\n\\n        Returns\\n        -------\\n        AlarmEntity\\n            The alarm entity object\\n        \"\"\"\\n        pass\\n\\n    @classmethod\\n    def update_alarm(\\n        cls,\\n        date_time: Optional[DateTime] = None,\\n        alarm_name: Optional[AlarmName] = None,\\n    ) -> AlarmEntity:\\n        \"\"\"\\n        This class method updates an alarm.\\n\\n        Parameters\\n        ----------\\n        date_time : DateTime, optional\\n            The date and time of the alarm.\\n        alarm_name : AlarmName, optional\\n            The alarm name.\\n\\n        Returns\\n        -------\\n        AlarmEntity\\n            The alarm entity object that was updated\\n        \"\"\"\\n        pass\\n\\n    @classmethod\\n    def find_alarms(\\n        cls,\\n        date_time: Optional[DateTime],\\n        alarm_name: Optional[AlarmName],\\n    ) -> List[AlarmEntity]:\\n        \"\"\"\\n        This class method finds existing alarms based on the provided parameters.\\n\\n        Parameters\\n        ----------\\n        date_time : DateTime, optional\\n            The date and time of the alarm.\\n        alarm_name : AlarmName, optional\\n            The alarm name.\\n\\n        Returns\\n        -------\\n        List[AlarmEntity]\\n            The alarm entity object that was updated\\n        \"\"\"\\n        pass\\n\\n# REMINDERS:\\n\\nclass Reminders(Action):\\n    \"\"\"\\n    The Reminders class contains all the methods of a virtual assistant agent in the reminders domain.\\n    \"\"\"\\n\\n    @classmethod\\n    def create_reminder(\\n        cls,\\n        content: Content,\\n        person_reminded: Optional[Contact] = None,\\n        date_time: Optional[DateTime] = None,\\n    ) -> ReminderEntity:\\n        \"\"\"\\n        This class method creates a reminder.\\n\\n        Parameters\\n        ----------\\n        content : Content\\n            The content of the reminder.\\n        person_reminded : Contact, optional\\n            The person to be reminded.\\n        date_time : DateTime, optional\\n            The date and time of the reminder.\\n\\n        Returns\\n        -------\\n        ReminderEntity\\n            The reminder entity object that was created\\n        \"\"\"\\n        pass\\n\\n    @classmethod\\n    def find_reminders(\\n        cls,\\n        person_reminded: Optional[Contact] = None,\\n        date_time: Optional[DateTime] = None,\\n        content: Optional[Content] = None,\\n    ) -> List[ReminderEntity]:\\n        \"\"\"\\n        This class method finds existing reminders.\\n\\n        Parameters\\n        ----------\\n        content : Content\\n            The content of the reminder.\\n        person_reminded : Contact, optional\\n            The person to be reminded.\\n        date_time : DateTime, optional\\n            The date and time of the reminder.\\n\\n        Returns\\n        -------\\n        List[ReminderEntity]\\n            A list of reminder entity objects that were found\\n        \"\"\"\\n        pass\\n\\n    @classmethod\\n    def delete_reminders(\\n        cls, reminders: Union[ReminderEntity, List[ReminderEntity]]\\n    ) -> List[ReminderEntity]:\\n        \"\"\"\\n        This class method delete reminders.\\n\\n        Parameters\\n        ----------\\n        reminders : Union[ReminderEntity, List[ReminderEntity]]\\n            The reminders to be deleted. Can be a single reminder or a list of reminders.\\n\\n        Returns\\n        -------\\n        List[ReminderEntity]\\n            The list of reminders that were deleted\\n        \"\"\"\\n        pass\\n\\n\\n# GENERIC:\\n\\nclass Content(Entity, Resolvable):\\n    \"\"\"\\n    The Content class is used to represent a content like a text, a voice, an image, a video, etc.\\n    This is a generic class that can be used to represent any content. for exmaple, like in a message\\n    or a reminder.\\n    The content can also be casted from any other entity. For example, a driving directions instruction\\n    can be casted to a content.\\n    It inherits from the Entity class and the Resolvable class.\\n    \"\"\"\\n\\n    pass\\n\\n\\nclass Contact(Entity, Resolvable):\\n    \"\"\"\\n    The Contact class is used to represent a contact book contact. A contact is anyone that can be contacted.\\n    Contacts are used in order to send messages (to and from) or set reminders for.\\n    Any textual description of a person (or a list of people) can be resolved to a contact (or list of contacts).\\n    This class inherits from the Entity class and the Resolvable class.\\n    \"\"\"\\n\\n    pass\\n\\n\\nclass DateTime(Entity, Resolvable):\\n    \"\"\"\\n    The DateTime class is used to represent a date and time.\\n    Many action methods use this class in order to specify a date and time for an action.\\n    For example:\\n        * A reminder can be set to a specific date and time.\\n        * An alarm can be set to a specific date and time.\\n        * A message can be sent at a specific date and time.\\n        * A meeting can be scheduled at a specific date and time.\\n    This class inherits from the Entity class and the Resolvable class.\\n    \"\"\"\\n\\n    pass\\n\\n\\nclass Location(Entity, Resolvable):\\n    \"\"\"\\n    The Location class is used to represent a location. A location can be a place, a city, a country,\\n    a landmark, a road, etc. Locations can also be a store, a restaurant, a hotel, etc. In contrast to\\n    a MapEntity, a location does not hold information on a place besides its physical location and its\\n    name association.\\n    This class inherits from the Entity class and the Resolvable class.\\n    \"\"\"\\n\\n    pass\\n\\n\\nclass Amount(Entity, Resolvable):\\n    \"\"\"\\n    The Amount class is used to represent an amount of something. An amount can be a number of items.\\n    It is used in the context of this API to indicate number of tickets to purchase for an event, or\\n    a number of products to purchase or place in a shopping list. An amout will typically resolve a specific\\n    amount and is less used in a general quantifier context (like the detrminers \"a\", \"the\", etc.).\\n    It inherits from the Entity class and the Resolvable class.\\n    \"\"\"\\n\\n    pass\\n\\n\\nclass TimeDuration(Entity, Resolvable):\\n    \"\"\"\\n    The TimeDuration class is used to represent a duration of time. A duration of time can be a number of\\n    minutes to wait when setting a timer. It is used in the API in the context of a timer.\\n    It inherits from the Entity class and the Resolvable class.\\n    \"\"\"\\n\\n    pass\\n\\n\\n# UTILS:\\n\\ndef first(a: Iterable[T], n: Optional[int] = 1) -> Union[T, List[T]]:\\n    \"\"\"\\n    This method returns the first N entities in a list of entities.\\n\\n    Parameters\\n    ----------\\n    a : Iterable[T]\\n        An iterable of entities\\n    n : int, optional\\n        The number of first elements to return from the list, by default 1\\n\\n    Returns\\n    -------\\n    T|List[T]\\n        The first entity or a list of the first N entities\\n    \"\"\"\\n    pass\\n\\n\\ndef last(a: Iterable[T], n: Optional[int] = 1) -> Union[T, List[T]]:\\n    \"\"\"\\n    This method returns the last N entities in a list of entities.\\n\\n    Parameters\\n    ----------\\n    a : Iterable[T]\\n        An iterable of entities\\n    n : int, optional\\n        The number of last elements to return from the list, by default 1\\n\\n    Returns\\n    -------\\n    T|List[T]\\n        The first entity or a list of the last N entities\\n    \"\"\"\\n    pass\\n\\n\\ndef sort(a: Iterable[T], text: str) -> Iterable[T]:\\n    \"\"\"\\n    This method sorts an iterable of entities based on a given text attribute.\\n\\n    Parameters\\n    ----------\\n    a : Iterable[T]\\n        An iterable of entities\\n    text : str\\n        The attribute to sort the entities by expressed as a text string\\n\\n    Returns\\n    -------\\n    T|List[T]\\n        The first entity or a list of the last N entities\\n    \"\"\"\\n    pass\\n\\n\\ndef filter(a: Iterable[T], **kwargs) -> Iterable[T]:\\n    \"\"\"\\n    This method filters an iterable of entities based on a given keywords.\\n\\n    Parameters\\n    ----------\\n    a : Iterable[T]\\n        An iterable of entities\\n    kwargs : dict\\n        Arbitrary keyword arguments to filter the list of entities by.\\n        These keywords are expected to be attributes of the entities.\\n\\n    Returns\\n    -------\\n    T|List[T]\\n        The first entity or a list of the last N entities\\n    \"\"\"\\n    pass\\n\\n\\n# RESPONDER:\\n\\nclass Responder(Action):\\n    \"\"\"\\n    Responders are used to respond to user requests. Responder is the default way to react to user requests that\\n    requires a response. Any entities recieved from the APIs can be passed to the responder to be sent to the user.\\n    \"\"\"\\n\\n    @classmethod\\n    def respond(cls, response: Union[List[Entity], Entity]) -> None:\\n        \"\"\"\\n        This class method delete reminders.\\n\\n        Parameters\\n        ----------\\n        response : Union[List[Entity], Entity]\\n            The entity or a list of entities to be sent to the user.\\n\\n        Returns\\n        -------\\n        None\\n        \"\"\"\\n        pass\\n\\n\\n# ACTION:\\n\\nclass Action:\\n    \"\"\"\\n    This is a markup class for all virtual assistance actions.\\n    An action is a class that contains all the methods of a virtual assistant aget in a specific domain.\\n    For example, the Messages action contains actions like sending a message or finding messages.\\n    If an action method is provided without required parameters, the virtual assistant agent will prompt the user\\n    to provide the missing information.\\n    \"\"\"\\n\\n    pass\\n\\n\\n    '}, {'role': 'assistant', 'content': 'ok'}, {'role': 'user', 'content': 'Text: see if find my first reminders that I have a meeting at 3pm and there are and see if I got a reminder at mindnight in 2 days to bring the keys'}, {'role': 'assistant', 'content': 'Code:\\nperson_reminded = Contact.resolve_from_text(\"my\")\\ncontent = Content.resolve_from_text(\"I have a meeting at 3pm\")\\nreminders = Reminders.find_reminders(person_reminded=person_reminded, content=content)\\nreminders = first(reminders)\\nResponder.respond(response=reminders)\\ntest_reminders = bool(reminders)\\nResponder.respond(response=test_reminders)\\n\\nperson_reminded = Contact.resolve_from_text(\"I\")\\ndate_time = DateTime.resolve_from_text(\"mindnight in 2 days\")\\ncontent = Content.resolve_from_text(\"bring the keys\")\\nreminders = Reminders.find_reminders(person_reminded=person_reminded, date_time=date_time, content=content)\\ntest_reminders = bool(reminders)\\nResponder.respond(response=test_reminders)'}, {'role': 'user', 'content': 'Text: create a reminder at mindnight to close the window and to call my dad'}, {'role': 'assistant', 'content': 'Code:\\ndate_time = DateTime.resolve_from_text(\"mindnight\")\\ncontents = Content.resolve_many_from_text(\"close the window and call my dad\")\\nfor content in [contents]:\\n  Reminders.create_reminder(date_time=date_time, content=content)'}]\n",
      "promtp_str \n",
      "    Convert the following task into Python code.\n",
      "    This is the API specification:\n",
      "# MAP:\n",
      "\n",
      "class M\n",
      "Base prompt tokens length: 15480\n"
     ]
    }
   ],
   "source": [
    "chat_format = True\n",
    "prompt = build_prompt(prompt_type=prompt_type, examples_limit=examples_limit, chat_format=chat_format)\n",
    "print(\"prompt\", prompt)\n",
    "prompt_str = \"\\n\".join([p['content'] for p in prompt if p['role'] == 'user'])\n",
    "print(\"promtp_str\", prompt_str[:100])\n",
    "\n",
    "tokenizer = GPT2TokenizerFast.from_pretrained(\"gpt2\")\n",
    "base_prompt_tokens_len = len(tokenizer(prompt_str, max_length=51200, truncation=True)[\"input_ids\"])\n",
    "print(f\"Base prompt tokens length: {base_prompt_tokens_len}\")"
   ]
  },
  {
   "cell_type": "code",
   "execution_count": 725,
   "metadata": {},
   "outputs": [
    {
     "name": "stdout",
     "output_type": "stream",
     "text": [
      "Generating predictions for 152 records\n"
     ]
    },
    {
     "data": {
      "application/vnd.jupyter.widget-view+json": {
       "model_id": "17770899daa74598acb03b9c67247c7d",
       "version_major": 2,
       "version_minor": 0
      },
      "text/plain": [
       "Processing records:   0%|          | 0/152 [00:00<?, ?it/s]"
      ]
     },
     "metadata": {},
     "output_type": "display_data"
    }
   ],
   "source": [
    "openai_disabled = False\n",
    "force = False\n",
    "total_records = test_df.shape[0]\n",
    "max_tokens = 500\n",
    "wait_time_in_seconds = 20\n",
    "\n",
    "# generate predictions\n",
    "responses = []\n",
    "print(f\"Generating predictions for {total_records} records\")\n",
    "for i, row  in tqdm.notebook.tqdm(test_df.iterrows(), total=total_records, desc=\"Processing records\"):   \n",
    "    # check to see if we already have a result for this record\n",
    "    index = tuple(row[id_label] for id_label in id_labels) if len(id_labels) > 1 else row[id_labels[0]]\n",
    "    index = [index]\n",
    "    if (not force) and ('output' in test_results_df.loc[index]) and (not any(pd.isnull(test_results_df.loc[index, 'output']))):\n",
    "        # if we do, then skip this record\n",
    "        time.sleep(0.1)\n",
    "    elif not openai_disabled:\n",
    "        # run the model, if we don't have a result\n",
    "        messages = [{\n",
    "            \"role\": \"system\", \n",
    "            # \"content\": \"You are a skilled programmer. You will be provided with a text description and your task is to convert it into Python code. Below are examples of text descriptions and their corresponding Python code implementations.\"\n",
    "            \"content\": \"You are a skilled programmer. You will be provided with a text description and your task is to convert it into Python code. Below is an API specifications for implementing the description in code.\"\n",
    "        }] + prompt + [{\n",
    "            \"role\": \"user\",\n",
    "            # \"content\": \"Based on the previous examples, convert the following text into Python code:\\n\" + build_example_prompt(text=row[\"text\"])\n",
    "            \"content\": \"Based on the API specifications and previous examples, convert the following text into Python code:\\n\" + build_example_prompt(text=row[\"text\"])\n",
    "        }]\n",
    "        response = openai.ChatCompletion.create(\n",
    "            model=MODEL_NAME, \n",
    "            messages=messages,\n",
    "            max_tokens=max_tokens,\n",
    "            n=n\n",
    "        )\n",
    "        responses.append(response)\n",
    "        \n",
    "        outputs = [x['message']['content'] for x in response['choices']]\n",
    "        outputs = [output.replace(\"Code:\\n\", \"\").replace(\"```python\", \"\").replace(\"```py\", \"\").replace(\"```\", \"\").strip() for output in outputs]\n",
    "        ns = list(np.arange(n))\n",
    "        \n",
    "        # duplicate the records\n",
    "        records_to_duplicate = test_results_df.loc[index] # Fetch the records\n",
    "        duplicated_records = pd.concat([records_to_duplicate] * (n - 1), ignore_index=False) # Duplicate the records\n",
    "        test_results_df = pd.concat([test_results_df, duplicated_records], ignore_index=False) # Append the duplicated records back to the original DataFrame (optional)\n",
    "        \n",
    "        # set values for output and n\n",
    "        test_results_df['output'] = test_results_df['output'].astype(object) if 'output' in test_results_df.columns else None\n",
    "        test_results_df.loc[index, 'output'] = outputs * len(records_to_duplicate)\n",
    "        test_results_df['n'] = test_results_df['n'].astype(object) if 'n' in test_results_df.columns else None\n",
    "        test_results_df.loc[index, 'n'] = ns * len(records_to_duplicate)\n",
    "        \n",
    "        test_results_df.to_csv(results_file_path, index=True, compression='gzip')\n",
    "        \n",
    "        time.sleep(wait_time_in_seconds)"
   ]
  },
  {
   "cell_type": "code",
   "execution_count": null,
   "metadata": {},
   "outputs": [],
   "source": []
  }
 ],
 "metadata": {
  "kernelspec": {
   "display_name": "biu",
   "language": "python",
   "name": "python3"
  },
  "language_info": {
   "codemirror_mode": {
    "name": "ipython",
    "version": 3
   },
   "file_extension": ".py",
   "mimetype": "text/x-python",
   "name": "python",
   "nbconvert_exporter": "python",
   "pygments_lexer": "ipython3",
   "version": "3.9.15"
  },
  "orig_nbformat": 4
 },
 "nbformat": 4,
 "nbformat_minor": 2
}
