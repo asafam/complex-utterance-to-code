{
 "cells": [
  {
   "cell_type": "code",
   "execution_count": 15,
   "metadata": {},
   "outputs": [],
   "source": [
    "import sys\n",
    "import os \n",
    "\n",
    "paths = ['../src/', '../src/api/v6']\n",
    "for path in paths:\n",
    "    path = os.path.normcase(path)\n",
    "    if not any(os.path.normcase(sp) == path for sp in sys.path):\n",
    "        sys.path.append(path)"
   ]
  },
  {
   "cell_type": "code",
   "execution_count": 16,
   "metadata": {},
   "outputs": [
    {
     "data": {
      "text/plain": [
       "['/Users/asaf/Workspace/biu/complex-utterance-to-code/notebooks',\n",
       " '/Users/asaf/Workspace/biu/complex-utterance-to-code',\n",
       " '/Users/asaf/opt/miniconda3/envs/biu/lib/python39.zip',\n",
       " '/Users/asaf/opt/miniconda3/envs/biu/lib/python3.9',\n",
       " '/Users/asaf/opt/miniconda3/envs/biu/lib/python3.9/lib-dynload',\n",
       " '',\n",
       " '/Users/asaf/.local/lib/python3.9/site-packages',\n",
       " '/Users/asaf/opt/miniconda3/envs/biu/lib/python3.9/site-packages',\n",
       " '../src/',\n",
       " '../src/api/v6']"
      ]
     },
     "execution_count": 16,
     "metadata": {},
     "output_type": "execute_result"
    }
   ],
   "source": [
    "sys.path"
   ]
  },
  {
   "cell_type": "code",
   "execution_count": 3,
   "metadata": {},
   "outputs": [],
   "source": [
    "text = \"\"\"\n",
    "    [ Module\n",
    "\t\t[ source = Location.resolve_from_text('Walmart') ]\n",
    "\t\t[ destination = Location.resolve_from_text('Walgreens') ]\n",
    "\t\t[ directions = Navigation.find_directions(source=source, destination=destination, date_time=date_time) ]\n",
    "\t\t[ Responder.respond(response=directions) ]\n",
    "\t\t[ recipient1 = Contact.resolve_from_text('Pepsi') ]\n",
    "\t\t[ recipient2 = Contact.resolve_from_text('Walgreens') ]\n",
    "\t\t[ For\n",
    "\t\t\t[ test\n",
    "\t\t\t\t[ iter\n",
    "\t\t\t\t\t[ \n",
    "\t\t\t\t\t\t[ recipient1, recipient2 ]\n",
    "\t\t\t\t\t]\n",
    "\t\t\t\t]\n",
    "\t\t\t\t[ Name\n",
    "\t\t\t\t\t[ recipient ]\n",
    "\t\t\t\t]\n",
    "\t\t\t]\n",
    "\t\t\t[ body\n",
    "\t\t\t\t[ exact_content = Content.resolve_from_text('check it out') ]\n",
    "\t\t\t\t[ Message.send_message(recipient=recipient, exact_content=exact_content) ]\n",
    "\t\t\t]\n",
    "\t\t]\n",
    "\t]\n",
    " \"\"\""
   ]
  },
  {
   "cell_type": "code",
   "execution_count": 4,
   "metadata": {},
   "outputs": [],
   "source": [
    "import ast\n",
    "from representations.tree.tree import Tree\n",
    "from representations.builders.ast.tearers.tearer_factory import TearerFactory"
   ]
  },
  {
   "cell_type": "code",
   "execution_count": 5,
   "metadata": {},
   "outputs": [
    {
     "name": "stdout",
     "output_type": "stream",
     "text": [
      "\t[ Module\n",
      "\t\t[ source = Location.resolve_from_text('Walmart') ]\n",
      "\t\t[ destination = Location.resolve_from_text('Walgreens') ]\n",
      "\t\t[ directions = Navigation.find_directions(source=source, destination=destination, date_time=date_time) ]\n",
      "\t\t[ Responder.respond(response=directions) ]\n",
      "\t\t[ recipient1 = Contact.resolve_from_text('Pepsi') ]\n",
      "\t\t[ recipient2 = Contact.resolve_from_text('Walgreens') ]\n",
      "\t\t[ For\n",
      "\t\t\t[ test\n",
      "\t\t\t\t[ iter\n",
      "\t\t\t\t\t[ [ recipient1, recipient2 ] ]\n",
      "\t\t\t\t]\n",
      "\t\t\t\t[ Name\n",
      "\t\t\t\t\t[ recipient ]\n",
      "\t\t\t\t]\n",
      "\t\t\t]\n",
      "\t\t\t[ body\n",
      "\t\t\t\t[ exact_content = Content.resolve_from_text('check it out') ]\n",
      "\t\t\t\t[ Message.send_message(recipient=recipient, exact_content=exact_content) ]\n",
      "\t\t\t]\n",
      "\t\t]\n",
      "\t]\n",
      "\n"
     ]
    }
   ],
   "source": [
    "tree = Tree.unparse(text)\n",
    "print(tree)"
   ]
  },
  {
   "cell_type": "code",
   "execution_count": 6,
   "metadata": {},
   "outputs": [
    {
     "name": "stdout",
     "output_type": "stream",
     "text": [
      "source = Location.resolve_from_text('Walmart')\n",
      "destination = Location.resolve_from_text('Walgreens')\n",
      "directions = Navigation.find_directions(source=source, destination=destination, date_time=date_time)\n",
      "Responder.respond(response=directions)\n",
      "recipient1 = Contact.resolve_from_text('Pepsi')\n",
      "recipient2 = Contact.resolve_from_text('Walgreens')\n",
      "for recipient in [recipient1, recipient2]:\n",
      "    exact_content = Content.resolve_from_text('check it out')\n",
      "    Message.send_message(recipient=recipient, exact_content=exact_content)\n"
     ]
    }
   ],
   "source": [
    "tearer = TearerFactory().get_tearer(tree.root_node)\n",
    "asdl2 = tearer.tear(tree.root_node)\n",
    "x = ast.unparse(asdl2)\n",
    "print(x)"
   ]
  },
  {
   "cell_type": "code",
   "execution_count": 8,
   "metadata": {},
   "outputs": [],
   "source": [
    "import pandas as pd\n",
    "\n",
    "df = pd.read_csv('../build/eval_complex_utterance_to_code_with_intermediate_61_20230509.csv.gz')"
   ]
  },
  {
   "cell_type": "code",
   "execution_count": 9,
   "metadata": {},
   "outputs": [
    {
     "data": {
      "text/plain": [
       "'Check the availability of Pepsi at Walmart and also check it at Walgreens.'"
      ]
     },
     "execution_count": 9,
     "metadata": {},
     "output_type": "execute_result"
    }
   ],
   "source": [
    "df.iloc[0]['text']"
   ]
  },
  {
   "cell_type": "code",
   "execution_count": 10,
   "metadata": {},
   "outputs": [
    {
     "data": {
      "text/plain": [
       "\"[ Module [ product_name = ProductName.resolve_from_text('Pepsi') ] [ location = Location.resolve_from_text('Walmart') ] [ products = Shopping.find_products(product_name=product_name, location=location) ] [ Responder.respond(response=products) ] [ location = Location.resolve_from_text('Walgreens') ] [ products = Shopping.find_products(product_name=product_name, location=location) ] [ Responder.respond(response=products) ] ]\""
      ]
     },
     "execution_count": 10,
     "metadata": {},
     "output_type": "execute_result"
    }
   ],
   "source": [
    "df.iloc[0]['code_rep']"
   ]
  },
  {
   "cell_type": "code",
   "execution_count": 11,
   "metadata": {},
   "outputs": [],
   "source": [
    "tree = Tree.unparse(df.iloc[0]['code_rep'])"
   ]
  },
  {
   "cell_type": "code",
   "execution_count": 12,
   "metadata": {},
   "outputs": [
    {
     "name": "stdout",
     "output_type": "stream",
     "text": [
      "product_name = ProductName.resolve_from_text('Pepsi')\n",
      "location = Location.resolve_from_text('Walmart')\n",
      "products = Shopping.find_products(product_name=product_name, location=location)\n",
      "Responder.respond(response=products)\n",
      "location = Location.resolve_from_text('Walgreens')\n",
      "products = Shopping.find_products(product_name=product_name, location=location)\n",
      "Responder.respond(response=products)\n"
     ]
    }
   ],
   "source": [
    "tearer = TearerFactory().get_tearer(tree.root_node)\n",
    "asdl2 = tearer.tear(tree.root_node)\n",
    "x = ast.unparse(asdl2)\n",
    "print(x)"
   ]
  },
  {
   "cell_type": "code",
   "execution_count": 17,
   "metadata": {},
   "outputs": [],
   "source": [
    "import utils.api_utils"
   ]
  },
  {
   "cell_type": "code",
   "execution_count": 27,
   "metadata": {},
   "outputs": [],
   "source": [
    "text = df.iloc[34]['code_rep']"
   ]
  },
  {
   "cell_type": "code",
   "execution_count": 28,
   "metadata": {},
   "outputs": [
    {
     "name": "stdout",
     "output_type": "stream",
     "text": [
      "\t[ Module\n",
      "\t\t[ locations = Location.resolve_many_from_text('In N Out') ]\n",
      "\t\t[ locations = utils.sort(locations, 'nearest') ]\n",
      "\t\t[ location = utils.first(locations) ]\n",
      "\t\t[ map_entities = Map.find_on_map(location=location) ]\n",
      "\t\t[ Responder.respond(response=map_entities) ]\n",
      "\t\t[ recipient = Contact.resolve_from_text('Bryan') ]\n",
      "\t\t[ content = Content.resolve_from_text('his order') ]\n",
      "\t\t[ Messages.send_message(recipient=recipient, content=content) ]\n",
      "\t]\n",
      "\n"
     ]
    }
   ],
   "source": [
    "tree = Tree.unparse(text)\n",
    "print(tree)"
   ]
  },
  {
   "cell_type": "code",
   "execution_count": 29,
   "metadata": {},
   "outputs": [
    {
     "name": "stdout",
     "output_type": "stream",
     "text": [
      "locations = Location.resolve_many_from_text('In N Out')\n",
      "locations = utils.sort(locations, 'nearest')\n",
      "location = utils.first(locations)\n",
      "map_entities = Map.find_on_map(location=location)\n",
      "Responder.respond(response=map_entities)\n",
      "recipient = Contact.resolve_from_text('Bryan')\n",
      "content = Content.resolve_from_text('his order')\n",
      "Messages.send_message(recipient=recipient, content=content)\n"
     ]
    }
   ],
   "source": [
    "tearer = TearerFactory().get_tearer(tree.root_node)\n",
    "asdl2 = tearer.tear(tree.root_node)\n",
    "x = ast.unparse(asdl2)\n",
    "print(x)"
   ]
  },
  {
   "cell_type": "code",
   "execution_count": null,
   "metadata": {},
   "outputs": [],
   "source": []
  }
 ],
 "metadata": {
  "kernelspec": {
   "display_name": "Python [conda env:biu] *",
   "language": "python",
   "name": "conda-env-biu-py"
  },
  "language_info": {
   "codemirror_mode": {
    "name": "ipython",
    "version": 3
   },
   "file_extension": ".py",
   "mimetype": "text/x-python",
   "name": "python",
   "nbconvert_exporter": "python",
   "pygments_lexer": "ipython3",
   "version": "3.9.15"
  },
  "orig_nbformat": 4,
  "vscode": {
   "interpreter": {
    "hash": "832bbbc2a125df8952d7d7b6771a28c0a342f09abf8099de6754012315c42728"
   }
  }
 },
 "nbformat": 4,
 "nbformat_minor": 2
}
