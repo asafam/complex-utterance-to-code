{
 "cells": [
  {
   "cell_type": "code",
   "execution_count": 2,
   "metadata": {},
   "outputs": [],
   "source": [
    "import sys\n",
    "import os \n",
    "import ast\n",
    "\n",
    "path = '../src/'\n",
    "path = os.path.normcase(path)\n",
    "if not any(os.path.normcase(sp) == path for sp in sys.path):\n",
    "    sys.path.append(path)\n",
    "    \n",
    "from representations.tree.tree import Tree\n",
    "from representations.builders.ast.tearers.tearer_factory import TearerFactory"
   ]
  },
  {
   "cell_type": "code",
   "execution_count": 5,
   "metadata": {},
   "outputs": [],
   "source": [
    "tree_text = \"\"\"\n",
    "        [ Module\n",
    "                [ If\n",
    "                        [ test\n",
    "                                [ 1 > 2 ]\n",
    "                        ]\n",
    "                        [ body\n",
    "                                [ x = 2 ]\n",
    "                        ]\n",
    "                        [ orelse\n",
    "                                [ x = 1 ]\n",
    "                                [ If\n",
    "                                        [ test\n",
    "                                                [ 1 < 2 ]\n",
    "                                        ]\n",
    "                                        [ body\n",
    "                                                [ x = 3 ]\n",
    "                                        ]\n",
    "                                ]\n",
    "                        ]\n",
    "                ]\n",
    "        ]\n",
    "\"\"\"\n",
    "tree = Tree.unparse(tree_text)"
   ]
  },
  {
   "cell_type": "code",
   "execution_count": 6,
   "metadata": {},
   "outputs": [],
   "source": [
    "tearer = TearerFactory().get_tearer(tree.root_node)\n",
    "asdl2 = tearer.tear(tree.root_node)\n",
    "x = ast.unparse(asdl2)"
   ]
  },
  {
   "cell_type": "code",
   "execution_count": 8,
   "metadata": {},
   "outputs": [],
   "source": [
    "x"
   ]
  },
  {
   "cell_type": "code",
   "execution_count": null,
   "metadata": {},
   "outputs": [],
   "source": []
  }
 ],
 "metadata": {
  "kernelspec": {
   "display_name": "Python 3.9.15 ('biu')",
   "language": "python",
   "name": "python3"
  },
  "language_info": {
   "codemirror_mode": {
    "name": "ipython",
    "version": 3
   },
   "file_extension": ".py",
   "mimetype": "text/x-python",
   "name": "python",
   "nbconvert_exporter": "python",
   "pygments_lexer": "ipython3",
   "version": "3.9.15"
  },
  "orig_nbformat": 4,
  "vscode": {
   "interpreter": {
    "hash": "832bbbc2a125df8952d7d7b6771a28c0a342f09abf8099de6754012315c42728"
   }
  }
 },
 "nbformat": 4,
 "nbformat_minor": 2
}
