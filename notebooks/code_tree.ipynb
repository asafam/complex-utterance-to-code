{
 "cells": [
  {
   "cell_type": "code",
   "execution_count": 1,
   "metadata": {},
   "outputs": [],
   "source": [
    "import sys\n",
    "import os \n",
    "\n",
    "path = '../src/'\n",
    "path = os.path.normcase(path)\n",
    "if not any(os.path.normcase(sp) == path for sp in sys.path):\n",
    "    sys.path.append(path)"
   ]
  },
  {
   "cell_type": "code",
   "execution_count": 2,
   "metadata": {},
   "outputs": [],
   "source": [
    "text = \"\"\"\n",
    "    [ Module\n",
    "\t\t[ source = Location.resolve_from_text('Walmart') ]\n",
    "\t\t[ destination = Location.resolve_from_text('Walgreens') ]\n",
    "\t\t[ directions = Navigation.find_directions(source=source, destination=destination, date_time=date_time) ]\n",
    "\t\t[ Responder.respond(response=directions) ]\n",
    "\t\t[ recipient1 = Contact.resolve_from_text('Pepsi') ]\n",
    "\t\t[ recipient2 = Contact.resolve_from_text('Walgreens') ]\n",
    "\t\t[ For\n",
    "\t\t\t[ test\n",
    "\t\t\t\t[ iter\n",
    "\t\t\t\t\t[ \n",
    "\t\t\t\t\t\t[ recipient1, recipient2 ]\n",
    "\t\t\t\t\t]\n",
    "\t\t\t\t]\n",
    "\t\t\t\t[ Name\n",
    "\t\t\t\t\t[ recipient ]\n",
    "\t\t\t\t]\n",
    "\t\t\t]\n",
    "\t\t\t[ body\n",
    "\t\t\t\t[ exact_content = Content.resolve_from_text('check it out') ]\n",
    "\t\t\t\t[ Message.send_message(recipient=recipient, exact_content=exact_content) ]\n",
    "\t\t\t]\n",
    "\t\t]\n",
    "\t]\n",
    " \"\"\""
   ]
  },
  {
   "cell_type": "code",
   "execution_count": 7,
   "metadata": {},
   "outputs": [],
   "source": [
    "import ast\n",
    "from representations.tree.tree import Tree\n",
    "from representations.builders.ast.tearers.tearer_factory import TearerFactory"
   ]
  },
  {
   "cell_type": "code",
   "execution_count": 8,
   "metadata": {},
   "outputs": [
    {
     "name": "stdout",
     "output_type": "stream",
     "text": [
      "\t[ Module\n",
      "\t\t[ source = Location.resolve_from_text('Walmart') ]\n",
      "\t\t[ destination = Location.resolve_from_text('Walgreens') ]\n",
      "\t\t[ directions = Navigation.find_directions(source=source, destination=destination, date_time=date_time) ]\n",
      "\t\t[ Responder.respond(response=directions) ]\n",
      "\t\t[ recipient1 = Contact.resolve_from_text('Pepsi') ]\n",
      "\t\t[ recipient2 = Contact.resolve_from_text('Walgreens') ]\n",
      "\t\t[ For\n",
      "\t\t\t[ test\n",
      "\t\t\t\t[ iter\n",
      "\t\t\t\t\t[ [ recipient1, recipient2 ] ]\n",
      "\t\t\t\t]\n",
      "\t\t\t\t[ Name\n",
      "\t\t\t\t\t[ recipient ]\n",
      "\t\t\t\t]\n",
      "\t\t\t]\n",
      "\t\t\t[ body\n",
      "\t\t\t\t[ exact_content = Content.resolve_from_text('check it out') ]\n",
      "\t\t\t\t[ Message.send_message(recipient=recipient, exact_content=exact_content) ]\n",
      "\t\t\t]\n",
      "\t\t]\n",
      "\t]\n",
      "\n"
     ]
    }
   ],
   "source": [
    "tree = Tree.unparse(text)\n",
    "print(tree)"
   ]
  },
  {
   "cell_type": "code",
   "execution_count": 9,
   "metadata": {},
   "outputs": [
    {
     "name": "stdout",
     "output_type": "stream",
     "text": [
      "source = Location.resolve_from_text('Walmart')\n",
      "destination = Location.resolve_from_text('Walgreens')\n",
      "directions = Navigation.find_directions(source=source, destination=destination, date_time=date_time)\n",
      "Responder.respond(response=directions)\n",
      "recipient1 = Contact.resolve_from_text('Pepsi')\n",
      "recipient2 = Contact.resolve_from_text('Walgreens')\n",
      "for recipient in [recipient1, recipient2]:\n",
      "    exact_content = Content.resolve_from_text('check it out')\n",
      "    Message.send_message(recipient=recipient, exact_content=exact_content)\n"
     ]
    }
   ],
   "source": [
    "tearer = TearerFactory().get_tearer(tree.root_node)\n",
    "asdl2 = tearer.tear(tree.root_node)\n",
    "x = ast.unparse(asdl2)\n",
    "print(x)"
   ]
  },
  {
   "cell_type": "code",
   "execution_count": null,
   "metadata": {},
   "outputs": [],
   "source": []
  }
 ],
 "metadata": {
  "kernelspec": {
   "display_name": "Python 3.9.15 ('biu')",
   "language": "python",
   "name": "python3"
  },
  "language_info": {
   "codemirror_mode": {
    "name": "ipython",
    "version": 3
   },
   "file_extension": ".py",
   "mimetype": "text/x-python",
   "name": "python",
   "nbconvert_exporter": "python",
   "pygments_lexer": "ipython3",
   "version": "3.9.15"
  },
  "orig_nbformat": 4,
  "vscode": {
   "interpreter": {
    "hash": "832bbbc2a125df8952d7d7b6771a28c0a342f09abf8099de6754012315c42728"
   }
  }
 },
 "nbformat": 4,
 "nbformat_minor": 2
}
