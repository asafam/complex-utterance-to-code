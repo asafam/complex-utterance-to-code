{
 "cells": [
  {
   "cell_type": "code",
   "execution_count": 6,
   "metadata": {},
   "outputs": [],
   "source": [
    "import sys\n",
    "import os \n",
    "\n",
    "paths = ['../src/', '../src/api/v6']\n",
    "for path in paths:\n",
    "    path = os.path.normcase(path)\n",
    "    if not any(os.path.normcase(sp) == path for sp in sys.path):\n",
    "        sys.path.append(path)"
   ]
  },
  {
   "cell_type": "code",
   "execution_count": 7,
   "metadata": {},
   "outputs": [
    {
     "data": {
      "text/plain": [
       "['/Users/asaf/Workspace/biu/complex-utterance-to-code/notebooks',\n",
       " '/Users/asaf/Workspace/biu/complex-utterance-to-code',\n",
       " '/Users/asaf/opt/miniconda3/envs/biu/lib/python39.zip',\n",
       " '/Users/asaf/opt/miniconda3/envs/biu/lib/python3.9',\n",
       " '/Users/asaf/opt/miniconda3/envs/biu/lib/python3.9/lib-dynload',\n",
       " '',\n",
       " '/Users/asaf/.local/lib/python3.9/site-packages',\n",
       " '/Users/asaf/opt/miniconda3/envs/biu/lib/python3.9/site-packages',\n",
       " '../src/',\n",
       " '../src/api/v6']"
      ]
     },
     "execution_count": 7,
     "metadata": {},
     "output_type": "execute_result"
    }
   ],
   "source": [
    "sys.path"
   ]
  },
  {
   "cell_type": "code",
   "execution_count": 8,
   "metadata": {},
   "outputs": [],
   "source": [
    "text = \"\"\"\n",
    "    [ Module\n",
    "\t\t[ source = Location.resolve_from_text('Walmart') ]\n",
    "\t\t[ destination = Location.resolve_from_text('Walgreens') ]\n",
    "\t\t[ directions = Navigation.find_directions(source=source, destination=destination, date_time=date_time) ]\n",
    "\t\t[ Responder.respond(response=directions) ]\n",
    "\t\t[ recipient1 = Contact.resolve_from_text('Pepsi') ]\n",
    "\t\t[ recipient2 = Contact.resolve_from_text('Walgreens') ]\n",
    "\t\t[ For\n",
    "\t\t\t[ test\n",
    "\t\t\t\t[ iter\n",
    "\t\t\t\t\t[ \n",
    "\t\t\t\t\t\t[ recipient1, recipient2 ]\n",
    "\t\t\t\t\t]\n",
    "\t\t\t\t]\n",
    "\t\t\t\t[ Name\n",
    "\t\t\t\t\t[ recipient ]\n",
    "\t\t\t\t]\n",
    "\t\t\t]\n",
    "\t\t\t[ body\n",
    "\t\t\t\t[ exact_content = Content.resolve_from_text('check it out') ]\n",
    "\t\t\t\t[ Message.send_message(recipient=recipient, exact_content=exact_content) ]\n",
    "\t\t\t]\n",
    "\t\t]\n",
    "\t]\n",
    " \"\"\""
   ]
  },
  {
   "cell_type": "code",
   "execution_count": 9,
   "metadata": {},
   "outputs": [],
   "source": [
    "import ast\n",
    "from representations.tree.tree import Tree\n",
    "from representations.builders.ast.tearers.tearer_factory import TearerFactory"
   ]
  },
  {
   "cell_type": "code",
   "execution_count": 10,
   "metadata": {},
   "outputs": [
    {
     "name": "stdout",
     "output_type": "stream",
     "text": [
      "\t[ Module\n",
      "\t\t[ source = Location.resolve_from_text('Walmart') ]\n",
      "\t\t[ destination = Location.resolve_from_text('Walgreens') ]\n",
      "\t\t[ directions = Navigation.find_directions(source=source, destination=destination, date_time=date_time) ]\n",
      "\t\t[ Responder.respond(response=directions) ]\n",
      "\t\t[ recipient1 = Contact.resolve_from_text('Pepsi') ]\n",
      "\t\t[ recipient2 = Contact.resolve_from_text('Walgreens') ]\n",
      "\t\t[ For\n",
      "\t\t\t[ test\n",
      "\t\t\t\t[ iter\n",
      "\t\t\t\t\t[ [ recipient1, recipient2 ] ]\n",
      "\t\t\t\t]\n",
      "\t\t\t\t[ Name\n",
      "\t\t\t\t\t[ recipient ]\n",
      "\t\t\t\t]\n",
      "\t\t\t]\n",
      "\t\t\t[ body\n",
      "\t\t\t\t[ exact_content = Content.resolve_from_text('check it out') ]\n",
      "\t\t\t\t[ Message.send_message(recipient=recipient, exact_content=exact_content) ]\n",
      "\t\t\t]\n",
      "\t\t]\n",
      "\t]\n",
      "\n"
     ]
    }
   ],
   "source": [
    "tree = Tree.unparse(text)\n",
    "print(tree)"
   ]
  },
  {
   "cell_type": "code",
   "execution_count": 11,
   "metadata": {},
   "outputs": [
    {
     "name": "stdout",
     "output_type": "stream",
     "text": [
      "source = Location.resolve_from_text('Walmart')\n",
      "destination = Location.resolve_from_text('Walgreens')\n",
      "directions = Navigation.find_directions(source=source, destination=destination, date_time=date_time)\n",
      "Responder.respond(response=directions)\n",
      "recipient1 = Contact.resolve_from_text('Pepsi')\n",
      "recipient2 = Contact.resolve_from_text('Walgreens')\n",
      "for recipient in [recipient1, recipient2]:\n",
      "    exact_content = Content.resolve_from_text('check it out')\n",
      "    Message.send_message(recipient=recipient, exact_content=exact_content)\n"
     ]
    }
   ],
   "source": [
    "tearer = TearerFactory().get_tearer(tree.root_node)\n",
    "asdl2 = tearer.tear(tree.root_node)\n",
    "x = ast.unparse(asdl2)\n",
    "print(x)"
   ]
  },
  {
   "cell_type": "code",
   "execution_count": 12,
   "metadata": {},
   "outputs": [],
   "source": [
    "import pandas as pd\n",
    "\n",
    "df = pd.read_csv('../build/eval_complex_utterance_to_code_with_intermediate_61_20230509.csv.gz')"
   ]
  },
  {
   "cell_type": "code",
   "execution_count": 13,
   "metadata": {},
   "outputs": [
    {
     "data": {
      "text/plain": [
       "'Check the availability of Pepsi at Walmart and also check it at Walgreens.'"
      ]
     },
     "execution_count": 13,
     "metadata": {},
     "output_type": "execute_result"
    }
   ],
   "source": [
    "df.iloc[0]['text']"
   ]
  },
  {
   "cell_type": "code",
   "execution_count": 14,
   "metadata": {},
   "outputs": [
    {
     "data": {
      "text/plain": [
       "\"[ Module [ product_name = ProductName.resolve_from_text('Pepsi') ] [ location = Location.resolve_from_text('Walmart') ] [ products = Shopping.find_products(product_name=product_name, location=location) ] [ Responder.respond(response=products) ] [ location = Location.resolve_from_text('Walgreens') ] [ products = Shopping.find_products(product_name=product_name, location=location) ] [ Responder.respond(response=products) ] ]\""
      ]
     },
     "execution_count": 14,
     "metadata": {},
     "output_type": "execute_result"
    }
   ],
   "source": [
    "df.iloc[0]['code_rep']"
   ]
  },
  {
   "cell_type": "code",
   "execution_count": 15,
   "metadata": {},
   "outputs": [],
   "source": [
    "tree = Tree.unparse(df.iloc[0]['code_rep'])"
   ]
  },
  {
   "cell_type": "code",
   "execution_count": 16,
   "metadata": {},
   "outputs": [
    {
     "name": "stdout",
     "output_type": "stream",
     "text": [
      "product_name = ProductName.resolve_from_text('Pepsi')\n",
      "location = Location.resolve_from_text('Walmart')\n",
      "products = Shopping.find_products(product_name=product_name, location=location)\n",
      "Responder.respond(response=products)\n",
      "location = Location.resolve_from_text('Walgreens')\n",
      "products = Shopping.find_products(product_name=product_name, location=location)\n",
      "Responder.respond(response=products)\n"
     ]
    }
   ],
   "source": [
    "tearer = TearerFactory().get_tearer(tree.root_node)\n",
    "asdl2 = tearer.tear(tree.root_node)\n",
    "x = ast.unparse(asdl2)\n",
    "print(x)"
   ]
  },
  {
   "cell_type": "code",
   "execution_count": 17,
   "metadata": {},
   "outputs": [],
   "source": [
    "import utils.api_utils"
   ]
  },
  {
   "cell_type": "code",
   "execution_count": 18,
   "metadata": {},
   "outputs": [
    {
     "name": "stdout",
     "output_type": "stream",
     "text": [
      "Check the availability of Pepsi at Walmart and also check it at Walgreens.\n",
      "If it's raining tomorrow morning, set my alarm for 7:30, if it's not, set my alarm for 8.\n",
      "Play the new Taylor Swift album and pull up my shopping list for today.\n",
      "Send a message to dad if it rains tomorrow.\n",
      "Give me directions to Navy pier in Chicago and tell me what the current traffic is looking like.\n",
      "Check the next time Blink 182 will be in Chicago and tell me the ticket prices.\n",
      "Remind me tomorrow to email Jim about lunch and schedule a reservation for noon at the cafe.\n",
      "Can you place an order for two turkeys to arrive the 22nd, and remind me about it on the 21st?\n",
      "How long will it take to get to AMC theater at 8pm tonight and tell me what tonight's weather outlook is.\n",
      "Check the weather for the 4th of July and send a text to Grandpa to invite him over and tell him the weather.\n",
      "Set a timer for one hour and text Stacy that dinner will be ready in one hour.\n",
      "If the weather is cold tomorrow please remind me to grab my winter jacket.\n",
      "What is the weather going to be at 5:00 PM today and navigate destination set to home after 5:00 PM.\n",
      "If it's snowing in Boulder, Colorado by 6pm, text Lauren to tell her to let the dog inside.\n",
      "Text my brother I am on my way and also tell me the current traffic conditions.\n",
      "Start my shower playlist and text Lucas that I'm just now getting in the shower and it will be 15 or 20 minutes until I'm out.\n",
      "Tell Abe to pick up bread on his way home and set a timer for 60 minutes.\n",
      "Check the weather in Indianapolis, and if it's sunny, text Bob to remind him about the concert today.\n",
      "Give me directions to the nearest movie theater and text Mike to meet me there in a half hour.\n",
      "Set alarm for 6 AM and set the bedroom lights to turn on at 6 AM.\n",
      "If the weather is nice tomorrow, text Jenny if she would like to go to the park\n",
      "Send Tyler a text saying hi and send one to Susan too.\n",
      "Set timer for one hour labeled workout and start playing my music playlist titled workout tunes.\n",
      "Turn on the living room lights and navigate Home.\n",
      "Look up directions to the Sushi House and text my mom, telling her that I'm leaving soon\n",
      "Add eggs to my shopping list and text Steve to please buy eggs at the grocery store.\n",
      "If I receive a text from Ruby tonight, change my alarm to 7am.\n",
      "Add Jake's birthday party to the calendar for 7pm Saturday then send an email to Tom are you going to the party?\n",
      "Buy tickets to Black Adam and email the pdf of the tickets to Carlos.\n",
      "Look up what the weather will be like tomorrow, if it's not raining, message my sister saying we should go out for lunch tomorrow.\n",
      "If I don't have anything scheduled on the 20th of this month on my calendar, message Alice and ask if she wants to go dinner.\n",
      "Set the A/C to 72 degrees and set a timer for 30 minutes.\n",
      "Buy a ticket for the new Wakanda movie, What is Friday's weather going to be like?\n",
      "Set a timer for 5 minutes and then when the timer is up send a message to Justin, telling him I am finished with the job.\n",
      "Find the nearest In N Out and send a text to Bryan asking for his order.\n",
      "Set a timer for 6 AM to wake up, also set the thermostat to turn up the temperature by 5 degrees at 6 AM.\n",
      "Set a reminder at 3:00 PM that I will need to pick up my items from the store, and text Jason to meet me at the store at 2:50 PM.\n",
      "Set the thermostat to 70 degrees and play my romantic playlist.\n",
      "Remind me to send an email to Mom and Dad tomorrow and delete the appointment in my calendar for Tuesday.\n",
      "If Walmart has Jurassic World on bluray, buy it so I can pick it up tomorrow morning.\n",
      "Get directions to Portland, and tell me if it will snow along the route in the next hour\n",
      "Check the weather and text Mike that I will meet them later if it's hot.\n",
      "If the weather is going to be sunny Saturday morning, send an email to Ashley asking if she wants to go for a hike.\n",
      "Send a message to my friends list on Monday telling them to remember to vote and set a reminder to me too.\n",
      "Show me all of the musical events within 10 miles of me.\n",
      "Play my favorite music playlist and tell John I am running late and will be there soon.\n",
      "Look up current prices for Chicago Blackhawks tickets for tomorrow's game and tell me what the traffic conditions will be like around 5 PM\n",
      "Set timer to 30 mins and remind me to take the fish out of the oven.\n",
      "Check the weather and if it's above 80 degrees, set a reminder on my calendar for \"Go to the park later\"\n",
      "Remind me on Sunday about my doctor's appointment next Monday and give me directions to the doctor's office.\n",
      "For Shakey Graves' upcoming summer tour, what will be the closest show to me and how many miles away is the venue?\n",
      "If I get a text message from my boss Tony, then check my mail to see if I have any emails from work.\n",
      "If I get a text message from my boss Tony, then check my mail to see if I have any emails from work.\n",
      "Check the weather for next tuesday and create a beach day event on my calendar if the temperature is above 90 degrees.\n",
      "Message my brother I will not be able to make it to his house for dinner because of a flat tire, also look up tire repair places nearby.\n",
      "Set a timer for 3:00 PM then enable home security alarm system to stay on until 8:00 PM\n",
      "If it starts raining between 3pm-5pm, turn the thermostat up to 73 degrees.\n",
      "Show me a map of downtown Phoenix and give me directions to the airport.\n",
      "Play my lofi Spotify playlist and buy tickets to the upcoming Joji show.\n",
      "Check if it's supposed to rain tonight and if it's not text Brian that I want to go out tonight\n",
      "Look up free events for this weekend and let me know what the weather will be.\n"
     ]
    }
   ],
   "source": [
    "for row in df.iterrows():\n",
    "    print(row[1]['text'])"
   ]
  },
  {
   "cell_type": "code",
   "execution_count": 19,
   "metadata": {},
   "outputs": [
    {
     "data": {
      "text/plain": [
       "\"[ Module [ event_names = EventName.resolve_many_from_text('free events') ] [ date_times = DateTime.resolve_many_from_text('this weekend') ] [ events = [] ] [ For [ test [ iter [ event_names ] ] [ Name [ event_name ] ] ] [ body [ For [ test [ iter [ date_times ] ] [ Name [ date_time ] ] ] [ body [ events += Calendar.find_events(event_name=event_name, date_time=date_time) ] ] ] ] ] [ Responder.respond(response=events) ] [ weather_forecasts = Weather.find_weather_forecasts() ] [ Responder.respond(response=weather_forecasts) ] ]\""
      ]
     },
     "execution_count": 19,
     "metadata": {},
     "output_type": "execute_result"
    }
   ],
   "source": [
    "text = df.iloc[-1]['code_rep']\n",
    "text"
   ]
  },
  {
   "cell_type": "code",
   "execution_count": 20,
   "metadata": {},
   "outputs": [
    {
     "name": "stdout",
     "output_type": "stream",
     "text": [
      "event_names = EventName.resolve_many_from_text(\"free events\")\n",
      "date_times = DateTime.resolve_many_from_text(\"this weekend\")\n",
      "events = []\n",
      "for event_name in event_names:\n",
      "    for date_time in date_times:\n",
      "        events += Calendar.find_events(event_name=event_name, date_time=date_time)\n",
      "Responder.respond(response=events)\n",
      "\n",
      "weather_forecasts = Weather.find_weather_forecasts()\n",
      "Responder.respond(response=weather_forecasts)\n",
      "\n"
     ]
    }
   ],
   "source": [
    "print(df.iloc[-1]['code'])"
   ]
  },
  {
   "cell_type": "code",
   "execution_count": 21,
   "metadata": {},
   "outputs": [
    {
     "name": "stdout",
     "output_type": "stream",
     "text": [
      "\t[ Module\n",
      "\t\t[ event_names = EventName.resolve_many_from_text('free events') ]\n",
      "\t\t[ date_times = DateTime.resolve_many_from_text('this weekend') ]\n",
      "\t\t[ events = [] ]\n",
      "\t\t[ For\n",
      "\t\t\t[ test\n",
      "\t\t\t\t[ iter\n",
      "\t\t\t\t\t[ event_names ]\n",
      "\t\t\t\t]\n",
      "\t\t\t\t[ Name\n",
      "\t\t\t\t\t[ event_name ]\n",
      "\t\t\t\t]\n",
      "\t\t\t]\n",
      "\t\t\t[ body\n",
      "\t\t\t\t[ For\n",
      "\t\t\t\t\t[ test\n",
      "\t\t\t\t\t\t[ iter\n",
      "\t\t\t\t\t\t\t[ date_times ]\n",
      "\t\t\t\t\t\t]\n",
      "\t\t\t\t\t\t[ Name\n",
      "\t\t\t\t\t\t\t[ date_time ]\n",
      "\t\t\t\t\t\t]\n",
      "\t\t\t\t\t]\n",
      "\t\t\t\t\t[ body\n",
      "\t\t\t\t\t\t[ events += Calendar.find_events(event_name=event_name, date_time=date_time) ]\n",
      "\t\t\t\t\t]\n",
      "\t\t\t\t]\n",
      "\t\t\t]\n",
      "\t\t]\n",
      "\t\t[ Responder.respond(response=events) ]\n",
      "\t\t[ weather_forecasts = Weather.find_weather_forecasts() ]\n",
      "\t\t[ Responder.respond(response=weather_forecasts) ]\n",
      "\t]\n",
      "\n"
     ]
    }
   ],
   "source": [
    "tree = Tree.unparse(text)#.replace('[]', ''))\n",
    "print(tree)"
   ]
  },
  {
   "cell_type": "code",
   "execution_count": 23,
   "metadata": {},
   "outputs": [
    {
     "name": "stdout",
     "output_type": "stream",
     "text": [
      "event_names = EventName.resolve_many_from_text('free events')\n",
      "date_times = DateTime.resolve_many_from_text('this weekend')\n",
      "events = []\n",
      "for event_name in event_names:\n",
      "    for date_time in date_times:\n",
      "        events += Calendar.find_events(event_name=event_name, date_time=date_time)\n",
      "Responder.respond(response=events)\n",
      "weather_forecasts = Weather.find_weather_forecasts()\n",
      "Responder.respond(response=weather_forecasts)\n"
     ]
    }
   ],
   "source": [
    "tearer = TearerFactory().get_tearer(tree.root_node)\n",
    "asdl2 = tearer.tear(tree.root_node)\n",
    "x = ast.unparse(asdl2)\n",
    "print(x)"
   ]
  },
  {
   "cell_type": "code",
   "execution_count": 60,
   "metadata": {},
   "outputs": [],
   "source": [
    "from main_representations import (\n",
    "    generate_text_representation,\n",
    "    generate_code_representation,\n",
    ")\n",
    "\n",
    "code = df.iloc[-1]['code']\n",
    "\n",
    "rep_code = generate_code_representation(\n",
    "    code, rules_enabled=False\n",
    ")\n",
    "\n"
   ]
  },
  {
   "cell_type": "code",
   "execution_count": 65,
   "metadata": {},
   "outputs": [
    {
     "name": "stdout",
     "output_type": "stream",
     "text": [
      "<bound method Kernel.raw_input of <ipykernel.ipkernel.IPythonKernel object at 0x106248be0>>\n"
     ]
    },
    {
     "ename": "TypeError",
     "evalue": "__repr__ returned non-string (type Node)",
     "output_type": "error",
     "traceback": [
      "\u001b[0;31m---------------------------------------------------------------------------\u001b[0m",
      "\u001b[0;31mTypeError\u001b[0m                                 Traceback (most recent call last)",
      "Cell \u001b[0;32mIn[65], line 1\u001b[0m\n\u001b[0;32m----> 1\u001b[0m \u001b[39mprint\u001b[39;49m(rep_code)\n",
      "\u001b[0;31mTypeError\u001b[0m: __repr__ returned non-string (type Node)"
     ]
    }
   ],
   "source": [
    "print(rep_code)"
   ]
  },
  {
   "cell_type": "code",
   "execution_count": null,
   "metadata": {},
   "outputs": [],
   "source": []
  }
 ],
 "metadata": {
  "kernelspec": {
   "display_name": "Python [conda env:biu] *",
   "language": "python",
   "name": "conda-env-biu-py"
  },
  "language_info": {
   "codemirror_mode": {
    "name": "ipython",
    "version": 3
   },
   "file_extension": ".py",
   "mimetype": "text/x-python",
   "name": "python",
   "nbconvert_exporter": "python",
   "pygments_lexer": "ipython3",
   "version": "3.9.15"
  },
  "orig_nbformat": 4,
  "vscode": {
   "interpreter": {
    "hash": "832bbbc2a125df8952d7d7b6771a28c0a342f09abf8099de6754012315c42728"
   }
  }
 },
 "nbformat": 4,
 "nbformat_minor": 2
}
