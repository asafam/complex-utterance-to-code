{
 "cells": [
  {
   "cell_type": "code",
   "execution_count": 1,
   "metadata": {},
   "outputs": [],
   "source": [
    "import sys\n",
    "import os \n",
    "\n",
    "path = '../src/'\n",
    "path = os.path.normcase(path)\n",
    "if not any(os.path.normcase(sp) == path for sp in sys.path):\n",
    "    sys.path.append(path)"
   ]
  },
  {
   "cell_type": "code",
   "execution_count": 2,
   "metadata": {},
   "outputs": [],
   "source": [
    "path = '/Users/asaf/Workspace/biu/complex-utterance-to-code-api/api/v6'\n",
    "path = os.path.normcase(path)\n",
    "if not any(os.path.normcase(sp) == path for sp in sys.path):\n",
    "    sys.path.append(path)"
   ]
  },
  {
   "cell_type": "code",
   "execution_count": 3,
   "metadata": {},
   "outputs": [],
   "source": [
    "import pandas as pd"
   ]
  },
  {
   "cell_type": "code",
   "execution_count": 4,
   "metadata": {},
   "outputs": [],
   "source": [
    "# load data from file\n",
    "df = pd.read_csv('../data/eval_complex_utterance_to_code_with_intermediate_20230414.csv.gz', compression='gzip')"
   ]
  },
  {
   "cell_type": "code",
   "execution_count": 12,
   "metadata": {},
   "outputs": [
    {
     "data": {
      "text/plain": [
       "test_id                                                      7\n",
       "sample_id                                                    7\n",
       "text         Remind me tomorrow to email Jim about lunch an...\n",
       "code         date_time = DateTime.resolve_from_text(\"tomorr...\n",
       "test         # test data\\ndata_model = DataModel(reset=True...\n",
       "imports      from entities.generic import *\\nfrom entities....\n",
       "test_b                                                     NaN\n",
       "lang_rep     [ root [ S [ Command [ Action [ hd [ Remind ] ...\n",
       "code_rep                                                   NaN\n",
       "Name: 6, dtype: object"
      ]
     },
     "execution_count": 12,
     "metadata": {},
     "output_type": "execute_result"
    }
   ],
   "source": [
    "row = df.iloc[6]\n",
    "row"
   ]
  },
  {
   "cell_type": "code",
   "execution_count": 13,
   "metadata": {},
   "outputs": [
    {
     "name": "stdout",
     "output_type": "stream",
     "text": [
      "Remind me tomorrow to email Jim about lunch and schedule a reservation for noon at the cafe.\n"
     ]
    }
   ],
   "source": [
    "print(row['text'])"
   ]
  },
  {
   "cell_type": "code",
   "execution_count": 14,
   "metadata": {},
   "outputs": [],
   "source": [
    "code_insert_idx = row['test'].find('# end code block to test')\n",
    "program_code = row['imports']\n",
    "program_code += '\\n'\n",
    "program_code += row['test'][:code_insert_idx]\n",
    "program_code += row['code']\n",
    "program_code += row['test'][code_insert_idx:]"
   ]
  },
  {
   "cell_type": "code",
   "execution_count": 15,
   "metadata": {},
   "outputs": [],
   "source": [
    "# print(program_code)"
   ]
  },
  {
   "cell_type": "code",
   "execution_count": 16,
   "metadata": {},
   "outputs": [
    {
     "ename": "ValueError",
     "evalue": "",
     "output_type": "error",
     "traceback": [
      "\u001b[0;31m---------------------------------------------------------------------------\u001b[0m",
      "\u001b[0;31mValueError\u001b[0m                                Traceback (most recent call last)",
      "Cell \u001b[0;32mIn[16], line 2\u001b[0m\n\u001b[1;32m      1\u001b[0m \u001b[39mtry\u001b[39;00m:\n\u001b[0;32m----> 2\u001b[0m     exec(program_code)\n\u001b[1;32m      3\u001b[0m \u001b[39mexcept\u001b[39;00m \u001b[39mAssertionError\u001b[39;00m \u001b[39mas\u001b[39;00m e:\n\u001b[1;32m      4\u001b[0m     \u001b[39mprint\u001b[39m(\u001b[39m\"\u001b[39m\u001b[39merror: \u001b[39m\u001b[39m\"\u001b[39m, e)\n",
      "File \u001b[0;32m<string>:41\u001b[0m\n",
      "File \u001b[0;32m~/Workspace/biu/complex-utterance-to-code-api/api/v6/entities/resolvable.py:27\u001b[0m, in \u001b[0;36mResolvable.resolve_from_text\u001b[0;34m(T, text, recovered_text)\u001b[0m\n\u001b[1;32m     24\u001b[0m items \u001b[39m=\u001b[39m [x \u001b[39mfor\u001b[39;00m x \u001b[39min\u001b[39;00m data \u001b[39mif\u001b[39;00m x\u001b[39m.\u001b[39mdata\u001b[39m.\u001b[39mget(\u001b[39m\"\u001b[39m\u001b[39mtext\u001b[39m\u001b[39m\"\u001b[39m) \u001b[39m==\u001b[39m text]\n\u001b[1;32m     26\u001b[0m \u001b[39mif\u001b[39;00m \u001b[39mlen\u001b[39m(items) \u001b[39m==\u001b[39m \u001b[39m0\u001b[39m:\n\u001b[0;32m---> 27\u001b[0m     \u001b[39mraise\u001b[39;00m \u001b[39mValueError\u001b[39;00m()\n\u001b[1;32m     28\u001b[0m \u001b[39melse\u001b[39;00m:\n\u001b[1;32m     29\u001b[0m     result \u001b[39m=\u001b[39m items[\u001b[39m0\u001b[39m]\n",
      "\u001b[0;31mValueError\u001b[0m: "
     ]
    }
   ],
   "source": [
    "try:\n",
    "    exec(program_code)\n",
    "except AssertionError as e:\n",
    "    print(\"error: \", e)"
   ]
  },
  {
   "cell_type": "code",
   "execution_count": null,
   "metadata": {},
   "outputs": [],
   "source": []
  }
 ],
 "metadata": {
  "kernelspec": {
   "display_name": "Python 3.9.15 ('biu')",
   "language": "python",
   "name": "python3"
  },
  "language_info": {
   "codemirror_mode": {
    "name": "ipython",
    "version": 3
   },
   "file_extension": ".py",
   "mimetype": "text/x-python",
   "name": "python",
   "nbconvert_exporter": "python",
   "pygments_lexer": "ipython3",
   "version": "3.9.15"
  },
  "orig_nbformat": 4,
  "vscode": {
   "interpreter": {
    "hash": "832bbbc2a125df8952d7d7b6771a28c0a342f09abf8099de6754012315c42728"
   }
  }
 },
 "nbformat": 4,
 "nbformat_minor": 2
}
